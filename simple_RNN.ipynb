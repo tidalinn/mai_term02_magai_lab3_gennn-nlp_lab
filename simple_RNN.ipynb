{
 "cells": [
  {
   "cell_type": "markdown",
   "id": "be80210a",
   "metadata": {},
   "source": [
    "<h1>Содержание<span class=\"tocSkip\"></span></h1>\n",
    "<br>\n",
    "<div class=\"toc\">\n",
    "    <ul class=\"toc-item\">\n",
    "        <li>\n",
    "            <span>\n",
    "                <a href=\"#1-Подготовка-окружения\">\n",
    "                    <span class=\"toc-item-num\">1&nbsp;&nbsp;</span>\n",
    "                    Подготовка окружения\n",
    "                </a>\n",
    "            </span>\n",
    "        </li>\n",
    "        <li>\n",
    "            <span>\n",
    "                <a href=\"#2-Загрузка-данных\">\n",
    "                    <span class=\"toc-item-num\">2&nbsp;&nbsp;</span>\n",
    "                    Загрузка данных\n",
    "                </a>\n",
    "            </span>\n",
    "        </li>\n",
    "        <li>\n",
    "            <span>\n",
    "                <a href=\"#3-Simple-RNN\">\n",
    "                    <span class=\"toc-item-num\">3&nbsp;&nbsp;</span>\n",
    "                    Simple RNN\n",
    "                </a>\n",
    "            </span>\n",
    "        </li>\n",
    "        <li>\n",
    "            <span>\n",
    "                <a href=\"#4-Общий-вывод\">\n",
    "                    <span class=\"toc-item-num\">4&nbsp;&nbsp;</span>\n",
    "                    Общий вывод\n",
    "                </a>\n",
    "            </span>\n",
    "        </li>\n",
    "    </ul>\n",
    "</div>"
   ]
  },
  {
   "cell_type": "markdown",
   "id": "7e9d4a79",
   "metadata": {},
   "source": [
    "# Генеративные текстовые нейросети | Simple RNN"
   ]
  },
  {
   "cell_type": "markdown",
   "id": "7ef168b4",
   "metadata": {},
   "source": [
    "**Постановка задачи:** натренировать и сравнить качество нескольких генеративных текстовых моделей на одном из заданных текстовых датасетов.\n",
    "\n",
    "**Источник данных:** [Harry Potter and the Methods of Rationality](https://hpmor.ru/).\n",
    "\n",
    "**Характер данных:** текст книги \"Гарри Поттер и методы рационального мышления\".\n",
    "\n",
    "**Основные этапы:** исследовать следующие нейросетевые архитектуры:\n",
    "\n",
    "1. Simple RNN с посимвольной и пословной токенизацией.\n",
    "2. Однонаправленная однослойная и многослойная LSTM c посимвольной токенизацией и токенизацией по словам и [на основе BPE](https://keras.io/api/keras_nlp/tokenizers/byte_pair_tokenizer/).\n",
    "3. Двунаправленная LSTM.\n",
    "4. *(На хорошую оценку)* трансформерная архитектура (GPT) \"с нуля\" [пример](https://keras.io/examples/generative/text_generation_gpt/).\n",
    "5. *(На отличную оценку)* дообучение предобученной GPT-сети [пример](https://github.com/ZotovaElena/RuGPT3_finetuning)."
   ]
  },
  {
   "cell_type": "markdown",
   "id": "93068be0",
   "metadata": {},
   "source": [
    "<div style=\"background-color: blue; height: 2px; margin: 10px 0;\"></div>"
   ]
  },
  {
   "cell_type": "markdown",
   "id": "05c47d07",
   "metadata": {},
   "source": [
    "# Реализации\n",
    "\n",
    "1. Simple RNN (текущий файл)\n",
    "2. [Однонаправленная LSTM + BPE](https://github.com/MAILabs-Edu-2023/magai_lab3_gennn-nlp_lab/blob/main/unidirectional_LSTM_BPE.ipynb)\n",
    "3. [Двунаправленная LSTM](https://github.com/MAILabs-Edu-2023/magai_lab3_gennn-nlp_lab/blob/main/bidirectional_LSTM.ipynb)\n",
    "4. [Архитектура GPT](https://github.com/MAILabs-Edu-2023/magai_lab3_gennn-nlp_lab/blob/main/GPT_architecture.ipynb)\n",
    "5. [Дообучение GPT](https://github.com/MAILabs-Edu-2023/magai_lab3_gennn-nlp_lab/blob/main/GPT_finetuning.ipynb)"
   ]
  },
  {
   "cell_type": "markdown",
   "id": "f83f3ad7",
   "metadata": {},
   "source": [
    "<div style=\"background-color: blue; height: 2px; margin: 10px 0;\"></div>"
   ]
  },
  {
   "cell_type": "markdown",
   "id": "ec375e8c",
   "metadata": {},
   "source": [
    "## 1 Подготовка окружения"
   ]
  },
  {
   "cell_type": "markdown",
   "id": "ab776f3a",
   "metadata": {},
   "source": []
  },
  {
   "cell_type": "code",
   "execution_count": 1,
   "id": "b36f8163",
   "metadata": {},
   "outputs": [],
   "source": [
    "%%capture --no-display\n",
    "!pip install requests beautifulsoup4 pydot pydotplus ipywidgets"
   ]
  },
  {
   "cell_type": "markdown",
   "id": "5d858773",
   "metadata": {},
   "source": []
  },
  {
   "cell_type": "code",
   "execution_count": 2,
   "id": "13be500e",
   "metadata": {},
   "outputs": [],
   "source": [
    "import numpy as np\n",
    "import pandas as pd\n",
    "\n",
    "import matplotlib.pyplot as plt \n",
    "\n",
    "from typing import Tuple\n",
    "import requests\n",
    "import os\n",
    "import itertools\n",
    "import re\n",
    "\n",
    "from bs4 import BeautifulSoup\n",
    "\n",
    "import tensorflow as tf\n",
    "from tensorflow import keras\n",
    "from tensorflow.keras.layers import Dense, LSTM, Embedding\n",
    "from keras.utils import plot_model"
   ]
  },
  {
   "cell_type": "markdown",
   "id": "65de67dc",
   "metadata": {},
   "source": [
    "<div style=\"background-color: blue; height: 2px; margin: 10px 0;\"></div>"
   ]
  },
  {
   "cell_type": "markdown",
   "id": "57eb7e1e",
   "metadata": {},
   "source": [
    "## 2 Загрузка данных"
   ]
  },
  {
   "cell_type": "markdown",
   "id": "7f06f015",
   "metadata": {},
   "source": []
  },
  {
   "cell_type": "code",
   "execution_count": 3,
   "id": "73dc1657",
   "metadata": {},
   "outputs": [],
   "source": [
    "def request_url(url: str) -> BeautifulSoup:\n",
    "    request = requests.get(url)\n",
    "    soup = BeautifulSoup(request.content, 'html.parser')\n",
    "    return soup"
   ]
  },
  {
   "cell_type": "markdown",
   "id": "2bd766c7",
   "metadata": {},
   "source": []
  },
  {
   "cell_type": "code",
   "execution_count": 4,
   "id": "3d967f1b",
   "metadata": {},
   "outputs": [],
   "source": [
    "def get_url_data(url: str) -> list:\n",
    "    soup = request_url(url)\n",
    "    scrapped_text = []\n",
    "    \n",
    "    h1 = soup.h1.text.strip().lower()\n",
    "    p = soup.find_all('p')\n",
    "    \n",
    "    scrapped_text.append(h1)\n",
    "    scrapped_text.extend([p_i.text.strip().lower() for p_i in p])\n",
    "    \n",
    "    return scrapped_text"
   ]
  },
  {
   "cell_type": "markdown",
   "id": "5c09a260",
   "metadata": {},
   "source": []
  },
  {
   "cell_type": "code",
   "execution_count": 5,
   "id": "42d281b7",
   "metadata": {
    "scrolled": true
   },
   "outputs": [],
   "source": [
    "def get_data(url: str) -> list:\n",
    "    soup = request_url(url)\n",
    "    text = []\n",
    "    \n",
    "    text.extend([\n",
    "        soup.h1.text.strip().lower() + '.',\n",
    "        soup.h2.text.strip().lower() + '.',\n",
    "        soup.article.p.text.strip().lower()\n",
    "    ])\n",
    "    \n",
    "    url_chapters = [link.get('href') for link in soup.find_all('a', class_='link')]\n",
    "    \n",
    "    for url in url_chapters:\n",
    "        scrapped_text = get_url_data(url)\n",
    "        text.extend(scrapped_text)\n",
    "        \n",
    "    text = ' '.join(text)\n",
    "    \n",
    "    return text"
   ]
  },
  {
   "cell_type": "markdown",
   "id": "f184b4a5",
   "metadata": {},
   "source": [
    "---"
   ]
  },
  {
   "cell_type": "markdown",
   "id": "ac13dfc5",
   "metadata": {},
   "source": []
  },
  {
   "cell_type": "code",
   "execution_count": 6,
   "id": "8101618f",
   "metadata": {},
   "outputs": [],
   "source": [
    "if os.path.isdir('data/') == False:\n",
    "    os.mkdir('data/')"
   ]
  },
  {
   "cell_type": "markdown",
   "id": "e71d2477",
   "metadata": {},
   "source": []
  },
  {
   "cell_type": "code",
   "execution_count": 7,
   "id": "841f3e51",
   "metadata": {},
   "outputs": [],
   "source": [
    "path_file = 'data/hpmor.txt'"
   ]
  },
  {
   "cell_type": "markdown",
   "id": "c6407b54",
   "metadata": {},
   "source": []
  },
  {
   "cell_type": "code",
   "execution_count": 8,
   "id": "7e22b8bd",
   "metadata": {},
   "outputs": [
    {
     "name": "stdout",
     "output_type": "stream",
     "text": [
      "Uploaded from data/hpmor.txt\n"
     ]
    }
   ],
   "source": [
    "try:\n",
    "    with open(path_file, 'r', encoding='utf-8') as file:\n",
    "        text = file.read()\n",
    "    \n",
    "    print('Uploaded from', path_file)\n",
    "    \n",
    "except:\n",
    "    text = get_data('https://hpmor.ru/')\n",
    "    \n",
    "    with open(path_file, 'w', encoding='utf-8') as file:\n",
    "        file.write(text)\n",
    "    \n",
    "    print('Saved to', path_file)"
   ]
  },
  {
   "cell_type": "markdown",
   "id": "0067e1d5",
   "metadata": {},
   "source": []
  },
  {
   "cell_type": "code",
   "execution_count": 9,
   "id": "deec20f6",
   "metadata": {},
   "outputs": [
    {
     "data": {
      "text/plain": [
       "'гарри поттер и методы рационального мышления. элиезер юдковский (less wrong). петуния вышла замуж не за дурсля, а за университетского профессора, и гарри попал в гораздо более благоприятную среду. у него были частные учителя, дискуссии с отцом, а главное — книги, сотни и тысячи научных и фантастических книг. в 11 лет гарри знаком с квантовой механикой, когнитивной психологией, теорией вероятностей и другими вещами. но гарри не просто вундеркинд, у него есть загадочная тёмная сторона, которая явн'"
      ]
     },
     "execution_count": 9,
     "metadata": {},
     "output_type": "execute_result"
    }
   ],
   "source": [
    "text[:500]"
   ]
  },
  {
   "cell_type": "markdown",
   "id": "3d1d88a0",
   "metadata": {},
   "source": []
  },
  {
   "cell_type": "code",
   "execution_count": 10,
   "id": "49d0344c",
   "metadata": {},
   "outputs": [
    {
     "name": "stdout",
     "output_type": "stream",
     "text": [
      "Total words: 559855\n"
     ]
    }
   ],
   "source": [
    "print('Всего слов:', len(text.split(' ')))"
   ]
  },
  {
   "cell_type": "markdown",
   "id": "1e1b88fc",
   "metadata": {},
   "source": [
    "<div style=\"background-color: blue; height: 2px; margin: 10px 0;\"></div>"
   ]
  },
  {
   "cell_type": "markdown",
   "id": "66105900",
   "metadata": {},
   "source": [
    "## 3 Simple RNN"
   ]
  },
  {
   "cell_type": "markdown",
   "id": "162311c6",
   "metadata": {},
   "source": []
  },
  {
   "cell_type": "code",
   "execution_count": 11,
   "id": "c5610ea4",
   "metadata": {},
   "outputs": [],
   "source": [
    "vocabulary = np.array(sorted(set(text)))"
   ]
  },
  {
   "cell_type": "markdown",
   "id": "fbc402df",
   "metadata": {},
   "source": []
  },
  {
   "cell_type": "code",
   "execution_count": 12,
   "id": "6f687874",
   "metadata": {},
   "outputs": [
    {
     "data": {
      "text/plain": [
       "array(['\\n', ' ', '!', '#', '$', '%', '&', '(', ')', '*', '+', ',', '-',\n",
       "       '.', '/', '0', '1', '2', '3', '4', '5', '6', '7', '8', '9', ':',\n",
       "       ';', '=', '?', '[', '\\\\', ']', '_', 'a', 'b', 'c', 'd', 'e', 'f',\n",
       "       'g', 'h', 'i', 'j', 'k', 'l', 'm', 'n', 'o', 'p', 'q', 'r', 's',\n",
       "       't', 'u', 'v', 'w', 'x', 'y', 'z', '«', '»', '×', 'é', 'ð', 'ó',\n",
       "       'þ', '́', 'а', 'б', 'в', 'г', 'д', 'е', 'ж', 'з', 'и', 'й', 'к',\n",
       "       'л', 'м', 'н', 'о', 'п', 'р', 'с', 'т', 'у', 'ф', 'х', 'ц', 'ч',\n",
       "       'ш', 'щ', 'ъ', 'ы', 'ь', 'э', 'ю', 'я', 'ё', 'ѝ', '–', '—', '’',\n",
       "       '“', '”', '„', '…', '№', '∀', '∄', '−'], dtype='<U1')"
      ]
     },
     "execution_count": 12,
     "metadata": {},
     "output_type": "execute_result"
    }
   ],
   "source": [
    "vocabulary"
   ]
  },
  {
   "cell_type": "markdown",
   "id": "67975f35",
   "metadata": {},
   "source": []
  },
  {
   "cell_type": "code",
   "execution_count": 13,
   "id": "75b3caf5",
   "metadata": {},
   "outputs": [],
   "source": [
    "tokenizer = {char: i for i, char in enumerate(vocabulary)}"
   ]
  },
  {
   "cell_type": "markdown",
   "id": "5dc1403c",
   "metadata": {},
   "source": []
  },
  {
   "cell_type": "code",
   "execution_count": 14,
   "id": "3c45dbb9",
   "metadata": {},
   "outputs": [
    {
     "data": {
      "text/plain": [
       "{'\\n': 0,\n",
       " ' ': 1,\n",
       " '!': 2,\n",
       " '#': 3,\n",
       " '$': 4,\n",
       " '%': 5,\n",
       " '&': 6,\n",
       " '(': 7,\n",
       " ')': 8,\n",
       " '*': 9,\n",
       " '+': 10,\n",
       " ',': 11,\n",
       " '-': 12,\n",
       " '.': 13,\n",
       " '/': 14,\n",
       " '0': 15,\n",
       " '1': 16,\n",
       " '2': 17,\n",
       " '3': 18,\n",
       " '4': 19,\n",
       " '5': 20,\n",
       " '6': 21,\n",
       " '7': 22,\n",
       " '8': 23,\n",
       " '9': 24,\n",
       " ':': 25,\n",
       " ';': 26,\n",
       " '=': 27,\n",
       " '?': 28,\n",
       " '[': 29,\n",
       " '\\\\': 30,\n",
       " ']': 31,\n",
       " '_': 32,\n",
       " 'a': 33,\n",
       " 'b': 34,\n",
       " 'c': 35,\n",
       " 'd': 36,\n",
       " 'e': 37,\n",
       " 'f': 38,\n",
       " 'g': 39,\n",
       " 'h': 40,\n",
       " 'i': 41,\n",
       " 'j': 42,\n",
       " 'k': 43,\n",
       " 'l': 44,\n",
       " 'm': 45,\n",
       " 'n': 46,\n",
       " 'o': 47,\n",
       " 'p': 48,\n",
       " 'q': 49,\n",
       " 'r': 50,\n",
       " 's': 51,\n",
       " 't': 52,\n",
       " 'u': 53,\n",
       " 'v': 54,\n",
       " 'w': 55,\n",
       " 'x': 56,\n",
       " 'y': 57,\n",
       " 'z': 58,\n",
       " '«': 59,\n",
       " '»': 60,\n",
       " '×': 61,\n",
       " 'é': 62,\n",
       " 'ð': 63,\n",
       " 'ó': 64,\n",
       " 'þ': 65,\n",
       " '́': 66,\n",
       " 'а': 67,\n",
       " 'б': 68,\n",
       " 'в': 69,\n",
       " 'г': 70,\n",
       " 'д': 71,\n",
       " 'е': 72,\n",
       " 'ж': 73,\n",
       " 'з': 74,\n",
       " 'и': 75,\n",
       " 'й': 76,\n",
       " 'к': 77,\n",
       " 'л': 78,\n",
       " 'м': 79,\n",
       " 'н': 80,\n",
       " 'о': 81,\n",
       " 'п': 82,\n",
       " 'р': 83,\n",
       " 'с': 84,\n",
       " 'т': 85,\n",
       " 'у': 86,\n",
       " 'ф': 87,\n",
       " 'х': 88,\n",
       " 'ц': 89,\n",
       " 'ч': 90,\n",
       " 'ш': 91,\n",
       " 'щ': 92,\n",
       " 'ъ': 93,\n",
       " 'ы': 94,\n",
       " 'ь': 95,\n",
       " 'э': 96,\n",
       " 'ю': 97,\n",
       " 'я': 98,\n",
       " 'ё': 99,\n",
       " 'ѝ': 100,\n",
       " '–': 101,\n",
       " '—': 102,\n",
       " '’': 103,\n",
       " '“': 104,\n",
       " '”': 105,\n",
       " '„': 106,\n",
       " '…': 107,\n",
       " '№': 108,\n",
       " '∀': 109,\n",
       " '∄': 110,\n",
       " '−': 111}"
      ]
     },
     "execution_count": 14,
     "metadata": {},
     "output_type": "execute_result"
    }
   ],
   "source": [
    "tokenizer"
   ]
  },
  {
   "cell_type": "markdown",
   "id": "7972582c",
   "metadata": {},
   "source": []
  },
  {
   "cell_type": "code",
   "execution_count": 15,
   "id": "4fa7b0e3",
   "metadata": {},
   "outputs": [],
   "source": [
    "vector = np.array([tokenizer[char] for char in text])"
   ]
  },
  {
   "cell_type": "markdown",
   "id": "1703bd9e",
   "metadata": {},
   "source": []
  },
  {
   "cell_type": "code",
   "execution_count": 16,
   "id": "f27e6d01",
   "metadata": {},
   "outputs": [
    {
     "name": "stdout",
     "output_type": "stream",
     "text": [
      "Исходный текст:\n",
      "гарри поттер и методы рационального мышления. элиезер юдковский (less wrong). петуния вышла замуж не\n",
      "\n",
      "Векторное представление:\n",
      "[70 67 83 83 75  1 82 81 85 85 72 83  1 75  1 79 72 85 81 71 94  1 83 67\n",
      " 89 75 81 80 67 78 95 80 81 70 81  1 79 94 91 78 72 80 75 98 13  1 96 78\n",
      " 75 72 74 72 83  1 97 71 77 81 69 84 77 75 76  1  7 44 37 51 51  1 55 50\n",
      " 47 46 39  8 13  1 82 72 85 86 80 75 98  1 69 94 91 78 67  1 74 67 79 86\n",
      " 73  1 80 72]\n"
     ]
    }
   ],
   "source": [
    "print('Исходный текст:\\n', text[:100], '\\n')\n",
    "print('Векторное представление:\\n', vector[:100])"
   ]
  },
  {
   "cell_type": "markdown",
   "id": "ff9adc52",
   "metadata": {},
   "source": [
    "Конвертация в тензор:"
   ]
  },
  {
   "cell_type": "code",
   "execution_count": 17,
   "id": "677ab07b",
   "metadata": {},
   "outputs": [],
   "source": [
    "vector = tf.data.Dataset.from_tensor_slices(vector)"
   ]
  },
  {
   "cell_type": "markdown",
   "id": "a30f36bb",
   "metadata": {},
   "source": []
  },
  {
   "cell_type": "code",
   "execution_count": 18,
   "id": "8c327c10",
   "metadata": {},
   "outputs": [],
   "source": [
    "# make sequences each of length 100 characters\n",
    "sequences = vector.batch(100, drop_remainder=True) "
   ]
  },
  {
   "cell_type": "markdown",
   "id": "6e555f6a",
   "metadata": {},
   "source": [
    "## Датасет"
   ]
  },
  {
   "cell_type": "markdown",
   "id": "f0836576",
   "metadata": {},
   "source": []
  },
  {
   "cell_type": "code",
   "execution_count": 19,
   "id": "f423f4cc",
   "metadata": {},
   "outputs": [],
   "source": [
    "def prepare_dataset(seq: tf.Tensor) -> Tuple[tf.Tensor, tf.Tensor]:\n",
    "    input_vector = seq[:-1]\n",
    "    target_vector = seq[1:]\n",
    "    \n",
    "    print(type(input_vector), type(target_vector))\n",
    "    return input_vector, target_vector"
   ]
  },
  {
   "cell_type": "markdown",
   "id": "bc2d9dec",
   "metadata": {},
   "source": []
  },
  {
   "cell_type": "code",
   "execution_count": 20,
   "id": "f910f9e9",
   "metadata": {},
   "outputs": [
    {
     "name": "stdout",
     "output_type": "stream",
     "text": [
      "<class 'tensorflow.python.framework.ops.Tensor'> <class 'tensorflow.python.framework.ops.Tensor'>\n"
     ]
    }
   ],
   "source": [
    "dataset = sequences.map(prepare_dataset)"
   ]
  },
  {
   "cell_type": "markdown",
   "id": "0fc80ddf",
   "metadata": {},
   "source": []
  },
  {
   "cell_type": "code",
   "execution_count": 21,
   "id": "3cc18a85",
   "metadata": {},
   "outputs": [
    {
     "name": "stdout",
     "output_type": "stream",
     "text": [
      "Векторное представление:\n",
      "[70 67 83 83 75  1 82 81 85 85 72 83  1 75  1 79 72 85 81 71 94  1 83 67\n",
      " 89 75 81 80 67 78 95 80 81 70 81  1 79 94 91 78 72 80 75 98 13  1 96 78\n",
      " 75 72 74 72 83  1 97 71 77 81 69 84 77 75 76  1  7 44 37 51 51  1 55 50\n",
      " 47 46 39  8 13  1 82 72 85 86 80 75 98  1 69 94 91 78 67  1 74 67 79 86\n",
      " 73  1 80]\n",
      "[67 83 83 75  1 82 81 85 85 72 83  1 75  1 79 72 85 81 71 94  1 83 67 89\n",
      " 75 81 80 67 78 95 80 81 70 81  1 79 94 91 78 72 80 75 98 13  1 96 78 75\n",
      " 72 74 72 83  1 97 71 77 81 69 84 77 75 76  1  7 44 37 51 51  1 55 50 47\n",
      " 46 39  8 13  1 82 72 85 86 80 75 98  1 69 94 91 78 67  1 74 67 79 86 73\n",
      "  1 80 72]\n",
      "\n",
      "Перевод в текст:\n",
      "'гарри поттер и методы рационального мышления. элиезер юдковский (less wrong). петуния вышла замуж н'\n",
      "'арри поттер и методы рационального мышления. элиезер юдковский (less wrong). петуния вышла замуж не'\n"
     ]
    }
   ],
   "source": [
    "for vector_single, target_single in dataset.take(1):\n",
    "    print('Векторное представление:')\n",
    "    print(vector_single.numpy())\n",
    "    print(target_single.numpy())\n",
    "    \n",
    "    vector_single_text = ''.join(vocabulary[vector_single])\n",
    "    target_single_text = ''.join(vocabulary[target_single])\n",
    "    \n",
    "    print('\\nПеревод в текст:')\n",
    "    print(repr(vector_single_text))\n",
    "    print(repr(target_single_text))"
   ]
  },
  {
   "cell_type": "markdown",
   "id": "41fcf3ae",
   "metadata": {},
   "source": [
    "## Батчи"
   ]
  },
  {
   "cell_type": "markdown",
   "id": "64d4a8d6",
   "metadata": {},
   "source": []
  },
  {
   "cell_type": "code",
   "execution_count": 22,
   "id": "82818021",
   "metadata": {},
   "outputs": [
    {
     "name": "stdout",
     "output_type": "stream",
     "text": [
      "Батчей в 1 эпохе: 563\n"
     ]
    }
   ],
   "source": [
    "AUTOTUNE = tf.data.AUTOTUNE\n",
    "BATCH_SIZE = 64\n",
    "BATCHES_PER_EPOCH = len(sequences) // BATCH_SIZE\n",
    "\n",
    "print('Батчей в 1 эпохе:', BATCHES_PER_EPOCH)"
   ]
  },
  {
   "cell_type": "markdown",
   "id": "92a48d54",
   "metadata": {},
   "source": []
  },
  {
   "cell_type": "code",
   "execution_count": 23,
   "id": "cc536174",
   "metadata": {},
   "outputs": [],
   "source": [
    "data = dataset.batch(BATCH_SIZE, drop_remainder=True).repeat()\n",
    "data = data.prefetch(AUTOTUNE)"
   ]
  },
  {
   "cell_type": "markdown",
   "id": "073947f0",
   "metadata": {},
   "source": []
  },
  {
   "cell_type": "code",
   "execution_count": 24,
   "id": "496ae3e0",
   "metadata": {},
   "outputs": [
    {
     "name": "stdout",
     "output_type": "stream",
     "text": [
      "Размерность входящей последовательности: (64, 99)\n",
      "Размерность целевой последовательности: (64, 99)\n"
     ]
    }
   ],
   "source": [
    "for vector_single, target_single in data.take(1):\n",
    "    print('Размерность входящей последовательности:', vector_single.numpy().shape)\n",
    "    print('Размерность целевой последовательности:', target_single.numpy().shape)"
   ]
  },
  {
   "cell_type": "markdown",
   "id": "ee98a554",
   "metadata": {},
   "source": []
  },
  {
   "cell_type": "code",
   "execution_count": 25,
   "id": "50b76fa6",
   "metadata": {},
   "outputs": [],
   "source": [
    "rnn = keras.Sequential([\n",
    "    Embedding(len(vocabulary), BATCH_SIZE, batch_input_shape=[BATCH_SIZE, None]),\n",
    "    # LSTM RNN layers\n",
    "    LSTM(512, return_sequences=True, stateful=True),\n",
    "    LSTM(512, return_sequences=True, stateful=True),\n",
    "    # Classification head\n",
    "    Dense(len(vocabulary))\n",
    "])"
   ]
  },
  {
   "cell_type": "markdown",
   "id": "9590f5d1",
   "metadata": {},
   "source": []
  },
  {
   "cell_type": "code",
   "execution_count": 26,
   "id": "c4f646f2",
   "metadata": {},
   "outputs": [
    {
     "name": "stdout",
     "output_type": "stream",
     "text": [
      "Model: \"sequential\"\n",
      "_________________________________________________________________\n",
      " Layer (type)                Output Shape              Param #   \n",
      "=================================================================\n",
      " embedding (Embedding)       (64, None, 64)            7168      \n",
      "                                                                 \n",
      " lstm (LSTM)                 (64, None, 512)           1181696   \n",
      "                                                                 \n",
      " lstm_1 (LSTM)               (64, None, 512)           2099200   \n",
      "                                                                 \n",
      " dense (Dense)               (64, None, 112)           57456     \n",
      "                                                                 \n",
      "=================================================================\n",
      "Total params: 3,345,520\n",
      "Trainable params: 3,345,520\n",
      "Non-trainable params: 0\n",
      "_________________________________________________________________\n"
     ]
    }
   ],
   "source": [
    "rnn.summary() "
   ]
  },
  {
   "cell_type": "markdown",
   "id": "a6628635",
   "metadata": {},
   "source": []
  },
  {
   "cell_type": "code",
   "execution_count": 27,
   "id": "5392110a",
   "metadata": {},
   "outputs": [],
   "source": [
    "if os.path.isdir('images/') == False:\n",
    "    os.mkdir('images/')"
   ]
  },
  {
   "cell_type": "markdown",
   "id": "b5bb5fff",
   "metadata": {},
   "source": []
  },
  {
   "cell_type": "code",
   "execution_count": 28,
   "id": "0367d55d",
   "metadata": {},
   "outputs": [
    {
     "data": {
      "image/png": "[encoded data removed]",
      "text/plain": [
       "<IPython.core.display.Image object>"
      ]
     },
     "execution_count": 28,
     "metadata": {},
     "output_type": "execute_result"
    }
   ],
   "source": [
    "plot_model(rnn, 'images/rnn_model.png', show_shapes=True, dpi=BATCH_SIZE)"
   ]
  },
  {
   "cell_type": "markdown",
   "id": "9711f2e6",
   "metadata": {},
   "source": []
  },
  {
   "cell_type": "code",
   "execution_count": 29,
   "id": "c5f05539",
   "metadata": {},
   "outputs": [
    {
     "name": "stdout",
     "output_type": "stream",
     "text": [
      "Размерность целевой последовательности: (64, 99)\n",
      "Размерность предсказанной последовательности: (64, 99, 112)\n",
      "Размерность тензора с 1 индексом классов (99, 1)\n",
      "Индекс класса: 22\n"
     ]
    }
   ],
   "source": [
    "for vector_single, target_single in data.take(1):\n",
    "    vector_single_pred = rnn(vector_single)\n",
    "    ids = tf.random.categorical(vector_single_pred[0], num_samples=1)\n",
    "    \n",
    "    print('Размерность целевой последовательности:', target_single.numpy().shape)\n",
    "    print('Размерность предсказанной последовательности:', vector_single_pred.shape)\n",
    "    print('Размерность тензора с 1 индексом классов', ids.shape)\n",
    "    print('Индекс класса:', ids[0][-1].numpy())"
   ]
  },
  {
   "cell_type": "markdown",
   "id": "2567b954",
   "metadata": {},
   "source": []
  },
  {
   "cell_type": "code",
   "execution_count": 30,
   "id": "67623927",
   "metadata": {},
   "outputs": [],
   "source": [
    "if os.path.isdir('checkpoints/') == False:\n",
    "    os.mkdir('checkpoints/')"
   ]
  },
  {
   "cell_type": "markdown",
   "id": "14dcf042",
   "metadata": {},
   "source": []
  },
  {
   "cell_type": "code",
   "execution_count": 31,
   "id": "f04499d1",
   "metadata": {},
   "outputs": [],
   "source": [
    "path_checkpoints = 'checkpoints/rnn/'"
   ]
  },
  {
   "cell_type": "markdown",
   "id": "326c169b",
   "metadata": {},
   "source": []
  },
  {
   "cell_type": "code",
   "execution_count": 32,
   "id": "13db204c",
   "metadata": {},
   "outputs": [],
   "source": [
    "if os.path.isdir(path_checkpoints) == False:\n",
    "    os.mkdir(path_checkpoints)"
   ]
  },
  {
   "cell_type": "markdown",
   "id": "b11ecea4",
   "metadata": {},
   "source": []
  },
  {
   "cell_type": "code",
   "execution_count": 33,
   "id": "8f579aae",
   "metadata": {},
   "outputs": [],
   "source": [
    "checkpoint_path = os.path.join(path_checkpoints, 'checkpoint_{epoch}')\n",
    "checkpoint_callback = keras.callbacks.ModelCheckpoint(filepath=checkpoint_path, save_weights_only=True)"
   ]
  },
  {
   "cell_type": "markdown",
   "id": "4fa109aa",
   "metadata": {},
   "source": []
  },
  {
   "cell_type": "code",
   "execution_count": 34,
   "id": "fb40a90c",
   "metadata": {},
   "outputs": [],
   "source": [
    "rnn.compile(optimizer='adam', loss=keras.losses.SparseCategoricalCrossentropy(from_logits=True))"
   ]
  },
  {
   "cell_type": "markdown",
   "id": "377a2e23",
   "metadata": {},
   "source": []
  },
  {
   "cell_type": "code",
   "execution_count": 35,
   "id": "b02c687c",
   "metadata": {},
   "outputs": [
    {
     "name": "stdout",
     "output_type": "stream",
     "text": [
      "Epoch 1/15\n",
      "563/563 [==============================] - 1443s 3s/step - loss: 2.6580\n",
      "Epoch 2/15\n",
      "563/563 [==============================] - 1447s 3s/step - loss: 1.7998\n",
      "Epoch 3/15\n",
      "563/563 [==============================] - 1249s 2s/step - loss: 1.5051\n",
      "Epoch 4/15\n",
      "563/563 [==============================] - 1219s 2s/step - loss: 1.3942\n",
      "Epoch 5/15\n",
      "563/563 [==============================] - 1250s 2s/step - loss: 1.3309\n",
      "Epoch 6/15\n",
      "563/563 [==============================] - 1262s 2s/step - loss: 1.2869\n",
      "Epoch 7/15\n",
      "563/563 [==============================] - 1244s 2s/step - loss: 1.2529\n",
      "Epoch 8/15\n",
      "563/563 [==============================] - 1261s 2s/step - loss: 1.2245\n",
      "Epoch 9/15\n",
      "563/563 [==============================] - 1256s 2s/step - loss: 1.2000\n",
      "Epoch 10/15\n",
      "563/563 [==============================] - 1254s 2s/step - loss: 1.1785\n",
      "Epoch 11/15\n",
      "563/563 [==============================] - 1266s 2s/step - loss: 1.1596\n",
      "Epoch 12/15\n",
      "563/563 [==============================] - 1276s 2s/step - loss: 1.1429\n",
      "Epoch 13/15\n",
      "563/563 [==============================] - 1265s 2s/step - loss: 1.1276\n",
      "Epoch 14/15\n",
      "563/563 [==============================] - 1287s 2s/step - loss: 1.1137\n",
      "Epoch 15/15\n",
      "563/563 [==============================] - 1286s 2s/step - loss: 1.1010\n"
     ]
    }
   ],
   "source": [
    "history = rnn.fit(\n",
    "    data, \n",
    "    epochs=15, \n",
    "    steps_per_epoch=BATCHES_PER_EPOCH, \n",
    "    callbacks=[checkpoint_callback]\n",
    ")"
   ]
  },
  {
   "cell_type": "markdown",
   "id": "9d138e35",
   "metadata": {},
   "source": []
  },
  {
   "cell_type": "code",
   "execution_count": 42,
   "id": "a6b35a09",
   "metadata": {},
   "outputs": [],
   "source": [
    "def plot_performance(history: keras.callbacks.History,\n",
    "                     n_epochs: int,\n",
    "                     title: str) -> None:\n",
    "    \n",
    "    font_s = 12\n",
    "    plt.figure(figsize=(6,5))\n",
    "    \n",
    "    plt.plot(history.history['loss'], '+-r')\n",
    "    \n",
    "    plt.title(f'{title}\\n', size=font_s+4)\n",
    "    \n",
    "    plt.xlabel('Epoch', size=font_s,)\n",
    "    plt.ylabel('Loss', size=font_s)\n",
    "    \n",
    "    plt.xticks(range(n_epochs))\n",
    "    plt.grid()\n",
    "    plt.show()"
   ]
  },
  {
   "cell_type": "markdown",
   "id": "47d6240c",
   "metadata": {},
   "source": []
  },
  {
   "cell_type": "code",
   "execution_count": 43,
   "id": "cf88d6cb",
   "metadata": {},
   "outputs": [
    {
     "data": {
      "image/png": "[encoded data removed]",
      "text/plain": [
       "<Figure size 600x500 with 1 Axes>"
      ]
     },
     "metadata": {},
     "output_type": "display_data"
    }
   ],
   "source": [
    "plot_performance(history, 15, 'Эффективность модели RNN')"
   ]
  },
  {
   "cell_type": "markdown",
   "id": "2a8638cd",
   "metadata": {},
   "source": []
  },
  {
   "cell_type": "code",
   "execution_count": 38,
   "id": "5e2cb225",
   "metadata": {},
   "outputs": [],
   "source": [
    "rnn.reset_states()"
   ]
  },
  {
   "cell_type": "markdown",
   "id": "214d632b",
   "metadata": {},
   "source": []
  },
  {
   "cell_type": "code",
   "execution_count": 39,
   "id": "a265e3a0",
   "metadata": {},
   "outputs": [],
   "source": [
    "def train_model(model: keras.Sequential,\n",
    "                sample: str,\n",
    "                n_characters: int,\n",
    "                temperature: float,\n",
    "                vocabulary: dict = vocabulary,\n",
    "                batch_size: int = BATCH_SIZE) -> str:\n",
    "    \n",
    "    sample_vector = [tokenizer[s] for s in sample]\n",
    "    predicted = sample_vector\n",
    "    \n",
    "    sample_tensor = tf.expand_dims(sample_vector, 0)\n",
    "    sample_tensor = tf.repeat(sample_tensor, batch_size, axis=0)\n",
    "\n",
    "    for i in range(n_characters):\n",
    "        pred = model(sample_tensor)\n",
    "        \n",
    "        pred = pred[0].numpy() / temperature\n",
    "        pred = tf.random.categorical(pred, num_samples=1)[-1, 0].numpy()\n",
    "        \n",
    "        predicted.append(pred)\n",
    "        \n",
    "        sample_tensor = predicted[-99:]\n",
    "        sample_tensor = tf.expand_dims([pred], 0)\n",
    "        \n",
    "        sample_tensor = tf.repeat(sample_tensor, batch_size, axis=0)\n",
    "        \n",
    "    pred_characters = [vocabulary[i] for i in predicted]\n",
    "    generated = ''.join(pred_characters)\n",
    "    \n",
    "    return generated"
   ]
  },
  {
   "cell_type": "markdown",
   "id": "c27bf909",
   "metadata": {},
   "source": []
  },
  {
   "cell_type": "code",
   "execution_count": 40,
   "id": "f914d787",
   "metadata": {},
   "outputs": [
    {
     "data": {
      "application/vnd.jupyter.widget-view+json": {
       "model_id": "ec410e918449474e846509f3c56911ec",
       "version_major": 2,
       "version_minor": 0
      },
      "text/plain": [
       "Training process:   0%|          | 0/1000 [00:00<?, ?it/s]"
      ]
     },
     "metadata": {},
     "output_type": "display_data"
    },
    {
     "data": {
      "text/plain": [
       "'гарри призвал профессор макгонагалл, гарри поттер прислал свою палочку и осмотрел руки. — я понял, что ты спасёшь в своём курсе. — вингарри, когда люди гарри начнут смеяться, и дамблдор не хочет и дальше, создавая ловушки. метла с крестража и сразу же быстрее перед ним. на кладбище выкрикнули. — я должен был справиться с ней. — я обещал бы вызвать в куче все кого-то скоро волдеморта, который почувствовал, как сказал гарри. — ответьте ловушку. — как и это смертельное сообщение. с нао подойдут, а посково на кого он сам размером профессору квирреллу и и потому он сейчас умереть. на этот раз я не руковончено, когда он не мог получить эту тему, будьте войны я были не так говорить. — я согласен, что в сущности, с точки зрения моей магии, не успели просто «давление от которого все она могла отдать свои сына из них никогда не успела рассказать такую профессору снейпом и смотрела на гарри, и гарри не мог просто сдать резыны гермиона грейнджер. мальчику за последние детальную большой свет и размышлял'"
      ]
     },
     "execution_count": 40,
     "metadata": {},
     "output_type": "execute_result"
    }
   ],
   "source": [
    "train_model(\n",
    "    model=rnn,\n",
    "    sample='гарри', \n",
    "    n_characters=1000, \n",
    "    temperature=0.6\n",
    ")"
   ]
  },
  {
   "cell_type": "markdown",
   "id": "c1576452",
   "metadata": {},
   "source": []
  },
  {
   "cell_type": "code",
   "execution_count": 41,
   "id": "cc3e21cf",
   "metadata": {},
   "outputs": [
    {
     "data": {
      "application/vnd.jupyter.widget-view+json": {
       "model_id": "23ce02b201fa42559d03105b76abc90b",
       "version_major": 2,
       "version_minor": 0
      },
      "text/plain": [
       "Training process:   0%|          | 0/1000 [00:00<?, ?it/s]"
      ]
     },
     "metadata": {},
     "output_type": "display_data"
    },
    {
     "data": {
      "text/plain": [
       "'гарри поттер, что ты далеко в других идеи, которое я серьёзно. ти спасло от дементоров, мистер поттер, — сказал гарри. погрузившись, ретешь лишь возразила, что ты наверняка она умерла. — в голове мила, в мотрей фигуры открылась, он оставил между авроров, а потом освещал северус. — тень любопытное? — я не осознал, что, если волдеморт проснулся к выводу. — эм-м, я получивающих сигнал. теперь я был рассказывать своего лучами по какой-то прекрасной силы. — в конце концов у меня придётся улучшить эту некарснику, может быть не менее полетельник или успокоиться для него. пребывание оказались на мёртвых или словами. поэтому я существует. полезным голосом просто можно было бы взять за свои руки, чтобы я хотите возьма жизни, с любой ценой, вероятно, и твои отказанные на плоках ни одна из делом для профессора квиррелла. если вы ему думали, что тёмный лорд смог приходить с собой гарри, что если он прав, что представляете, какой бы то ни с пять монотонного гарри со всей этих сложных учеников со смертью,'"
      ]
     },
     "execution_count": 41,
     "metadata": {},
     "output_type": "execute_result"
    }
   ],
   "source": [
    "train_model(\n",
    "    model=rnn,\n",
    "    sample='гарри', \n",
    "    n_characters=1000, \n",
    "    temperature=0.8\n",
    ")"
   ]
  },
  {
   "cell_type": "markdown",
   "id": "876cb7b5",
   "metadata": {},
   "source": []
  },
  {
   "cell_type": "markdown",
   "id": "efcf6328",
   "metadata": {},
   "source": [
    "<div style=\"background-color: blue; height: 2px; margin: 10px 0;\"></div>"
   ]
  },
  {
   "cell_type": "markdown",
   "id": "af87fa8a",
   "metadata": {},
   "source": [
    "## 4 Общий вывод"
   ]
  },
  {
   "cell_type": "markdown",
   "id": "8d6fc431",
   "metadata": {},
   "source": []
  },
  {
   "cell_type": "markdown",
   "id": "f12465d7",
   "metadata": {},
   "source": [
    "<div style=\"text-align: center; font-size: 20px; padding: 15px 0;\">\n",
    "    <a href=\"#Содержание\" data-toc-modified-id=\"Содержание\" style=\"text-decoration: none; color: #296eaa; border: 2px dashed #296eaa; opacity: 0.8; border-radius: 3px; padding: 10px 80px;\">\n",
    "        В начало файла ↑\n",
    "    </a>\n",
    "</div>"
   ]
  }
 ],
 "metadata": {
  "kernelspec": {
   "display_name": "Python 3 (ipykernel)",
   "language": "python",
   "name": "python3"
  },
  "language_info": {
   "codemirror_mode": {
    "name": "ipython",
    "version": 3
   },
   "file_extension": ".py",
   "mimetype": "text/x-python",
   "name": "python",
   "nbconvert_exporter": "python",
   "pygments_lexer": "ipython3",
   "version": "3.10.11"
  }
 },
 "nbformat": 4,
 "nbformat_minor": 5
}

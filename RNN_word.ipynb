{
 "cells": [
  {
   "cell_type": "markdown",
   "id": "be80210a",
   "metadata": {},
   "source": [
    "<h1>Содержание<span class=\"tocSkip\"></span></h1>\n",
    "<br>\n",
    "<div class=\"toc\">\n",
    "    <ul class=\"toc-item\">\n",
    "        <li>\n",
    "            <span>\n",
    "                <a href=\"#1-Подготовка-окружения\">\n",
    "                    <span class=\"toc-item-num\">1&nbsp;&nbsp;</span>\n",
    "                    Подготовка окружения\n",
    "                </a>\n",
    "            </span>\n",
    "        </li>\n",
    "        <li>\n",
    "            <span>\n",
    "                <a href=\"#2-Загрузка-данных\">\n",
    "                    <span class=\"toc-item-num\">2&nbsp;&nbsp;</span>\n",
    "                    Загрузка данных\n",
    "                </a>\n",
    "            </span>\n",
    "        </li>\n",
    "        <li>\n",
    "            <span>\n",
    "                <a href=\"#3-Пословная-токенизация\">\n",
    "                    <span class=\"toc-item-num\">3&nbsp;&nbsp;</span>\n",
    "                    Пословная токенизация\n",
    "                </a>\n",
    "            </span>\n",
    "            <ul class=\"toc-item\">\n",
    "                <li>\n",
    "                    <span>\n",
    "                        <a href=\"#3.1-Токенизация-слов\">\n",
    "                            <span class=\"toc-item-num\">3.1&nbsp;&nbsp;</span>\n",
    "                            Токенизация слов\n",
    "                        </a>\n",
    "                    </span>\n",
    "                </li>\n",
    "                <li>\n",
    "                    <span>\n",
    "                        <a href=\"#3.2-Формирование-датасета\">\n",
    "                            <span class=\"toc-item-num\">3.2&nbsp;&nbsp;</span>\n",
    "                            Формирование датасета\n",
    "                        </a>\n",
    "                    </span>\n",
    "                </li>\n",
    "                <li>\n",
    "                    <span>\n",
    "                        <a href=\"#3.3-Построение-модели\">\n",
    "                            <span class=\"toc-item-num\">3.3&nbsp;&nbsp;</span>\n",
    "                            Построение модели\n",
    "                        </a>\n",
    "                    </span>\n",
    "                </li>\n",
    "                <li>\n",
    "                    <span>\n",
    "                        <a href=\"#3.4-Обучение-модели\">\n",
    "                            <span class=\"toc-item-num\">3.4&nbsp;&nbsp;</span>\n",
    "                            Обучение модели\n",
    "                        </a>\n",
    "                    </span>\n",
    "                </li>\n",
    "                <li>\n",
    "                    <span>\n",
    "                        <a href=\"#3.5-Генерация-текста\">\n",
    "                            <span class=\"toc-item-num\">3.5&nbsp;&nbsp;</span>\n",
    "                            Генерация текста\n",
    "                        </a>\n",
    "                    </span>\n",
    "                </li>\n",
    "            </ul>\n",
    "        </li>\n",
    "        <li>\n",
    "            <span>\n",
    "                <a href=\"#4-Общий-вывод\">\n",
    "                    <span class=\"toc-item-num\">4&nbsp;&nbsp;</span>\n",
    "                    Общий вывод\n",
    "                </a>\n",
    "            </span>\n",
    "        </li>\n",
    "    </ul>\n",
    "</div>"
   ]
  },
  {
   "cell_type": "markdown",
   "id": "7e9d4a79",
   "metadata": {},
   "source": [
    "# Генеративные текстовые нейросети | Simple RNN (посимвольная)"
   ]
  },
  {
   "cell_type": "markdown",
   "id": "7ef168b4",
   "metadata": {},
   "source": [
    "**Постановка задачи:** натренировать и сравнить качество нескольких генеративных текстовых моделей на одном из заданных текстовых датасетов.\n",
    "\n",
    "**Источник данных:** [Harry Potter and the Methods of Rationality](https://hpmor.ru/).\n",
    "\n",
    "**Характер данных:** текст книги \"Гарри Поттер и методы рационального мышления\".\n",
    "\n",
    "**Основные этапы:** исследовать следующие нейросетевые архитектуры:\n",
    "\n",
    "1. Simple RNN с посимвольной и пословной токенизацией.\n",
    "2. Однонаправленная однослойная и многослойная LSTM c посимвольной токенизацией и токенизацией по словам и [на основе BPE](https://keras.io/api/keras_nlp/tokenizers/byte_pair_tokenizer/).\n",
    "3. Двунаправленная LSTM.\n",
    "4. *(На хорошую оценку)* трансформерная архитектура (GPT) \"с нуля\" [пример](https://keras.io/examples/generative/text_generation_gpt/).\n",
    "5. *(На отличную оценку)* дообучение предобученной GPT-сети [пример](https://github.com/ZotovaElena/RuGPT3_finetuning)."
   ]
  },
  {
   "cell_type": "markdown",
   "id": "93068be0",
   "metadata": {},
   "source": [
    "---"
   ]
  },
  {
   "cell_type": "markdown",
   "id": "05c47d07",
   "metadata": {},
   "source": [
    "# Реализации\n",
    "\n",
    "1. [RNN с посимвольной токенизацией](RNN_char.ipynb)\n",
    "2. RNN с пословной токенизацией (текущий файл)\n",
    "3. [Однонаправленная LSTM + BPE](unidirectional_LSTM_BPE.ipynb)\n",
    "4. [Двунаправленная LSTM](bidirectional_LSTM.ipynb)\n",
    "5. [Архитектура GPT](GPT_architecture.ipynb)\n",
    "6. [Дообучение GPT](GPT_finetuning.ipynb)"
   ]
  },
  {
   "cell_type": "markdown",
   "id": "f83f3ad7",
   "metadata": {},
   "source": [
    "<div style=\"background-color: blue; height: 2px; margin: 10px 0;\"></div>"
   ]
  },
  {
   "cell_type": "markdown",
   "id": "ec375e8c",
   "metadata": {},
   "source": [
    "## 1 Подготовка окружения"
   ]
  },
  {
   "cell_type": "markdown",
   "id": "5d858773",
   "metadata": {},
   "source": [
    "Импорт библиотек:"
   ]
  },
  {
   "cell_type": "code",
   "execution_count": 1,
   "id": "13be500e",
   "metadata": {},
   "outputs": [],
   "source": [
    "import numpy as np\n",
    "\n",
    "import os\n",
    "\n",
    "import tensorflow as tf\n",
    "from tensorflow.data import Dataset, AUTOTUNE\n",
    "from tensorflow import keras\n",
    "\n",
    "import keras.layers as l\n",
    "\n",
    "from keras import callbacks, losses, utils\n",
    "\n",
    "# custom funcs\n",
    "import utils.web_scrapping as web\n",
    "import utils.process_checking as check\n",
    "import utils.data_preprocessing as data_prep\n",
    "import utils.charts_plotting as chart\n",
    "import utils.predictions_making as pred"
   ]
  },
  {
   "cell_type": "markdown",
   "id": "65de67dc",
   "metadata": {},
   "source": [
    "<div style=\"background-color: blue; height: 2px; margin: 10px 0;\"></div>"
   ]
  },
  {
   "cell_type": "markdown",
   "id": "57eb7e1e",
   "metadata": {},
   "source": [
    "## 2 Загрузка данных"
   ]
  },
  {
   "cell_type": "markdown",
   "id": "b2a5de93",
   "metadata": {},
   "source": [
    "Формирование/загрузка набора данных в зависимости от его наличия:"
   ]
  },
  {
   "cell_type": "code",
   "execution_count": 2,
   "id": "d00e982b",
   "metadata": {},
   "outputs": [
    {
     "name": "stdout",
     "output_type": "stream",
     "text": [
      "Uploaded from data/hpmor.txt\n"
     ]
    }
   ],
   "source": [
    "data = web.load_data('https://hpmor.ru/', 'hpmor.txt')"
   ]
  },
  {
   "cell_type": "markdown",
   "id": "5d8c4886",
   "metadata": {},
   "source": [
    "Выведение на экран начала текста:"
   ]
  },
  {
   "cell_type": "code",
   "execution_count": 3,
   "id": "211a5c9a",
   "metadata": {},
   "outputs": [
    {
     "data": {
      "text/plain": [
       "'гарри поттер и методы рационального мышления. элиезер юдковский (less wrong). петуния вышла замуж не за дурсля, а за университетского профессора, и гарри попал в гораздо более благоприятную среду. у него были частные учителя, дискуссии с отцом, а главное — книги, сотни и тысячи научных и фантастических книг. в 11 лет гарри знаком с квантовой механикой, когнитивной психологией, теорией вероятностей и другими вещами. но гарри не просто вундеркинд, у него есть загадочная тёмная сторона, которая явн'"
      ]
     },
     "execution_count": 3,
     "metadata": {},
     "output_type": "execute_result"
    }
   ],
   "source": [
    "data[:500]"
   ]
  },
  {
   "cell_type": "markdown",
   "id": "3d1d88a0",
   "metadata": {},
   "source": [
    "Выведение на экран общего числа слов и предложений в тексте:"
   ]
  },
  {
   "cell_type": "code",
   "execution_count": 4,
   "id": "49d0344c",
   "metadata": {},
   "outputs": [
    {
     "name": "stdout",
     "output_type": "stream",
     "text": [
      "Всего слов: 559791\n",
      "Всего предложений: 37351\n"
     ]
    }
   ],
   "source": [
    "check.print_total(data)"
   ]
  },
  {
   "cell_type": "markdown",
   "id": "9a20371b",
   "metadata": {},
   "source": [
    "Разделение текста на отдельные предложения:"
   ]
  },
  {
   "cell_type": "code",
   "execution_count": 5,
   "id": "78e02ce9",
   "metadata": {},
   "outputs": [],
   "source": [
    "data_sentences = data_prep.split_into_sentences(data, '[^а-яА-ЯёЁ ,-]')"
   ]
  },
  {
   "cell_type": "markdown",
   "id": "bec0108e",
   "metadata": {},
   "source": [
    "Выведение на экран начала текста:"
   ]
  },
  {
   "cell_type": "code",
   "execution_count": 6,
   "id": "20c8a67e",
   "metadata": {},
   "outputs": [
    {
     "data": {
      "text/plain": [
       "['гарри поттер и методы рационального мышления',\n",
       " 'элиезер юдковский',\n",
       " 'петуния вышла замуж не за дурсля, а за университетского профессора, и гарри попал в гораздо более благоприятную среду',\n",
       " 'у него были частные учителя, дискуссии с отцом, а главное  книги, сотни и тысячи научных и фантастических книг',\n",
       " 'в  лет гарри знаком с квантовой механикой, когнитивной психологией, теорией вероятностей и другими вещами']"
      ]
     },
     "execution_count": 6,
     "metadata": {},
     "output_type": "execute_result"
    }
   ],
   "source": [
    "data_sentences[:5]"
   ]
  },
  {
   "cell_type": "markdown",
   "id": "5613c377",
   "metadata": {},
   "source": [
    "Сокращение количества предложений для обеспечения работы модели:"
   ]
  },
  {
   "cell_type": "code",
   "execution_count": 7,
   "id": "716cd8e0",
   "metadata": {},
   "outputs": [],
   "source": [
    "data_sentences = data_sentences[:5000]"
   ]
  },
  {
   "cell_type": "markdown",
   "id": "6d37232c",
   "metadata": {},
   "source": [
    "Выведение на экран количества слов в уменьшенном тексте:"
   ]
  },
  {
   "cell_type": "code",
   "execution_count": 8,
   "id": "11236d4c",
   "metadata": {},
   "outputs": [
    {
     "name": "stdout",
     "output_type": "stream",
     "text": [
      "Всего слов: 68153\n"
     ]
    }
   ],
   "source": [
    "check.print_total(' '.join(data_sentences))"
   ]
  },
  {
   "cell_type": "markdown",
   "id": "1e1b88fc",
   "metadata": {},
   "source": [
    "<div style=\"background-color: blue; height: 2px; margin: 10px 0;\"></div>"
   ]
  },
  {
   "cell_type": "markdown",
   "id": "66105900",
   "metadata": {},
   "source": [
    "## 3 Пословная токенизация"
   ]
  },
  {
   "cell_type": "markdown",
   "id": "757753f5",
   "metadata": {},
   "source": [
    "### 3.1 Токенизация слов"
   ]
  },
  {
   "cell_type": "markdown",
   "id": "162311c6",
   "metadata": {},
   "source": [
    "Получение словаря уникальных слов текста:"
   ]
  },
  {
   "cell_type": "code",
   "execution_count": 9,
   "id": "c5610ea4",
   "metadata": {},
   "outputs": [],
   "source": [
    "vocabulary = np.array(sorted(set(' '.join(data_sentences).split(' '))))"
   ]
  },
  {
   "cell_type": "markdown",
   "id": "fbc402df",
   "metadata": {},
   "source": [
    "Выведение на экран уникальных слов текста:"
   ]
  },
  {
   "cell_type": "code",
   "execution_count": 10,
   "id": "6f687874",
   "metadata": {},
   "outputs": [
    {
     "data": {
      "text/plain": [
       "array(['', ',', '-', ..., 'ёкнуло', 'ёмкостей', 'ёрзал'], dtype='<U46')"
      ]
     },
     "execution_count": 10,
     "metadata": {},
     "output_type": "execute_result"
    }
   ],
   "source": [
    "vocabulary"
   ]
  },
  {
   "cell_type": "markdown",
   "id": "67975f35",
   "metadata": {},
   "source": [
    "Формирование словаря токенов:"
   ]
  },
  {
   "cell_type": "code",
   "execution_count": 11,
   "id": "75b3caf5",
   "metadata": {},
   "outputs": [],
   "source": [
    "tokenizer_word_to_index = {char: i for i, char in enumerate(vocabulary)}\n",
    "tokenizer_index_to_word = {i: char for i, char in enumerate(vocabulary)}"
   ]
  },
  {
   "cell_type": "markdown",
   "id": "32abef7d",
   "metadata": {},
   "source": [
    "Выведение на экран количества токенов в словаре:"
   ]
  },
  {
   "cell_type": "code",
   "execution_count": 12,
   "id": "4efdba6f",
   "metadata": {},
   "outputs": [
    {
     "name": "stdout",
     "output_type": "stream",
     "text": [
      "Всего слов: 16852\n"
     ]
    }
   ],
   "source": [
    "print('Всего слов:', len(tokenizer_word_to_index))"
   ]
  },
  {
   "cell_type": "markdown",
   "id": "5dc1403c",
   "metadata": {},
   "source": [
    "Выведение на экран начала словаря токенов:"
   ]
  },
  {
   "cell_type": "code",
   "execution_count": 13,
   "id": "3c45dbb9",
   "metadata": {},
   "outputs": [
    {
     "data": {
      "text/plain": [
       "[('', 0),\n",
       " (',', 1),\n",
       " ('-', 2),\n",
       " ('--', 3),\n",
       " ('--,', 4),\n",
       " ('-го', 5),\n",
       " ('-й', 6),\n",
       " ('-летние', 7),\n",
       " ('-теста,', 8),\n",
       " ('-часовой', 9)]"
      ]
     },
     "execution_count": 13,
     "metadata": {},
     "output_type": "execute_result"
    }
   ],
   "source": [
    "check.print_tokenizer_vocabulary(tokenizer_word_to_index)"
   ]
  },
  {
   "cell_type": "markdown",
   "id": "7f17b590",
   "metadata": {},
   "source": [
    "выведение на экран начала словаря токенов:"
   ]
  },
  {
   "cell_type": "code",
   "execution_count": 14,
   "id": "fb2c09ec",
   "metadata": {},
   "outputs": [
    {
     "data": {
      "text/plain": [
       "[(0, ''),\n",
       " (1, ','),\n",
       " (2, '-'),\n",
       " (3, '--'),\n",
       " (4, '--,'),\n",
       " (5, '-го'),\n",
       " (6, '-й'),\n",
       " (7, '-летние'),\n",
       " (8, '-теста,'),\n",
       " (9, '-часовой')]"
      ]
     },
     "execution_count": 14,
     "metadata": {},
     "output_type": "execute_result"
    }
   ],
   "source": [
    "check.print_tokenizer_vocabulary(tokenizer_index_to_word)"
   ]
  },
  {
   "cell_type": "markdown",
   "id": "07fee1ce",
   "metadata": {},
   "source": [
    "---"
   ]
  },
  {
   "cell_type": "markdown",
   "id": "d7a61884",
   "metadata": {},
   "source": [
    "### 3.2 Формирование датасета"
   ]
  },
  {
   "cell_type": "markdown",
   "id": "7972582c",
   "metadata": {},
   "source": [
    "Преобразование текста в вектор на основе токенов:"
   ]
  },
  {
   "cell_type": "code",
   "execution_count": 15,
   "id": "4fa7b0e3",
   "metadata": {},
   "outputs": [],
   "source": [
    "vector = np.array([tokenizer_word_to_index[word] for word in ' '.join(data_sentences).split()])"
   ]
  },
  {
   "cell_type": "markdown",
   "id": "1703bd9e",
   "metadata": {},
   "source": [
    "Выведение на экран части исходного текста и его векторного представления:"
   ]
  },
  {
   "cell_type": "code",
   "execution_count": 16,
   "id": "f27e6d01",
   "metadata": {},
   "outputs": [
    {
     "name": "stdout",
     "output_type": "stream",
     "text": [
      "Исходный текст:\n",
      " гарри поттер и методы рационального мышления. элиезер юдковский (less wrong). петуния вышла замуж не \n",
      "\n",
      "Векторное представление:\n",
      " [ 2100 10578  4368  6288 12371  6598 16712 16781  9250  2041  3844  7112\n",
      "  3456  3212    10  3456 15483 11685  4368  2100 10256   742  2337   513\n",
      "   431 14090 15094  7203   720 16223 15760  2836 12634  8826    10  2160\n",
      "  5130 13862  4368 15057  7039  4368 15837  5120   742  5689  2100  4284\n",
      " 12634  5011  6292  5150 11809 14738   931  4368  3145  1000  7579  2100\n",
      "  7112 11642  1732 15094  7203  3307  3564 15081 14268  5369 16805  6767\n",
      " 12813  8743  6620  3267  6596    48 10781  4844  9264 12602  4494  3311\n",
      "   742 11711  6844  2100 10578  4368  6288 12371  6598  3855  9056  6240\n",
      "  9394 10302   742  6363]\n"
     ]
    }
   ],
   "source": [
    "check.print_init_vector(data, vector)"
   ]
  },
  {
   "cell_type": "markdown",
   "id": "ff9adc52",
   "metadata": {},
   "source": [
    "Формирование набора данных из срезов вектора текста:"
   ]
  },
  {
   "cell_type": "code",
   "execution_count": 17,
   "id": "677ab07b",
   "metadata": {},
   "outputs": [],
   "source": [
    "vector = Dataset.from_tensor_slices(vector)"
   ]
  },
  {
   "cell_type": "markdown",
   "id": "64d4a8d6",
   "metadata": {},
   "source": [
    "Задание констант:"
   ]
  },
  {
   "cell_type": "code",
   "execution_count": 18,
   "id": "82818021",
   "metadata": {},
   "outputs": [],
   "source": [
    "VOCAB_LEN = len(tokenizer_word_to_index.items())\n",
    "BATCH_SIZE = 32"
   ]
  },
  {
   "cell_type": "markdown",
   "id": "a30f36bb",
   "metadata": {},
   "source": [
    "Формирование последовательностей по заданному количеству символов:"
   ]
  },
  {
   "cell_type": "code",
   "execution_count": 19,
   "id": "8c327c10",
   "metadata": {},
   "outputs": [],
   "source": [
    "sequences = vector.batch(BATCH_SIZE, drop_remainder=True) "
   ]
  },
  {
   "cell_type": "markdown",
   "id": "3ac8dcb8",
   "metadata": {},
   "source": [
    "Задание констант:"
   ]
  },
  {
   "cell_type": "code",
   "execution_count": 20,
   "id": "6fc415e7",
   "metadata": {},
   "outputs": [],
   "source": [
    "BATCHES_PER_EPOCH = len(sequences) // BATCH_SIZE"
   ]
  },
  {
   "cell_type": "markdown",
   "id": "bc2d9dec",
   "metadata": {},
   "source": [
    "Формирование датасета:"
   ]
  },
  {
   "cell_type": "code",
   "execution_count": 21,
   "id": "f910f9e9",
   "metadata": {},
   "outputs": [],
   "source": [
    "dataset = sequences.map(data_prep.get_features_target)"
   ]
  },
  {
   "cell_type": "markdown",
   "id": "0fc80ddf",
   "metadata": {},
   "source": [
    "Выведение на экран первой входящей последовательности и соответствующего ей сдвига:"
   ]
  },
  {
   "cell_type": "code",
   "execution_count": 22,
   "id": "3cc18a85",
   "metadata": {
    "scrolled": false
   },
   "outputs": [
    {
     "name": "stdout",
     "output_type": "stream",
     "text": [
      "Признаки (31,):\n",
      "[ 2100 10578  4368  6288 12371  6598 16712 16781  9250  2041  3844  7112\n",
      "  3456  3212    10  3456 15483 11685  4368  2100 10256   742  2337   513\n",
      "   431 14090 15094  7203   720 16223 15760]\n",
      "\n",
      "Перевод в текст:\n",
      "гарри поттер и методы рационального мышления элиезер юдковский петуния вышла замуж не за дурсля, а за университетского профессора, и гарри попал в гораздо более благоприятную среду у него были частные учителя,\n",
      "\n",
      "Целевой признак (31,):\n",
      "[10578  4368  6288 12371  6598 16712 16781  9250  2041  3844  7112  3456\n",
      "  3212    10  3456 15483 11685  4368  2100 10256   742  2337   513   431\n",
      " 14090 15094  7203   720 16223 15760  2836]\n",
      "\n",
      "Перевод в текст:\n",
      "поттер и методы рационального мышления элиезер юдковский петуния вышла замуж не за дурсля, а за университетского профессора, и гарри попал в гораздо более благоприятную среду у него были частные учителя, дискуссии\n",
      "\n"
     ]
    }
   ],
   "source": [
    "for features, target in dataset.take(1):\n",
    "    check.print_single_element(features.numpy(), target.numpy(), tokenizer_index_to_word, False)"
   ]
  },
  {
   "cell_type": "markdown",
   "id": "92a48d54",
   "metadata": {},
   "source": [
    "Формирование датасета с делением на батчи:"
   ]
  },
  {
   "cell_type": "code",
   "execution_count": 23,
   "id": "cc536174",
   "metadata": {},
   "outputs": [],
   "source": [
    "data = dataset.batch(BATCH_SIZE, drop_remainder=True).repeat()\n",
    "data = data.prefetch(AUTOTUNE)"
   ]
  },
  {
   "cell_type": "markdown",
   "id": "073947f0",
   "metadata": {},
   "source": [
    "Выведение на экран размерностей первой входящей последовательности и соответствующего ей сдвига:"
   ]
  },
  {
   "cell_type": "code",
   "execution_count": 24,
   "id": "079c0c33",
   "metadata": {},
   "outputs": [
    {
     "name": "stdout",
     "output_type": "stream",
     "text": [
      "Размерность признаков: (32, 31)\n",
      "Размерность целевого признака: (32, 31)\n"
     ]
    }
   ],
   "source": [
    "for features, target in data.take(1):\n",
    "    check.print_single_dimension(features, target)"
   ]
  },
  {
   "cell_type": "markdown",
   "id": "548e7665",
   "metadata": {},
   "source": [
    "---"
   ]
  },
  {
   "cell_type": "markdown",
   "id": "1fda6736",
   "metadata": {},
   "source": [
    "### 3.3 Построение модели"
   ]
  },
  {
   "cell_type": "markdown",
   "id": "ee98a554",
   "metadata": {},
   "source": [
    "Задание модели:"
   ]
  },
  {
   "cell_type": "code",
   "execution_count": 25,
   "id": "50b76fa6",
   "metadata": {},
   "outputs": [],
   "source": [
    "model = keras.Sequential([\n",
    "    l.Embedding(VOCAB_LEN, BATCH_SIZE, batch_input_shape=[BATCH_SIZE, None]),\n",
    "    l.Bidirectional(l.LSTM(150, return_sequences = True)),\n",
    "    l.Dropout(0.2),\n",
    "    l.LSTM(100, return_sequences=True, stateful=True),\n",
    "    l.Dense(VOCAB_LEN / 2, activation='relu', kernel_regularizer=keras.regularizers.l2(0.01)),\n",
    "    l.Dense(VOCAB_LEN)\n",
    "])"
   ]
  },
  {
   "cell_type": "markdown",
   "id": "9590f5d1",
   "metadata": {},
   "source": [
    "Выведение на экран таблицы поведения параметров на словях нейросети:"
   ]
  },
  {
   "cell_type": "code",
   "execution_count": 26,
   "id": "c4f646f2",
   "metadata": {},
   "outputs": [
    {
     "name": "stdout",
     "output_type": "stream",
     "text": [
      "Model: \"sequential\"\n",
      "_________________________________________________________________\n",
      " Layer (type)                Output Shape              Param #   \n",
      "=================================================================\n",
      " embedding (Embedding)       (32, None, 32)            539264    \n",
      "                                                                 \n",
      " bidirectional (Bidirectiona  (32, None, 300)          219600    \n",
      " l)                                                              \n",
      "                                                                 \n",
      " dropout (Dropout)           (32, None, 300)           0         \n",
      "                                                                 \n",
      " lstm_1 (LSTM)               (32, None, 100)           160400    \n",
      "                                                                 \n",
      " dense (Dense)               (32, None, 8426)          851026    \n",
      "                                                                 \n",
      " dense_1 (Dense)             (32, None, 16852)         142011804 \n",
      "                                                                 \n",
      "=================================================================\n",
      "Total params: 143,782,094\n",
      "Trainable params: 143,782,094\n",
      "Non-trainable params: 0\n",
      "_________________________________________________________________\n"
     ]
    }
   ],
   "source": [
    "model.summary() "
   ]
  },
  {
   "cell_type": "markdown",
   "id": "7370fa31",
   "metadata": {},
   "source": [
    "Проверка наличия папки для хранения изображений:"
   ]
  },
  {
   "cell_type": "code",
   "execution_count": 27,
   "id": "47b5f399",
   "metadata": {},
   "outputs": [],
   "source": [
    "if os.path.isdir('images/') == False:\n",
    "    os.mkdir('images/')"
   ]
  },
  {
   "cell_type": "markdown",
   "id": "b5bb5fff",
   "metadata": {},
   "source": [
    "Выведение на экран отображения послойной обработки данных моделью:"
   ]
  },
  {
   "cell_type": "code",
   "execution_count": 28,
   "id": "0367d55d",
   "metadata": {},
   "outputs": [
    {
     "data": {
      "image/png": "[encoded data removed]",
      "text/plain": [
       "<IPython.core.display.Image object>"
      ]
     },
     "execution_count": 28,
     "metadata": {},
     "output_type": "execute_result"
    }
   ],
   "source": [
    "utils.plot_model(model, 'images/rnn_word_model.png', show_shapes=True, dpi=70)"
   ]
  },
  {
   "cell_type": "markdown",
   "id": "9711f2e6",
   "metadata": {},
   "source": [
    "Проверка модели на восприятие датасета на примере первой последовательности:"
   ]
  },
  {
   "cell_type": "code",
   "execution_count": 29,
   "id": "c5f05539",
   "metadata": {},
   "outputs": [
    {
     "name": "stdout",
     "output_type": "stream",
     "text": [
      "Размерность признаков: (32, 31)\n",
      "Размерность предсказаний: (32, 31, 16852)\n",
      "Размерность тензора с 1 индексом классов (31, 1)\n",
      "Предсказанный класс: 6859 (наподобие)\n"
     ]
    }
   ],
   "source": [
    "for features, target in data.take(1):\n",
    "    check.print_single_test(model, features, target, tokenizer_index_to_word)"
   ]
  },
  {
   "cell_type": "markdown",
   "id": "6be9fe81",
   "metadata": {},
   "source": [
    "---"
   ]
  },
  {
   "cell_type": "markdown",
   "id": "6858d2d9",
   "metadata": {},
   "source": [
    "### 3.4 Обучение модели"
   ]
  },
  {
   "cell_type": "markdown",
   "id": "7cb3723f",
   "metadata": {},
   "source": [
    "Проверка наличия папки для хранения контрольных точек:"
   ]
  },
  {
   "cell_type": "code",
   "execution_count": 30,
   "id": "07aa11f2",
   "metadata": {},
   "outputs": [],
   "source": [
    "if os.path.isdir('checkpoints/') == False:\n",
    "    os.mkdir('checkpoints/')"
   ]
  },
  {
   "cell_type": "markdown",
   "id": "27b5fef2",
   "metadata": {},
   "source": [
    "Задание пути для хранения контрольных точек:"
   ]
  },
  {
   "cell_type": "code",
   "execution_count": 31,
   "id": "f04499d1",
   "metadata": {},
   "outputs": [],
   "source": [
    "path_checkpoints = 'checkpoints/rnn_word'"
   ]
  },
  {
   "cell_type": "markdown",
   "id": "326c169b",
   "metadata": {},
   "source": [
    "Проверка наличия папки для хранения контрольных точек:"
   ]
  },
  {
   "cell_type": "code",
   "execution_count": 32,
   "id": "13db204c",
   "metadata": {},
   "outputs": [],
   "source": [
    "if os.path.isdir(path_checkpoints) == False:\n",
    "    os.mkdir(path_checkpoints)"
   ]
  },
  {
   "cell_type": "markdown",
   "id": "b11ecea4",
   "metadata": {},
   "source": [
    "Задание коллбека точек сохранения:"
   ]
  },
  {
   "cell_type": "code",
   "execution_count": 33,
   "id": "8f579aae",
   "metadata": {},
   "outputs": [],
   "source": [
    "checkpoint_path = os.path.join(path_checkpoints, 'checkpoint_{epoch}')\n",
    "checkpoint_callback = callbacks.ModelCheckpoint(filepath=checkpoint_path, save_weights_only=True)"
   ]
  },
  {
   "cell_type": "markdown",
   "id": "4fa109aa",
   "metadata": {},
   "source": [
    "Компиляция модели с оптимизатором и функцией потерь:"
   ]
  },
  {
   "cell_type": "code",
   "execution_count": 34,
   "id": "fb40a90c",
   "metadata": {},
   "outputs": [],
   "source": [
    "model.compile(\n",
    "    optimizer='adam', \n",
    "    loss=losses.SparseCategoricalCrossentropy(from_logits=True), \n",
    "    metrics=['accuracy']\n",
    ")"
   ]
  },
  {
   "cell_type": "markdown",
   "id": "377a2e23",
   "metadata": {},
   "source": [
    "Обучение модели:"
   ]
  },
  {
   "cell_type": "code",
   "execution_count": 35,
   "id": "b02c687c",
   "metadata": {
    "scrolled": true
   },
   "outputs": [
    {
     "name": "stdout",
     "output_type": "stream",
     "text": [
      "Epoch 1/100\n",
      "66/66 [==============================] - 219s 3s/step - loss: 8.8250 - accuracy: 0.0218\n",
      "Epoch 2/100\n",
      "66/66 [==============================] - 215s 3s/step - loss: 7.9939 - accuracy: 0.0242\n",
      "Epoch 3/100\n",
      "66/66 [==============================] - 239s 4s/step - loss: 7.8075 - accuracy: 0.0248\n",
      "Epoch 4/100\n",
      "66/66 [==============================] - 237s 4s/step - loss: 7.6862 - accuracy: 0.0277\n",
      "Epoch 5/100\n",
      "66/66 [==============================] - 234s 4s/step - loss: 7.2665 - accuracy: 0.0289\n",
      "Epoch 6/100\n",
      "66/66 [==============================] - 231s 4s/step - loss: 6.9215 - accuracy: 0.0360\n",
      "Epoch 7/100\n",
      "66/66 [==============================] - 213s 3s/step - loss: 6.7449 - accuracy: 0.0526\n",
      "Epoch 8/100\n",
      "66/66 [==============================] - 212s 3s/step - loss: 6.5806 - accuracy: 0.0679\n",
      "Epoch 9/100\n",
      "66/66 [==============================] - 213s 3s/step - loss: 6.4240 - accuracy: 0.0833\n",
      "Epoch 10/100\n",
      "66/66 [==============================] - 215s 3s/step - loss: 6.3013 - accuracy: 0.0915\n",
      "Epoch 11/100\n",
      "66/66 [==============================] - 208s 3s/step - loss: 6.2014 - accuracy: 0.1026\n",
      "Epoch 12/100\n",
      "66/66 [==============================] - 212s 3s/step - loss: 6.1080 - accuracy: 0.1071\n",
      "Epoch 13/100\n",
      "66/66 [==============================] - 215s 3s/step - loss: 6.0387 - accuracy: 0.1127\n",
      "Epoch 14/100\n",
      "66/66 [==============================] - 208s 3s/step - loss: 5.9222 - accuracy: 0.1220\n",
      "Epoch 15/100\n",
      "66/66 [==============================] - 211s 3s/step - loss: 5.7859 - accuracy: 0.1450\n",
      "Epoch 16/100\n",
      "66/66 [==============================] - 215s 3s/step - loss: 5.5983 - accuracy: 0.1659\n",
      "Epoch 17/100\n",
      "66/66 [==============================] - 212s 3s/step - loss: 5.3394 - accuracy: 0.1982\n",
      "Epoch 18/100\n",
      "66/66 [==============================] - 212s 3s/step - loss: 5.1514 - accuracy: 0.2223\n",
      "Epoch 19/100\n",
      "66/66 [==============================] - 214s 3s/step - loss: 5.0128 - accuracy: 0.2304\n",
      "Epoch 20/100\n",
      "66/66 [==============================] - 209s 3s/step - loss: 4.8837 - accuracy: 0.2371\n",
      "Epoch 21/100\n",
      "66/66 [==============================] - 210s 3s/step - loss: 4.7737 - accuracy: 0.2478\n",
      "Epoch 22/100\n",
      "66/66 [==============================] - 215s 3s/step - loss: 4.6458 - accuracy: 0.2566\n",
      "Epoch 23/100\n",
      "66/66 [==============================] - 214s 3s/step - loss: 4.5456 - accuracy: 0.2583\n",
      "Epoch 24/100\n",
      "66/66 [==============================] - 213s 3s/step - loss: 4.4602 - accuracy: 0.2677\n",
      "Epoch 25/100\n",
      "66/66 [==============================] - 218s 3s/step - loss: 4.3653 - accuracy: 0.2769\n",
      "Epoch 26/100\n",
      "66/66 [==============================] - 219s 3s/step - loss: 4.2671 - accuracy: 0.2852\n",
      "Epoch 27/100\n",
      "66/66 [==============================] - 218s 3s/step - loss: 4.2331 - accuracy: 0.2912\n",
      "Epoch 28/100\n",
      "66/66 [==============================] - 223s 3s/step - loss: 4.1559 - accuracy: 0.2972\n",
      "Epoch 29/100\n",
      "66/66 [==============================] - 222s 3s/step - loss: 4.2210 - accuracy: 0.3049\n",
      "Epoch 30/100\n",
      "66/66 [==============================] - 230s 4s/step - loss: 4.0271 - accuracy: 0.3224\n",
      "Epoch 31/100\n",
      "66/66 [==============================] - 221s 3s/step - loss: 3.8618 - accuracy: 0.3354\n",
      "Epoch 32/100\n",
      "66/66 [==============================] - 213s 3s/step - loss: 3.7414 - accuracy: 0.3477\n",
      "Epoch 33/100\n",
      "66/66 [==============================] - 214s 3s/step - loss: 3.6506 - accuracy: 0.3628\n",
      "Epoch 34/100\n",
      "66/66 [==============================] - 217s 3s/step - loss: 3.5885 - accuracy: 0.3705\n",
      "Epoch 35/100\n",
      "66/66 [==============================] - 215s 3s/step - loss: 3.5874 - accuracy: 0.3743\n",
      "Epoch 36/100\n",
      "66/66 [==============================] - 215s 3s/step - loss: 3.4765 - accuracy: 0.3947\n",
      "Epoch 37/100\n",
      "66/66 [==============================] - 209s 3s/step - loss: 3.4384 - accuracy: 0.4021\n",
      "Epoch 38/100\n",
      "66/66 [==============================] - 214s 3s/step - loss: 3.6922 - accuracy: 0.3764\n",
      "Epoch 39/100\n",
      "66/66 [==============================] - 211s 3s/step - loss: 3.6408 - accuracy: 0.3830\n",
      "Epoch 40/100\n",
      "66/66 [==============================] - 210s 3s/step - loss: 3.3948 - accuracy: 0.4055\n",
      "Epoch 41/100\n",
      "66/66 [==============================] - 213s 3s/step - loss: 3.2161 - accuracy: 0.4365\n",
      "Epoch 42/100\n",
      "66/66 [==============================] - 232s 4s/step - loss: 3.1296 - accuracy: 0.4514\n",
      "Epoch 43/100\n",
      "66/66 [==============================] - 213s 3s/step - loss: 3.0415 - accuracy: 0.4739\n",
      "Epoch 44/100\n",
      "66/66 [==============================] - 211s 3s/step - loss: 2.9142 - accuracy: 0.4880\n",
      "Epoch 45/100\n",
      "66/66 [==============================] - 219s 3s/step - loss: 2.8174 - accuracy: 0.5126\n",
      "Epoch 46/100\n",
      "66/66 [==============================] - 212s 3s/step - loss: 2.7753 - accuracy: 0.5186\n",
      "Epoch 47/100\n",
      "66/66 [==============================] - 208s 3s/step - loss: 2.7173 - accuracy: 0.5321\n",
      "Epoch 48/100\n",
      "66/66 [==============================] - 208s 3s/step - loss: 2.8362 - accuracy: 0.5042\n",
      "Epoch 49/100\n",
      "66/66 [==============================] - 208s 3s/step - loss: 2.5695 - accuracy: 0.5677\n",
      "Epoch 50/100\n",
      "66/66 [==============================] - 208s 3s/step - loss: 2.3691 - accuracy: 0.6014\n",
      "Epoch 51/100\n",
      "66/66 [==============================] - 205s 3s/step - loss: 2.2863 - accuracy: 0.6151\n",
      "Epoch 52/100\n",
      "66/66 [==============================] - 209s 3s/step - loss: 2.2302 - accuracy: 0.6259\n",
      "Epoch 53/100\n",
      "66/66 [==============================] - 207s 3s/step - loss: 2.1817 - accuracy: 0.6360\n",
      "Epoch 54/100\n",
      "66/66 [==============================] - 206s 3s/step - loss: 2.1467 - accuracy: 0.6456\n",
      "Epoch 55/100\n",
      "66/66 [==============================] - 209s 3s/step - loss: 2.0811 - accuracy: 0.6642\n",
      "Epoch 56/100\n",
      "66/66 [==============================] - 204s 3s/step - loss: 2.0230 - accuracy: 0.6735\n",
      "Epoch 57/100\n",
      "66/66 [==============================] - 203s 3s/step - loss: 1.9457 - accuracy: 0.6935\n",
      "Epoch 58/100\n",
      "66/66 [==============================] - 204s 3s/step - loss: 1.8844 - accuracy: 0.7051\n",
      "Epoch 59/100\n",
      "66/66 [==============================] - 212s 3s/step - loss: 1.9238 - accuracy: 0.6882\n",
      "Epoch 60/100\n",
      "66/66 [==============================] - 205s 3s/step - loss: 1.9358 - accuracy: 0.6878\n",
      "Epoch 61/100\n",
      "66/66 [==============================] - 205s 3s/step - loss: 1.8952 - accuracy: 0.7025\n",
      "Epoch 62/100\n",
      "66/66 [==============================] - 203s 3s/step - loss: 1.8736 - accuracy: 0.7050\n",
      "Epoch 63/100\n",
      "66/66 [==============================] - 203s 3s/step - loss: 1.8119 - accuracy: 0.7150\n",
      "Epoch 64/100\n",
      "66/66 [==============================] - 207s 3s/step - loss: 1.7293 - accuracy: 0.7382\n",
      "Epoch 65/100\n",
      "66/66 [==============================] - 203s 3s/step - loss: 1.6927 - accuracy: 0.7443\n",
      "Epoch 66/100\n",
      "66/66 [==============================] - 209s 3s/step - loss: 1.6528 - accuracy: 0.7541\n",
      "Epoch 67/100\n",
      "66/66 [==============================] - 206s 3s/step - loss: 1.6845 - accuracy: 0.7397\n",
      "Epoch 68/100\n",
      "66/66 [==============================] - 206s 3s/step - loss: 1.7121 - accuracy: 0.7351\n",
      "Epoch 69/100\n",
      "66/66 [==============================] - 205s 3s/step - loss: 1.6438 - accuracy: 0.7566\n",
      "Epoch 70/100\n",
      "66/66 [==============================] - 205s 3s/step - loss: 1.6378 - accuracy: 0.7502\n",
      "Epoch 71/100\n",
      "66/66 [==============================] - 203s 3s/step - loss: 1.5826 - accuracy: 0.7667\n",
      "Epoch 72/100\n",
      "66/66 [==============================] - 201s 3s/step - loss: 1.5188 - accuracy: 0.7821\n",
      "Epoch 73/100\n",
      "66/66 [==============================] - 204s 3s/step - loss: 1.5111 - accuracy: 0.7855\n",
      "Epoch 74/100\n",
      "66/66 [==============================] - 203s 3s/step - loss: 1.5037 - accuracy: 0.7847\n",
      "Epoch 75/100\n",
      "66/66 [==============================] - 203s 3s/step - loss: 1.5027 - accuracy: 0.7847\n",
      "Epoch 76/100\n",
      "66/66 [==============================] - 208s 3s/step - loss: 1.4668 - accuracy: 0.7932\n",
      "Epoch 77/100\n",
      "66/66 [==============================] - 210s 3s/step - loss: 1.4334 - accuracy: 0.8019\n",
      "Epoch 78/100\n",
      "66/66 [==============================] - 207s 3s/step - loss: 1.3912 - accuracy: 0.8107\n",
      "Epoch 79/100\n",
      "66/66 [==============================] - 209s 3s/step - loss: 1.3478 - accuracy: 0.8224\n",
      "Epoch 80/100\n",
      "66/66 [==============================] - 205s 3s/step - loss: 1.3173 - accuracy: 0.8242\n",
      "Epoch 81/100\n",
      "66/66 [==============================] - 214s 3s/step - loss: 1.2832 - accuracy: 0.8379\n",
      "Epoch 82/100\n"
     ]
    },
    {
     "name": "stdout",
     "output_type": "stream",
     "text": [
      "66/66 [==============================] - 207s 3s/step - loss: 1.2737 - accuracy: 0.8371\n",
      "Epoch 83/100\n",
      "66/66 [==============================] - 206s 3s/step - loss: 1.2461 - accuracy: 0.8430\n",
      "Epoch 84/100\n",
      "66/66 [==============================] - 214s 3s/step - loss: 1.2318 - accuracy: 0.8456\n",
      "Epoch 85/100\n",
      "66/66 [==============================] - 209s 3s/step - loss: 1.2145 - accuracy: 0.8511\n",
      "Epoch 86/100\n",
      "66/66 [==============================] - 208s 3s/step - loss: 1.1898 - accuracy: 0.8548\n",
      "Epoch 87/100\n",
      "66/66 [==============================] - 210s 3s/step - loss: 1.1864 - accuracy: 0.8554\n",
      "Epoch 88/100\n",
      "66/66 [==============================] - 207s 3s/step - loss: 1.1831 - accuracy: 0.8556\n",
      "Epoch 89/100\n",
      "66/66 [==============================] - 207s 3s/step - loss: 1.1492 - accuracy: 0.8646\n",
      "Epoch 90/100\n",
      "66/66 [==============================] - 208s 3s/step - loss: 1.1554 - accuracy: 0.8589\n",
      "Epoch 91/100\n",
      "66/66 [==============================] - 206s 3s/step - loss: 1.1388 - accuracy: 0.8643\n",
      "Epoch 92/100\n",
      "66/66 [==============================] - 206s 3s/step - loss: 1.1056 - accuracy: 0.8729\n",
      "Epoch 93/100\n",
      "66/66 [==============================] - 210s 3s/step - loss: 1.1078 - accuracy: 0.8709\n",
      "Epoch 94/100\n",
      "66/66 [==============================] - 210s 3s/step - loss: 1.0945 - accuracy: 0.8733\n",
      "Epoch 95/100\n",
      "66/66 [==============================] - 208s 3s/step - loss: 1.0632 - accuracy: 0.8829\n",
      "Epoch 96/100\n",
      "66/66 [==============================] - 213s 3s/step - loss: 1.0365 - accuracy: 0.8866\n",
      "Epoch 97/100\n",
      "66/66 [==============================] - 212s 3s/step - loss: 1.0163 - accuracy: 0.8911\n",
      "Epoch 98/100\n",
      "66/66 [==============================] - 208s 3s/step - loss: 1.0084 - accuracy: 0.8915\n",
      "Epoch 99/100\n",
      "66/66 [==============================] - 209s 3s/step - loss: 0.9904 - accuracy: 0.8964\n",
      "Epoch 100/100\n",
      "66/66 [==============================] - 203s 3s/step - loss: 0.9714 - accuracy: 0.9005\n"
     ]
    }
   ],
   "source": [
    "history = model.fit(\n",
    "    data, \n",
    "    epochs=100, \n",
    "    verbose=1,\n",
    "    steps_per_epoch=BATCHES_PER_EPOCH, \n",
    "    callbacks=[checkpoint_callback]\n",
    ")"
   ]
  },
  {
   "cell_type": "markdown",
   "id": "47d6240c",
   "metadata": {},
   "source": [
    "Выведение на экран графика значений функции потерь:"
   ]
  },
  {
   "cell_type": "code",
   "execution_count": 36,
   "id": "cf88d6cb",
   "metadata": {},
   "outputs": [
    {
     "data": {
      "image/png": "[encoded data removed]",
      "text/plain": [
       "<Figure size 600x500 with 1 Axes>"
      ]
     },
     "metadata": {},
     "output_type": "display_data"
    }
   ],
   "source": [
    "chart.plot_loss_acc(history)"
   ]
  },
  {
   "cell_type": "markdown",
   "id": "2a8638cd",
   "metadata": {},
   "source": [
    "Сброс состояния модели:"
   ]
  },
  {
   "cell_type": "code",
   "execution_count": 37,
   "id": "5e2cb225",
   "metadata": {},
   "outputs": [],
   "source": [
    "model.reset_states()"
   ]
  },
  {
   "cell_type": "markdown",
   "id": "48f3ba4f",
   "metadata": {},
   "source": [
    "---"
   ]
  },
  {
   "cell_type": "markdown",
   "id": "60aa6b52",
   "metadata": {},
   "source": [
    "### 3.5 Генерация текста"
   ]
  },
  {
   "cell_type": "markdown",
   "id": "c27bf909",
   "metadata": {},
   "source": [
    "Выведение на экран результата предсказаний:"
   ]
  },
  {
   "cell_type": "code",
   "execution_count": 38,
   "id": "f914d787",
   "metadata": {},
   "outputs": [
    {
     "data": {
      "text/plain": [
       "'гарри поттер сделать весьма требовалось верёвку, с том, так не глупо летящий верёвку, на фигуры верёвку, в фигуры даже даже даже вы взялась успеха верёвку, элизером элизером окажется отдельно распрямив так в опасен на фигуры если на связать так на фигуры верёвку, летящий на фигуры верёвку, верёвку, элизером даже даже отставал на фигуры даже даже даже если на поприще верёвку, на фигуры даже опасен на фигуры даже верёвку, летящий на даже даже сняты эхом так продолжала у верёвку, на фигуры верёвку, на фигуры верёвку, отдельно у вы взялась объявление, летящий даже даже докажет, летящий на фигуры даже даже даже если я продолжала'"
      ]
     },
     "execution_count": 38,
     "metadata": {},
     "output_type": "execute_result"
    }
   ],
   "source": [
    "pred.predict_next(\n",
    "    sample='гарри поттер', \n",
    "    model=model,\n",
    "    tokenizer=tokenizer_word_to_index,\n",
    "    vocabulary=tokenizer_index_to_word,\n",
    "    n_next=100, \n",
    "    temperature=0.6,\n",
    "    batch_size=BATCH_SIZE,\n",
    "    word=True\n",
    ")"
   ]
  },
  {
   "cell_type": "markdown",
   "id": "c1576452",
   "metadata": {},
   "source": [
    "Выведение на экран результата предсказаний:"
   ]
  },
  {
   "cell_type": "code",
   "execution_count": 39,
   "id": "cc3e21cf",
   "metadata": {},
   "outputs": [
    {
     "data": {
      "text/plain": [
       "'однажды в хогвартсе фигуры даже так продолжала и даже даже даже даже так продолжала на фигуры даже так продолжала и даже даже даже сняты я ещё объявление, летящий на фигуры так верёвку, на верёвку, на фигуры верёвку, на фигуры даже вы сказано так на поприще верёвку, в фигуры даже даже даже только источник летящий на фигуры даже даже так он докажет, успеха воистину, дурака, даже даже так не ушло на никакого числе так летящий летящий на даже даже сняты летящий на духе успеха летящий даже даже вы разрешаю авторитетного стыдно украдут успеха верёвку, верёвку, на фигуры верёвку, разговор, так даже даже же расплавить'"
      ]
     },
     "execution_count": 39,
     "metadata": {},
     "output_type": "execute_result"
    }
   ],
   "source": [
    "pred.predict_next(\n",
    "    sample='однажды в хогвартсе', \n",
    "    model=model,\n",
    "    tokenizer=tokenizer_word_to_index,\n",
    "    vocabulary=tokenizer_index_to_word,\n",
    "    n_next=100, \n",
    "    temperature=0.8,\n",
    "    batch_size=BATCH_SIZE,\n",
    "    word=True\n",
    ")"
   ]
  },
  {
   "cell_type": "markdown",
   "id": "4d57bded",
   "metadata": {},
   "source": [
    "<div style=\"background-color: blue; height: 2px; margin: 10px 0;\"></div>"
   ]
  },
  {
   "cell_type": "markdown",
   "id": "af87fa8a",
   "metadata": {},
   "source": [
    "## 4 Общий вывод"
   ]
  },
  {
   "cell_type": "markdown",
   "id": "8d6fc431",
   "metadata": {},
   "source": [
    "Результаты проведённого эксперимента откровенно плохи - модель \"заговаривается\" и повторяется, но их можно улучшить за счёт усложения модели посредством изменения её слоёв, и в особенности большего числа итераций обучения при наличии соответствующих технических средств."
   ]
  },
  {
   "cell_type": "markdown",
   "id": "f12465d7",
   "metadata": {},
   "source": [
    "<div style=\"text-align: center; font-size: 20px; padding: 15px 0;\">\n",
    "    <a href=\"#Содержание\" data-toc-modified-id=\"Содержание\" style=\"text-decoration: none; color: #296eaa; border: 2px dashed #296eaa; opacity: 0.8; border-radius: 3px; padding: 10px 80px;\">\n",
    "        В начало файла ↑\n",
    "    </a>\n",
    "</div>"
   ]
  }
 ],
 "metadata": {
  "kernelspec": {
   "display_name": "Python 3 (ipykernel)",
   "language": "python",
   "name": "python3"
  },
  "language_info": {
   "codemirror_mode": {
    "name": "ipython",
    "version": 3
   },
   "file_extension": ".py",
   "mimetype": "text/x-python",
   "name": "python",
   "nbconvert_exporter": "python",
   "pygments_lexer": "ipython3",
   "version": "3.10.11"
  }
 },
 "nbformat": 4,
 "nbformat_minor": 5
}

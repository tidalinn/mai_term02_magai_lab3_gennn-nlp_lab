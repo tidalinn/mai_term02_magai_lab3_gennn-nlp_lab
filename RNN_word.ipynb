{
 "cells": [
  {
   "cell_type": "markdown",
   "id": "be80210a",
   "metadata": {},
   "source": [
    "<h1>Содержание<span class=\"tocSkip\"></span></h1>\n",
    "<br>\n",
    "<div class=\"toc\">\n",
    "    <ul class=\"toc-item\">\n",
    "        <li>\n",
    "            <span>\n",
    "                <a href=\"#1-Подготовка-окружения\">\n",
    "                    <span class=\"toc-item-num\">1&nbsp;&nbsp;</span>\n",
    "                    Подготовка окружения\n",
    "                </a>\n",
    "            </span>\n",
    "        </li>\n",
    "        <li>\n",
    "            <span>\n",
    "                <a href=\"#2-Загрузка-данных\">\n",
    "                    <span class=\"toc-item-num\">2&nbsp;&nbsp;</span>\n",
    "                    Загрузка данных\n",
    "                </a>\n",
    "            </span>\n",
    "        </li>\n",
    "        <li>\n",
    "            <span>\n",
    "                <a href=\"#3-Пословная-токенизация\">\n",
    "                    <span class=\"toc-item-num\">3&nbsp;&nbsp;</span>\n",
    "                    Пословная токенизация\n",
    "                </a>\n",
    "            </span>\n",
    "            <ul class=\"toc-item\">\n",
    "                <li>\n",
    "                    <span>\n",
    "                        <a href=\"#3.1-Токенизация-слов\">\n",
    "                            <span class=\"toc-item-num\">3.1&nbsp;&nbsp;</span>\n",
    "                            Токенизация слов\n",
    "                        </a>\n",
    "                    </span>\n",
    "                </li>\n",
    "                <li>\n",
    "                    <span>\n",
    "                        <a href=\"#3.2-Формирование-датасета\">\n",
    "                            <span class=\"toc-item-num\">3.2&nbsp;&nbsp;</span>\n",
    "                            Формирование датасета\n",
    "                        </a>\n",
    "                    </span>\n",
    "                </li>\n",
    "                <li>\n",
    "                    <span>\n",
    "                        <a href=\"#3.3-Построение-модели\">\n",
    "                            <span class=\"toc-item-num\">3.3&nbsp;&nbsp;</span>\n",
    "                            Построение модели\n",
    "                        </a>\n",
    "                    </span>\n",
    "                </li>\n",
    "                <li>\n",
    "                    <span>\n",
    "                        <a href=\"#3.4-Обучение-модели\">\n",
    "                            <span class=\"toc-item-num\">3.4&nbsp;&nbsp;</span>\n",
    "                            Обучение модели\n",
    "                        </a>\n",
    "                    </span>\n",
    "                </li>\n",
    "                <li>\n",
    "                    <span>\n",
    "                        <a href=\"#3.5-Генерация-текста\">\n",
    "                            <span class=\"toc-item-num\">3.5&nbsp;&nbsp;</span>\n",
    "                            Генерация текста\n",
    "                        </a>\n",
    "                    </span>\n",
    "                </li>\n",
    "            </ul>\n",
    "        </li>\n",
    "        <li>\n",
    "            <span>\n",
    "                <a href=\"#4-Общий-вывод\">\n",
    "                    <span class=\"toc-item-num\">4&nbsp;&nbsp;</span>\n",
    "                    Общий вывод\n",
    "                </a>\n",
    "            </span>\n",
    "        </li>\n",
    "    </ul>\n",
    "</div>"
   ]
  },
  {
   "cell_type": "markdown",
   "id": "7e9d4a79",
   "metadata": {},
   "source": [
    "# Генеративные текстовые нейросети | Simple RNN (посимвольная)"
   ]
  },
  {
   "cell_type": "markdown",
   "id": "7ef168b4",
   "metadata": {},
   "source": [
    "**Постановка задачи:** натренировать и сравнить качество нескольких генеративных текстовых моделей на одном из заданных текстовых датасетов.\n",
    "\n",
    "**Источник данных:** [Harry Potter and the Methods of Rationality](https://hpmor.ru/).\n",
    "\n",
    "**Характер данных:** текст книги \"Гарри Поттер и методы рационального мышления\".\n",
    "\n",
    "**Основные этапы:** исследовать следующие нейросетевые архитектуры:\n",
    "\n",
    "1. Simple RNN с посимвольной и пословной токенизацией.\n",
    "2. Однонаправленная однослойная и многослойная LSTM c посимвольной токенизацией и токенизацией по словам и [на основе BPE](https://keras.io/api/keras_nlp/tokenizers/byte_pair_tokenizer/).\n",
    "3. Двунаправленная LSTM.\n",
    "4. *(На хорошую оценку)* трансформерная архитектура (GPT) \"с нуля\" [пример](https://keras.io/examples/generative/text_generation_gpt/).\n",
    "5. *(На отличную оценку)* дообучение предобученной GPT-сети [пример](https://github.com/ZotovaElena/RuGPT3_finetuning)."
   ]
  },
  {
   "cell_type": "markdown",
   "id": "93068be0",
   "metadata": {},
   "source": [
    "---"
   ]
  },
  {
   "cell_type": "markdown",
   "id": "05c47d07",
   "metadata": {},
   "source": [
    "# Реализации\n",
    "\n",
    "1. [RNN с посимвольной токенизацией](RNN_char.ipynb)\n",
    "2. RNN с пословной токенизацией (текущий файл)\n",
    "3. [Однонаправленная LSTM + BPE](unidirectional_LSTM_BPE.ipynb)\n",
    "4. [Двунаправленная LSTM](bidirectional_LSTM.ipynb)\n",
    "5. [Архитектура GPT](GPT_architecture.ipynb)\n",
    "6. [Дообучение GPT](GPT_finetuning.ipynb)"
   ]
  },
  {
   "cell_type": "markdown",
   "id": "f83f3ad7",
   "metadata": {},
   "source": [
    "<div style=\"background-color: blue; height: 2px; margin: 10px 0;\"></div>"
   ]
  },
  {
   "cell_type": "markdown",
   "id": "ec375e8c",
   "metadata": {},
   "source": [
    "## 1 Подготовка окружения"
   ]
  },
  {
   "cell_type": "markdown",
   "id": "5d858773",
   "metadata": {},
   "source": [
    "Импорт библиотек:"
   ]
  },
  {
   "cell_type": "code",
   "execution_count": 1,
   "id": "13be500e",
   "metadata": {},
   "outputs": [],
   "source": [
    "import numpy as np\n",
    "\n",
    "from typing import Tuple\n",
    "import os\n",
    "import re\n",
    "\n",
    "import tensorflow as tf\n",
    "from tensorflow.data import Dataset, AUTOTUNE\n",
    "from tensorflow import keras\n",
    "\n",
    "from keras import Sequential\n",
    "from keras.callbacks import ModelCheckpoint, History\n",
    "from keras.layers import Dense, LSTM, Embedding\n",
    "from keras.losses import SparseCategoricalCrossentropy\n",
    "from keras.utils import plot_model\n",
    "\n",
    "from utils.useful_funcs import request_url, get_url_data, get_data, prepare_dataset, \\\n",
    "                               text_vector_sample, print_single_batch, test_single_model, \\\n",
    "                               print_single_dim, plot_performance, predict_next"
   ]
  },
  {
   "cell_type": "markdown",
   "id": "65de67dc",
   "metadata": {},
   "source": [
    "<div style=\"background-color: blue; height: 2px; margin: 10px 0;\"></div>"
   ]
  },
  {
   "cell_type": "markdown",
   "id": "57eb7e1e",
   "metadata": {},
   "source": [
    "## 2 Загрузка данных"
   ]
  },
  {
   "cell_type": "markdown",
   "id": "ac13dfc5",
   "metadata": {},
   "source": [
    "Проверка наличия папки для хранения наборов данных:"
   ]
  },
  {
   "cell_type": "code",
   "execution_count": 2,
   "id": "8101618f",
   "metadata": {},
   "outputs": [],
   "source": [
    "if os.path.isdir('data/') == False:\n",
    "    os.mkdir('data/')"
   ]
  },
  {
   "cell_type": "markdown",
   "id": "e71d2477",
   "metadata": {},
   "source": [
    "Задание пути к файлу с основным набором данных:"
   ]
  },
  {
   "cell_type": "code",
   "execution_count": 3,
   "id": "841f3e51",
   "metadata": {},
   "outputs": [],
   "source": [
    "path_file = 'data/hpmor.txt'"
   ]
  },
  {
   "cell_type": "markdown",
   "id": "c6407b54",
   "metadata": {},
   "source": [
    "Формирование/загрузка набора данных в зависимости от его наличия:"
   ]
  },
  {
   "cell_type": "code",
   "execution_count": 4,
   "id": "7e22b8bd",
   "metadata": {},
   "outputs": [
    {
     "name": "stdout",
     "output_type": "stream",
     "text": [
      "Uploaded from data/hpmor.txt\n"
     ]
    }
   ],
   "source": [
    "try:\n",
    "    with open(path_file, 'r', encoding='utf-8') as file:\n",
    "        text = file.read()\n",
    "    \n",
    "    print('Uploaded from', path_file)\n",
    "    \n",
    "except:\n",
    "    text = get_data('https://hpmor.ru/')\n",
    "    \n",
    "    with open(path_file, 'w', encoding='utf-8') as file:\n",
    "        file.write(text)\n",
    "    \n",
    "    print('Saved to', path_file)"
   ]
  },
  {
   "cell_type": "markdown",
   "id": "0067e1d5",
   "metadata": {},
   "source": [
    "Выведение на экран начала текста:"
   ]
  },
  {
   "cell_type": "code",
   "execution_count": 5,
   "id": "deec20f6",
   "metadata": {},
   "outputs": [
    {
     "data": {
      "text/plain": [
       "'гарри поттер и методы рационального мышления. элиезер юдковский (less wrong). петуния вышла замуж не за дурсля, а за университетского профессора, и гарри попал в гораздо более благоприятную среду. у него были частные учителя, дискуссии с отцом, а главное — книги, сотни и тысячи научных и фантастических книг. в 11 лет гарри знаком с квантовой механикой, когнитивной психологией, теорией вероятностей и другими вещами. но гарри не просто вундеркинд, у него есть загадочная тёмная сторона, которая явн'"
      ]
     },
     "execution_count": 5,
     "metadata": {},
     "output_type": "execute_result"
    }
   ],
   "source": [
    "text[:500]"
   ]
  },
  {
   "cell_type": "markdown",
   "id": "3d1d88a0",
   "metadata": {},
   "source": [
    "Выведение на экран общего числа слов в тексте:"
   ]
  },
  {
   "cell_type": "code",
   "execution_count": 6,
   "id": "49d0344c",
   "metadata": {},
   "outputs": [
    {
     "name": "stdout",
     "output_type": "stream",
     "text": [
      "Всего слов: 559855\n"
     ]
    }
   ],
   "source": [
    "print('Всего слов:', len(text.split(' ')))"
   ]
  },
  {
   "cell_type": "markdown",
   "id": "4896ec45",
   "metadata": {},
   "source": [
    "Разделение текста на отдельные предложения:"
   ]
  },
  {
   "cell_type": "code",
   "execution_count": 7,
   "id": "dfdb0156",
   "metadata": {},
   "outputs": [],
   "source": [
    "text_sentences = [re.sub('[^а-яА-ЯёЁ0-9 ,-]', '', s).strip() for s in text.split('.')]"
   ]
  },
  {
   "cell_type": "markdown",
   "id": "bb183af1",
   "metadata": {},
   "source": [
    "Выведение на экран начала текста:"
   ]
  },
  {
   "cell_type": "code",
   "execution_count": 8,
   "id": "7f999743",
   "metadata": {},
   "outputs": [
    {
     "data": {
      "text/plain": [
       "['гарри поттер и методы рационального мышления',\n",
       " 'элиезер юдковский',\n",
       " 'петуния вышла замуж не за дурсля, а за университетского профессора, и гарри попал в гораздо более благоприятную среду',\n",
       " 'у него были частные учителя, дискуссии с отцом, а главное  книги, сотни и тысячи научных и фантастических книг',\n",
       " 'в 11 лет гарри знаком с квантовой механикой, когнитивной психологией, теорией вероятностей и другими вещами']"
      ]
     },
     "execution_count": 8,
     "metadata": {},
     "output_type": "execute_result"
    }
   ],
   "source": [
    "text_sentences[:5]"
   ]
  },
  {
   "cell_type": "markdown",
   "id": "1e1b88fc",
   "metadata": {},
   "source": [
    "<div style=\"background-color: blue; height: 2px; margin: 10px 0;\"></div>"
   ]
  },
  {
   "cell_type": "markdown",
   "id": "66105900",
   "metadata": {},
   "source": [
    "## 3 Пословная токенизация"
   ]
  },
  {
   "cell_type": "markdown",
   "id": "757753f5",
   "metadata": {},
   "source": [
    "### 3.1 Токенизация слов"
   ]
  },
  {
   "cell_type": "markdown",
   "id": "162311c6",
   "metadata": {},
   "source": [
    "Получение словаря уникальных слов текста:"
   ]
  },
  {
   "cell_type": "code",
   "execution_count": 9,
   "id": "c5610ea4",
   "metadata": {},
   "outputs": [],
   "source": [
    "vocabulary = np.array(sorted(set(' '.join(text_sentences).split(' '))))"
   ]
  },
  {
   "cell_type": "markdown",
   "id": "fbc402df",
   "metadata": {},
   "source": [
    "Выведение на экран уникальных слов текста:"
   ]
  },
  {
   "cell_type": "code",
   "execution_count": 10,
   "id": "6f687874",
   "metadata": {},
   "outputs": [
    {
     "data": {
      "text/plain": [
       "array(['', ',', '-', ..., 'ёовтен', 'ёрзал', 'ёрзали'], dtype='<U70')"
      ]
     },
     "execution_count": 10,
     "metadata": {},
     "output_type": "execute_result"
    }
   ],
   "source": [
    "vocabulary"
   ]
  },
  {
   "cell_type": "markdown",
   "id": "67975f35",
   "metadata": {},
   "source": [
    "Формирование словаря токенов:"
   ]
  },
  {
   "cell_type": "code",
   "execution_count": 11,
   "id": "75b3caf5",
   "metadata": {},
   "outputs": [],
   "source": [
    "tokenizer = {char: i for i, char in enumerate(vocabulary)}"
   ]
  },
  {
   "cell_type": "markdown",
   "id": "5dc1403c",
   "metadata": {},
   "source": [
    "Выведение на экран начала словаря токенов:"
   ]
  },
  {
   "cell_type": "code",
   "execution_count": 12,
   "id": "3c45dbb9",
   "metadata": {},
   "outputs": [
    {
     "data": {
      "text/plain": [
       "[('', 0),\n",
       " (',', 1),\n",
       " ('-', 2),\n",
       " ('-20', 3),\n",
       " ('-20,', 4),\n",
       " ('-лучам', 5),\n",
       " ('-лучами', 6),\n",
       " ('-лучах', 7),\n",
       " ('-лучей', 8),\n",
       " ('-лучей,', 9)]"
      ]
     },
     "execution_count": 12,
     "metadata": {},
     "output_type": "execute_result"
    }
   ],
   "source": [
    "list(zip(list(tokenizer.keys())[:10], list(tokenizer.values())[:10]))"
   ]
  },
  {
   "cell_type": "markdown",
   "id": "07fee1ce",
   "metadata": {},
   "source": [
    "---"
   ]
  },
  {
   "cell_type": "markdown",
   "id": "d7a61884",
   "metadata": {},
   "source": [
    "### 3.2 Формирование датасета"
   ]
  },
  {
   "cell_type": "markdown",
   "id": "7972582c",
   "metadata": {},
   "source": [
    "Преобразование текста в вектор на основе токенов:"
   ]
  },
  {
   "cell_type": "code",
   "execution_count": 13,
   "id": "4fa7b0e3",
   "metadata": {},
   "outputs": [],
   "source": [
    "vector = np.array([tokenizer[word] for word in ' '.join(text_sentences).split()])"
   ]
  },
  {
   "cell_type": "markdown",
   "id": "1703bd9e",
   "metadata": {},
   "source": [
    "Выведение на экран части исходного текста и его векторного представления:"
   ]
  },
  {
   "cell_type": "code",
   "execution_count": 14,
   "id": "f27e6d01",
   "metadata": {},
   "outputs": [
    {
     "name": "stdout",
     "output_type": "stream",
     "text": [
      "Исходный текст:\n",
      " гарри поттер и методы рационального мышления. элиезер юдковский (less wrong). петуния вышла замуж не \n",
      "\n",
      "Векторное представление:\n",
      " [ 7866 38158 15738 22281 45053 23368 60539 60776 33452  7709 13911 25152\n",
      " 12535 11670   321 12535 56260 42402 15738  7866 37071  3192  8570  2529\n",
      "  2190 51388 54875 25508  3122 59001 57370 10334 46156 31731   321  8098\n",
      " 18351 50612 15738 54718 24950 15738 57598 18338  3192    52 20462  7866\n",
      " 15505 46156 17964 22304 18408 42799 53509  3735 15738 11490  3958 27042\n",
      "  7866 25152 42167  6473 54875 25508 12009 12925 54815 51961 19266 60880\n",
      " 23997 47115 31302 23457 11865 23363   483 38847 17466 33496 46029 16133\n",
      " 12023  3192 42487 24267  7866 38158 15738 22281 45053 23368 13963 32683\n",
      " 22150 33997 37192  3192]\n"
     ]
    }
   ],
   "source": [
    "text_vector_sample(text, vector)"
   ]
  },
  {
   "cell_type": "markdown",
   "id": "ff9adc52",
   "metadata": {},
   "source": [
    "Формирование набора данных из срезов вектора текста:"
   ]
  },
  {
   "cell_type": "code",
   "execution_count": 15,
   "id": "677ab07b",
   "metadata": {},
   "outputs": [],
   "source": [
    "vector = Dataset.from_tensor_slices(vector)"
   ]
  },
  {
   "cell_type": "markdown",
   "id": "a30f36bb",
   "metadata": {},
   "source": [
    "Формирование последовательностей по заданному количеству символов:"
   ]
  },
  {
   "cell_type": "code",
   "execution_count": 16,
   "id": "8c327c10",
   "metadata": {},
   "outputs": [],
   "source": [
    "sequences = vector.batch(100, drop_remainder=True) "
   ]
  },
  {
   "cell_type": "markdown",
   "id": "bc2d9dec",
   "metadata": {},
   "source": [
    "Формирование датасета:"
   ]
  },
  {
   "cell_type": "code",
   "execution_count": 17,
   "id": "f910f9e9",
   "metadata": {},
   "outputs": [],
   "source": [
    "dataset = sequences.map(prepare_dataset)"
   ]
  },
  {
   "cell_type": "markdown",
   "id": "0fc80ddf",
   "metadata": {},
   "source": [
    "Выведение на экран первой входящей последовательности и соответствующего ей сдвига:"
   ]
  },
  {
   "cell_type": "code",
   "execution_count": 18,
   "id": "3cc18a85",
   "metadata": {},
   "outputs": [
    {
     "name": "stdout",
     "output_type": "stream",
     "text": [
      "Векторное представление:\n",
      "[ 7866 38158 15738 22281 45053 23368 60539 60776 33452  7709 13911 25152\n",
      " 12535 11670   321 12535 56260 42402 15738  7866 37071  3192  8570  2529\n",
      "  2190 51388 54875 25508  3122 59001 57370 10334 46156 31731   321  8098\n",
      " 18351 50612 15738 54718 24950 15738 57598 18338  3192    52 20462  7866\n",
      " 15505 46156 17964 22304 18408 42799 53509  3735 15738 11490  3958 27042\n",
      "  7866 25152 42167  6473 54875 25508 12009 12925 54815 51961 19266 60880\n",
      " 23997 47115 31302 23457 11865 23363   483 38847 17466 33496 46029 16133\n",
      " 12023  3192 42487 24267  7866 38158 15738 22281 45053 23368 13963 32683\n",
      " 22150 33997 37192]\n",
      "[38158 15738 22281 45053 23368 60539 60776 33452  7709 13911 25152 12535\n",
      " 11670   321 12535 56260 42402 15738  7866 37071  3192  8570  2529  2190\n",
      " 51388 54875 25508  3122 59001 57370 10334 46156 31731   321  8098 18351\n",
      " 50612 15738 54718 24950 15738 57598 18338  3192    52 20462  7866 15505\n",
      " 46156 17964 22304 18408 42799 53509  3735 15738 11490  3958 27042  7866\n",
      " 25152 42167  6473 54875 25508 12009 12925 54815 51961 19266 60880 23997\n",
      " 47115 31302 23457 11865 23363   483 38847 17466 33496 46029 16133 12023\n",
      "  3192 42487 24267  7866 38158 15738 22281 45053 23368 13963 32683 22150\n",
      " 33997 37192  3192]\n",
      "\n",
      "Перевод в текст:\n",
      "'гарри поттер и методы рационального мышления элиезер юдковский петуния вышла замуж не за дурсля, а за университетского профессора, и гарри попал в гораздо более благоприятную среду у него были частные учителя, дискуссии с отцом, а главное книги, сотни и тысячи научных и фантастических книг в 11 лет гарри знаком с квантовой механикой, когнитивной психологией, теорией вероятностей и другими вещами но гарри не просто вундеркинд, у него есть загадочная тёмная сторона, которая явно накладывает свой отпечаток на его мышление авторское предисловие к печатному русскому изданию ещё в процессе написания гарри поттер и методы рационального мышления занимали первые места по популярности'\n",
      "'поттер и методы рационального мышления элиезер юдковский петуния вышла замуж не за дурсля, а за университетского профессора, и гарри попал в гораздо более благоприятную среду у него были частные учителя, дискуссии с отцом, а главное книги, сотни и тысячи научных и фантастических книг в 11 лет гарри знаком с квантовой механикой, когнитивной психологией, теорией вероятностей и другими вещами но гарри не просто вундеркинд, у него есть загадочная тёмная сторона, которая явно накладывает свой отпечаток на его мышление авторское предисловие к печатному русскому изданию ещё в процессе написания гарри поттер и методы рационального мышления занимали первые места по популярности в'\n"
     ]
    }
   ],
   "source": [
    "print_single_batch(dataset, vocabulary, word=True)"
   ]
  },
  {
   "cell_type": "markdown",
   "id": "64d4a8d6",
   "metadata": {},
   "source": [
    "Задание констант:"
   ]
  },
  {
   "cell_type": "code",
   "execution_count": 19,
   "id": "82818021",
   "metadata": {},
   "outputs": [],
   "source": [
    "BATCH_SIZE = 100\n",
    "BATCHES_PER_EPOCH = len(sequences) // BATCH_SIZE"
   ]
  },
  {
   "cell_type": "markdown",
   "id": "92a48d54",
   "metadata": {},
   "source": [
    "Формирование датасета с делением на батчи:"
   ]
  },
  {
   "cell_type": "code",
   "execution_count": 20,
   "id": "cc536174",
   "metadata": {},
   "outputs": [],
   "source": [
    "data = dataset.batch(BATCH_SIZE, drop_remainder=True).repeat()\n",
    "data = data.prefetch(AUTOTUNE)"
   ]
  },
  {
   "cell_type": "markdown",
   "id": "073947f0",
   "metadata": {},
   "source": [
    "Выведение на экран размерностей первой входящей последовательности и соответствующего ей сдвига:"
   ]
  },
  {
   "cell_type": "code",
   "execution_count": 21,
   "id": "496ae3e0",
   "metadata": {},
   "outputs": [
    {
     "name": "stdout",
     "output_type": "stream",
     "text": [
      "Размерность входящей последовательности: (100, 99)\n",
      "Размерность целевой последовательности: (100, 99)\n"
     ]
    }
   ],
   "source": [
    "print_single_dim(data)"
   ]
  },
  {
   "cell_type": "markdown",
   "id": "548e7665",
   "metadata": {},
   "source": [
    "---"
   ]
  },
  {
   "cell_type": "markdown",
   "id": "1fda6736",
   "metadata": {},
   "source": [
    "### 3.3 Построение модели"
   ]
  },
  {
   "cell_type": "markdown",
   "id": "ee98a554",
   "metadata": {},
   "source": [
    "Задание модели:"
   ]
  },
  {
   "cell_type": "code",
   "execution_count": 22,
   "id": "50b76fa6",
   "metadata": {},
   "outputs": [],
   "source": [
    "rnn = Sequential([\n",
    "    Embedding(len(vocabulary), BATCH_SIZE, batch_input_shape=[BATCH_SIZE, None]),\n",
    "    LSTM(512, return_sequences=True, stateful=True),\n",
    "    LSTM(512, return_sequences=True, stateful=True),\n",
    "    Dense(len(vocabulary))\n",
    "])"
   ]
  },
  {
   "cell_type": "markdown",
   "id": "9590f5d1",
   "metadata": {},
   "source": [
    "Выведение на экран таблицы поведения параметров на словях нейросети:"
   ]
  },
  {
   "cell_type": "code",
   "execution_count": 23,
   "id": "c4f646f2",
   "metadata": {},
   "outputs": [
    {
     "name": "stdout",
     "output_type": "stream",
     "text": [
      "Model: \"sequential\"\n",
      "_________________________________________________________________\n",
      " Layer (type)                Output Shape              Param #   \n",
      "=================================================================\n",
      " embedding (Embedding)       (100, None, 100)          6108100   \n",
      "                                                                 \n",
      " lstm (LSTM)                 (100, None, 512)          1255424   \n",
      "                                                                 \n",
      " lstm_1 (LSTM)               (100, None, 512)          2099200   \n",
      "                                                                 \n",
      " dense (Dense)               (100, None, 61081)        31334553  \n",
      "                                                                 \n",
      "=================================================================\n",
      "Total params: 40,797,277\n",
      "Trainable params: 40,797,277\n",
      "Non-trainable params: 0\n",
      "_________________________________________________________________\n"
     ]
    }
   ],
   "source": [
    "rnn.summary() "
   ]
  },
  {
   "cell_type": "markdown",
   "id": "7370fa31",
   "metadata": {},
   "source": [
    "Проверка наличия папки для хранения изображений:"
   ]
  },
  {
   "cell_type": "code",
   "execution_count": 24,
   "id": "47b5f399",
   "metadata": {},
   "outputs": [],
   "source": [
    "if os.path.isdir('images/') == False:\n",
    "    os.mkdir('images/')"
   ]
  },
  {
   "cell_type": "markdown",
   "id": "b5bb5fff",
   "metadata": {},
   "source": [
    "Выведение на экран отображения послойной обработки данных моделью:"
   ]
  },
  {
   "cell_type": "code",
   "execution_count": 25,
   "id": "0367d55d",
   "metadata": {},
   "outputs": [
    {
     "data": {
      "image/png": "[encoded data removed]",
      "text/plain": [
       "<IPython.core.display.Image object>"
      ]
     },
     "execution_count": 25,
     "metadata": {},
     "output_type": "execute_result"
    }
   ],
   "source": [
    "plot_model(rnn, 'images/rnn_word_model.png', show_shapes=True, dpi=70)"
   ]
  },
  {
   "cell_type": "markdown",
   "id": "9711f2e6",
   "metadata": {},
   "source": [
    "Проверка модели на восприятие датасета на примере первой последовательности:"
   ]
  },
  {
   "cell_type": "code",
   "execution_count": 26,
   "id": "c5f05539",
   "metadata": {},
   "outputs": [
    {
     "name": "stdout",
     "output_type": "stream",
     "text": [
      "Размерность целевой последовательности: (100, 99)\n",
      "Размерность предсказанной последовательности: (100, 99, 61081)\n",
      "Размерность тензора с 1 индексом классов (99, 1)\n",
      "Индекс класса: 46701 (сбавляя)\n"
     ]
    }
   ],
   "source": [
    "test_single_model(rnn, data, vocabulary)"
   ]
  },
  {
   "cell_type": "markdown",
   "id": "6be9fe81",
   "metadata": {},
   "source": [
    "---"
   ]
  },
  {
   "cell_type": "markdown",
   "id": "6858d2d9",
   "metadata": {},
   "source": [
    "### 3.4 Обучение модели"
   ]
  },
  {
   "cell_type": "markdown",
   "id": "7cb3723f",
   "metadata": {},
   "source": [
    "Проверка наличия папки для хранения контрольных точек:"
   ]
  },
  {
   "cell_type": "code",
   "execution_count": 27,
   "id": "07aa11f2",
   "metadata": {},
   "outputs": [],
   "source": [
    "if os.path.isdir('checkpoints/') == False:\n",
    "    os.mkdir('checkpoints/')"
   ]
  },
  {
   "cell_type": "markdown",
   "id": "27b5fef2",
   "metadata": {},
   "source": [
    "Задание пути для хранения контрольных точек:"
   ]
  },
  {
   "cell_type": "code",
   "execution_count": 28,
   "id": "f04499d1",
   "metadata": {},
   "outputs": [],
   "source": [
    "path_checkpoints = 'checkpoints/rnn_word'"
   ]
  },
  {
   "cell_type": "markdown",
   "id": "326c169b",
   "metadata": {},
   "source": [
    "Проверка наличия папки для хранения контрольных точек:"
   ]
  },
  {
   "cell_type": "code",
   "execution_count": 29,
   "id": "13db204c",
   "metadata": {},
   "outputs": [],
   "source": [
    "if os.path.isdir(path_checkpoints) == False:\n",
    "    os.mkdir(path_checkpoints)"
   ]
  },
  {
   "cell_type": "markdown",
   "id": "b11ecea4",
   "metadata": {},
   "source": [
    "Задание коллбека точек сохранения:"
   ]
  },
  {
   "cell_type": "code",
   "execution_count": 30,
   "id": "8f579aae",
   "metadata": {},
   "outputs": [],
   "source": [
    "checkpoint_path = os.path.join(path_checkpoints, 'checkpoint_{epoch}')\n",
    "checkpoint_callback = ModelCheckpoint(filepath=checkpoint_path, save_weights_only=True)"
   ]
  },
  {
   "cell_type": "markdown",
   "id": "4fa109aa",
   "metadata": {},
   "source": [
    "Компиляция модели с оптимизатором и функцией потерь:"
   ]
  },
  {
   "cell_type": "code",
   "execution_count": 31,
   "id": "fb40a90c",
   "metadata": {},
   "outputs": [],
   "source": [
    "rnn.compile(optimizer='adam', loss=SparseCategoricalCrossentropy(from_logits=True))"
   ]
  },
  {
   "cell_type": "markdown",
   "id": "377a2e23",
   "metadata": {},
   "source": [
    "Обучение модели:"
   ]
  },
  {
   "cell_type": "code",
   "execution_count": null,
   "id": "b02c687c",
   "metadata": {},
   "outputs": [
    {
     "name": "stdout",
     "output_type": "stream",
     "text": [
      "Epoch 1/20\n",
      "34/53 [==================>...........] - ETA: 2:58 - loss: 9.3323"
     ]
    }
   ],
   "source": [
    "history = rnn.fit(\n",
    "    data, \n",
    "    epochs=20, \n",
    "    steps_per_epoch=BATCHES_PER_EPOCH, \n",
    "    callbacks=[checkpoint_callback]\n",
    ")"
   ]
  },
  {
   "cell_type": "markdown",
   "id": "47d6240c",
   "metadata": {},
   "source": [
    "Выведение на экран графика значений функции потерь:"
   ]
  },
  {
   "cell_type": "code",
   "execution_count": null,
   "id": "cf88d6cb",
   "metadata": {},
   "outputs": [],
   "source": [
    "plot_performance(history, 'Значение функции потерь')"
   ]
  },
  {
   "cell_type": "markdown",
   "id": "2a8638cd",
   "metadata": {},
   "source": [
    "Сброс состояния модели:"
   ]
  },
  {
   "cell_type": "code",
   "execution_count": null,
   "id": "5e2cb225",
   "metadata": {},
   "outputs": [],
   "source": [
    "rnn.reset_states()"
   ]
  },
  {
   "cell_type": "markdown",
   "id": "48f3ba4f",
   "metadata": {},
   "source": [
    "---"
   ]
  },
  {
   "cell_type": "markdown",
   "id": "60aa6b52",
   "metadata": {},
   "source": [
    "### 3.5 Генерация текста"
   ]
  },
  {
   "cell_type": "markdown",
   "id": "c27bf909",
   "metadata": {},
   "source": [
    "Выведение на экран результата предсказаний:"
   ]
  },
  {
   "cell_type": "code",
   "execution_count": null,
   "id": "f914d787",
   "metadata": {},
   "outputs": [],
   "source": [
    "predict_next(\n",
    "    sample='гарри поттер отправился на поиски', \n",
    "    model=rnn,\n",
    "    tokenizer=tokenizer,\n",
    "    vocabulary=vocabulary,\n",
    "    n_char_word=100, \n",
    "    temperature=0.6,\n",
    "    batch_size=BATCH_SIZE,\n",
    "    word=True\n",
    ")"
   ]
  },
  {
   "cell_type": "markdown",
   "id": "c1576452",
   "metadata": {},
   "source": [
    "Выведение на экран результата предсказаний:"
   ]
  },
  {
   "cell_type": "code",
   "execution_count": null,
   "id": "cc3e21cf",
   "metadata": {},
   "outputs": [],
   "source": [
    "predict_next(\n",
    "    sample='гермиона читала книгу', \n",
    "    model=rnn,\n",
    "    tokenizer=tokenizer,\n",
    "    vocabulary=vocabulary,\n",
    "    n_char_word=100, \n",
    "    temperature=0.8,\n",
    "    batch_size=BATCH_SIZE,\n",
    "    word=True\n",
    ")"
   ]
  },
  {
   "cell_type": "markdown",
   "id": "876cb7b5",
   "metadata": {},
   "source": [
    ">Модель продемонстрировала относительно неплохую способность к построению текстов с содержащимся в них смыслом."
   ]
  },
  {
   "cell_type": "markdown",
   "id": "4d57bded",
   "metadata": {},
   "source": [
    "<div style=\"background-color: blue; height: 2px; margin: 10px 0;\"></div>"
   ]
  },
  {
   "cell_type": "markdown",
   "id": "af87fa8a",
   "metadata": {},
   "source": [
    "## 4 Общий вывод"
   ]
  },
  {
   "cell_type": "markdown",
   "id": "8d6fc431",
   "metadata": {},
   "source": [
    "Результаты проведённого эксперимента можно улучшить за счёт усложения модели посредством изменения её слоёв, а также большего числа итераций обучения. Однако в рамках поставленной задачи, которая заключалась в построении простой модели RNN с посимвольной токенизацией, результаты обучения можно назвать удовлетворительными. "
   ]
  },
  {
   "cell_type": "markdown",
   "id": "f12465d7",
   "metadata": {},
   "source": [
    "<div style=\"text-align: center; font-size: 20px; padding: 15px 0;\">\n",
    "    <a href=\"#Содержание\" data-toc-modified-id=\"Содержание\" style=\"text-decoration: none; color: #296eaa; border: 2px dashed #296eaa; opacity: 0.8; border-radius: 3px; padding: 10px 80px;\">\n",
    "        В начало файла ↑\n",
    "    </a>\n",
    "</div>"
   ]
  }
 ],
 "metadata": {
  "kernelspec": {
   "display_name": "Python 3 (ipykernel)",
   "language": "python",
   "name": "python3"
  },
  "language_info": {
   "codemirror_mode": {
    "name": "ipython",
    "version": 3
   },
   "file_extension": ".py",
   "mimetype": "text/x-python",
   "name": "python",
   "nbconvert_exporter": "python",
   "pygments_lexer": "ipython3",
   "version": "3.10.11"
  }
 },
 "nbformat": 4,
 "nbformat_minor": 5
}

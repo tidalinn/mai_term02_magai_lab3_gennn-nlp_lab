{
 "cells": [
  {
   "cell_type": "markdown",
   "id": "be80210a",
   "metadata": {},
   "source": [
    "<h1>Содержание<span class=\"tocSkip\"></span></h1>\n",
    "<br>\n",
    "<div class=\"toc\">\n",
    "    <ul class=\"toc-item\">\n",
    "        <li>\n",
    "            <span>\n",
    "                <a href=\"#1-Подготовка-окружения\">\n",
    "                    <span class=\"toc-item-num\">1&nbsp;&nbsp;</span>\n",
    "                    Подготовка окружения\n",
    "                </a>\n",
    "            </span>\n",
    "        </li>\n",
    "        <li>\n",
    "            <span>\n",
    "                <a href=\"#2-Загрузка-данных\">\n",
    "                    <span class=\"toc-item-num\">2&nbsp;&nbsp;</span>\n",
    "                    Загрузка данных\n",
    "                </a>\n",
    "            </span>\n",
    "        </li>\n",
    "        <li>\n",
    "            <span>\n",
    "                <a href=\"#3-Трансформерная-архитектура-GPT\">\n",
    "                    <span class=\"toc-item-num\">3&nbsp;&nbsp;</span>\n",
    "                    Трансформерная архитектура GPT\n",
    "                </a>\n",
    "            </span>\n",
    "            <ul class=\"toc-item\">\n",
    "                <li>\n",
    "                    <span>\n",
    "                        <a href=\"#3.1-Токенизация-символов\">\n",
    "                            <span class=\"toc-item-num\">3.1&nbsp;&nbsp;</span>\n",
    "                            Токенизация символов\n",
    "                        </a>\n",
    "                    </span>\n",
    "                </li>\n",
    "                <li>\n",
    "                    <span>\n",
    "                        <a href=\"#3.2-Подготовка-модели\">\n",
    "                            <span class=\"toc-item-num\">3.2&nbsp;&nbsp;</span>\n",
    "                            Подготовка модели\n",
    "                        </a>\n",
    "                    </span>\n",
    "                </li>\n",
    "                <li>\n",
    "                    <span>\n",
    "                        <a href=\"#3.3-Обучение-модели\">\n",
    "                            <span class=\"toc-item-num\">3.3&nbsp;&nbsp;</span>\n",
    "                            Обучение модели\n",
    "                        </a>\n",
    "                    </span>\n",
    "                </li>\n",
    "                <li>\n",
    "                    <span>\n",
    "                        <a href=\"#3.4-Генерация-текста\">\n",
    "                            <span class=\"toc-item-num\">3.4&nbsp;&nbsp;</span>\n",
    "                            Генерация текста\n",
    "                        </a>\n",
    "                    </span>\n",
    "                </li>\n",
    "            </ul>\n",
    "        </li>\n",
    "        <li>\n",
    "            <span>\n",
    "                <a href=\"#4-Общий-вывод\">\n",
    "                    <span class=\"toc-item-num\">4&nbsp;&nbsp;</span>\n",
    "                    Общий вывод\n",
    "                </a>\n",
    "            </span>\n",
    "        </li>\n",
    "    </ul>\n",
    "</div>"
   ]
  },
  {
   "cell_type": "markdown",
   "id": "7e9d4a79",
   "metadata": {},
   "source": [
    "# Генеративные текстовые нейросети | Архитектура GPT"
   ]
  },
  {
   "cell_type": "markdown",
   "id": "7ef168b4",
   "metadata": {},
   "source": [
    "**Постановка задачи:** натренировать и сравнить качество нескольких генеративных текстовых моделей на одном из заданных текстовых датасетов.\n",
    "\n",
    "**Источник данных:** [Harry Potter and the Methods of Rationality](https://hpmor.ru/).\n",
    "\n",
    "**Характер данных:** текст книги \"Гарри Поттер и методы рационального мышления\".\n",
    "\n",
    "**Основные этапы:** исследовать следующие нейросетевые архитектуры:\n",
    "\n",
    "1. Simple RNN с посимвольной и пословной токенизацией.\n",
    "2. Однонаправленная однослойная и многослойная LSTM c посимвольной токенизацией и токенизацией по словам и [на основе BPE](https://keras.io/api/keras_nlp/tokenizers/byte_pair_tokenizer/).\n",
    "3. Двунаправленная LSTM.\n",
    "4. *(На хорошую оценку)* трансформерная архитектура (GPT) \"с нуля\" [пример](https://keras.io/examples/generative/text_generation_gpt/).\n",
    "5. *(На отличную оценку)* дообучение предобученной GPT-сети [пример](https://github.com/ZotovaElena/RuGPT3_finetuning)."
   ]
  },
  {
   "cell_type": "markdown",
   "id": "f83f3ad7",
   "metadata": {},
   "source": [
    "---"
   ]
  },
  {
   "cell_type": "markdown",
   "id": "f310f623",
   "metadata": {},
   "source": [
    "# Реализации\n",
    "\n",
    "1. [RNN с посимвольной токенизацией](RNN_char.ipynb)\n",
    "2. [RNN с пословной токенизацией](RNN_word.ipynb)\n",
    "3. [Однонаправленная LSTM + BPE](LSTM_unidirectional_BPE.ipynb)\n",
    "4. [Двунаправленная LSTM](LSTM_bidirectional.ipynb)\n",
    "5. Архитектура GPT (текущий файл)\n",
    "6. [Дообучение GPT](GPT_finetuning.ipynb)"
   ]
  },
  {
   "cell_type": "markdown",
   "id": "532a6f19",
   "metadata": {},
   "source": [
    "<div style=\"background-color: blue; height: 2px; margin: 10px 0;\"></div>"
   ]
  },
  {
   "cell_type": "markdown",
   "id": "ec375e8c",
   "metadata": {},
   "source": [
    "## 1 Подготовка окружения"
   ]
  },
  {
   "cell_type": "markdown",
   "id": "4c943c00",
   "metadata": {},
   "source": [
    "Импорт библиотек:"
   ]
  },
  {
   "cell_type": "code",
   "execution_count": 1,
   "id": "13be500e",
   "metadata": {
    "scrolled": true
   },
   "outputs": [],
   "source": [
    "from typing import Tuple\n",
    "\n",
    "import os\n",
    "\n",
    "import tensorflow as tf\n",
    "\n",
    "from tensorflow import keras\n",
    "from tensorflow.data import TextLineDataset, AUTOTUNE\n",
    "from keras import callbacks, utils, losses\n",
    "\n",
    "import keras.layers as l\n",
    "\n",
    "import keras_nlp\n",
    "\n",
    "from keras_nlp import tokenizers, samplers, metrics\n",
    "\n",
    "# custom funcs\n",
    "import utils.web_scrapping as web\n",
    "import utils.process_checking as check\n",
    "import utils.data_preprocessing as data_prep\n",
    "import utils.charts_plotting as chart"
   ]
  },
  {
   "cell_type": "markdown",
   "id": "0125df91",
   "metadata": {},
   "source": [
    "<div style=\"background-color: blue; height: 2px; margin: 10px 0;\"></div>"
   ]
  },
  {
   "cell_type": "markdown",
   "id": "e16c9f4d",
   "metadata": {},
   "source": [
    "## 2 Загрузка данных"
   ]
  },
  {
   "cell_type": "markdown",
   "id": "69a64788",
   "metadata": {},
   "source": [
    "Формирование/загрузка набора данных в зависимости от его наличия:"
   ]
  },
  {
   "cell_type": "code",
   "execution_count": 2,
   "id": "c940d6e9",
   "metadata": {},
   "outputs": [
    {
     "name": "stdout",
     "output_type": "stream",
     "text": [
      "Uploaded from data/hpmor.txt\n"
     ]
    }
   ],
   "source": [
    "data = web.load_data('https://hpmor.ru/', 'hpmor.txt')"
   ]
  },
  {
   "cell_type": "markdown",
   "id": "b6f00925",
   "metadata": {},
   "source": [
    "Выведение на экран начала текста:"
   ]
  },
  {
   "cell_type": "code",
   "execution_count": 3,
   "id": "ac6ca3fd",
   "metadata": {},
   "outputs": [
    {
     "data": {
      "text/plain": [
       "'гарри поттер и методы рационального мышления. элиезер юдковский (less wrong). петуния вышла замуж не за дурсля, а за университетского профессора, и гарри попал в гораздо более благоприятную среду. у него были частные учителя, дискуссии с отцом, а главное — книги, сотни и тысячи научных и фантастических книг. в 11 лет гарри знаком с квантовой механикой, когнитивной психологией, теорией вероятностей и другими вещами. но гарри не просто вундеркинд, у него есть загадочная тёмная сторона, которая явн'"
      ]
     },
     "execution_count": 3,
     "metadata": {},
     "output_type": "execute_result"
    }
   ],
   "source": [
    "data[:500]"
   ]
  },
  {
   "cell_type": "markdown",
   "id": "22448001",
   "metadata": {},
   "source": [
    "Выведение на экран общего числа слов и предложений в тексте:"
   ]
  },
  {
   "cell_type": "code",
   "execution_count": 4,
   "id": "9df9f9b4",
   "metadata": {},
   "outputs": [
    {
     "name": "stdout",
     "output_type": "stream",
     "text": [
      "Всего слов: 559791\n",
      "Всего предложений: 37351\n"
     ]
    }
   ],
   "source": [
    "check.print_total(data)"
   ]
  },
  {
   "cell_type": "markdown",
   "id": "93d12cdf",
   "metadata": {},
   "source": [
    "Задание путей до выборок данных:"
   ]
  },
  {
   "cell_type": "code",
   "execution_count": 5,
   "id": "f6910635",
   "metadata": {},
   "outputs": [],
   "source": [
    "path_train = 'data/hpmor_train.txt'\n",
    "path_valid = 'data/hpmor_valid.txt'"
   ]
  },
  {
   "cell_type": "markdown",
   "id": "333a6d2a",
   "metadata": {},
   "source": [
    "Формирование тренировочной и валидационной выборок:"
   ]
  },
  {
   "cell_type": "code",
   "execution_count": 6,
   "id": "382f5f06",
   "metadata": {},
   "outputs": [
    {
     "name": "stdout",
     "output_type": "stream",
     "text": [
      "Files already exist\n"
     ]
    }
   ],
   "source": [
    "data_prep.train_valid_test_split_save(data, path_train, path_valid)"
   ]
  },
  {
   "cell_type": "markdown",
   "id": "1e1b88fc",
   "metadata": {},
   "source": [
    "<div style=\"background-color: blue; height: 2px; margin: 10px 0;\"></div>"
   ]
  },
  {
   "cell_type": "markdown",
   "id": "fc85df30",
   "metadata": {},
   "source": [
    "## 3 Трансформерная архитектура GPT"
   ]
  },
  {
   "cell_type": "markdown",
   "id": "d01e36c3",
   "metadata": {},
   "source": [
    "### 3.1 Токенизация символов"
   ]
  },
  {
   "cell_type": "markdown",
   "id": "504184a2",
   "metadata": {},
   "source": [
    "Задание функции разделения данных на признаки и целевой признак:"
   ]
  },
  {
   "cell_type": "code",
   "execution_count": 7,
   "id": "83e51631",
   "metadata": {},
   "outputs": [],
   "source": [
    "def preprocess(inputs: TextLineDataset):\n",
    "    outputs = tokenizer(inputs)\n",
    "    features = start_packer(outputs)\n",
    "    labels = outputs\n",
    "    return features, labels"
   ]
  },
  {
   "cell_type": "markdown",
   "id": "7475b595",
   "metadata": {},
   "source": [
    "---"
   ]
  },
  {
   "cell_type": "markdown",
   "id": "1f759ae5",
   "metadata": {},
   "source": [
    "Выведение на экран максимальной и минимальной длины предложений в тексте:"
   ]
  },
  {
   "cell_type": "code",
   "execution_count": 8,
   "id": "95b1fb70",
   "metadata": {},
   "outputs": [
    {
     "name": "stdout",
     "output_type": "stream",
     "text": [
      "Максимальная длина строки: 217\n",
      "Минимальная длина строки: 0\n"
     ]
    }
   ],
   "source": [
    "check.print_max_min_len(data.split('.'))"
   ]
  },
  {
   "cell_type": "markdown",
   "id": "a56b30f8",
   "metadata": {},
   "source": [
    "Задание констант:"
   ]
  },
  {
   "cell_type": "code",
   "execution_count": 9,
   "id": "83e43208",
   "metadata": {},
   "outputs": [],
   "source": [
    "BATCH_SIZE = 64\n",
    "SEQ_LEN = 128\n",
    "MIN_SEQ_LEN = 450\n",
    "MAX_VOCAB_LEN = 5000"
   ]
  },
  {
   "cell_type": "markdown",
   "id": "57702265",
   "metadata": {},
   "source": [
    "Формирование датасетов:"
   ]
  },
  {
   "cell_type": "code",
   "execution_count": 10,
   "id": "9c6903ad",
   "metadata": {},
   "outputs": [],
   "source": [
    "train_dataset = (\n",
    "    TextLineDataset(path_train)\n",
    "    .filter(lambda x: tf.strings.length(x) > MIN_SEQ_LEN)\n",
    "    .batch(BATCH_SIZE)\n",
    "    .shuffle(buffer_size=256)\n",
    ")\n",
    "\n",
    "valid_dataset = (\n",
    "    TextLineDataset(path_valid)\n",
    "    .filter(lambda x: tf.strings.length(x) > MIN_SEQ_LEN)\n",
    "    .batch(BATCH_SIZE)\n",
    ")"
   ]
  },
  {
   "cell_type": "markdown",
   "id": "3143c30c",
   "metadata": {},
   "source": [
    "Выведение на экран первого бартча тренировочного датасета:"
   ]
  },
  {
   "cell_type": "code",
   "execution_count": 11,
   "id": "40fe9032",
   "metadata": {},
   "outputs": [
    {
     "data": {
      "text/plain": [
       "'профессор макгонагалл, у которой использование маховика времени не вошло в привычку настолько, как у директора и гарри, после окончания совещания сразу же ушла спать звук шёл секунд двадцать, поэтому, наверное, минуты две на метле… движением настолько гладким, что оно казалось неосознанным, профессор макгонагалл приняла нужную позу: — экспекто патронум сгусток красного света почти в упор ударил в затылок не-сьюзен и швырнул её на пол — с ним всё в порядке, ему лишь нужен день отдыха — ты должен '"
      ]
     },
     "execution_count": 11,
     "metadata": {},
     "output_type": "execute_result"
    }
   ],
   "source": [
    "list(train_dataset.as_numpy_iterator())[0][0].decode('utf-8')[:500]"
   ]
  },
  {
   "cell_type": "markdown",
   "id": "7da99bc9",
   "metadata": {},
   "source": [
    "Формирование словаря:"
   ]
  },
  {
   "cell_type": "code",
   "execution_count": 12,
   "id": "15498b0c",
   "metadata": {
    "scrolled": true
   },
   "outputs": [],
   "source": [
    "vocabulary = tokenizers.compute_word_piece_vocabulary(\n",
    "    train_dataset,\n",
    "    vocabulary_size=MAX_VOCAB_LEN,\n",
    "    lowercase=True,\n",
    "    reserved_tokens=['[PAD]', '[UNK]', '[BOS]'],\n",
    ")"
   ]
  },
  {
   "cell_type": "markdown",
   "id": "ce148578",
   "metadata": {},
   "source": [
    "Выведение на экран общего числа слов:"
   ]
  },
  {
   "cell_type": "code",
   "execution_count": 13,
   "id": "91563ba7",
   "metadata": {},
   "outputs": [
    {
     "name": "stdout",
     "output_type": "stream",
     "text": [
      "Слов в словаре: 4926\n"
     ]
    }
   ],
   "source": [
    "print('Слов в словаре:', len(vocabulary))"
   ]
  },
  {
   "cell_type": "markdown",
   "id": "069b3e39",
   "metadata": {},
   "source": [
    "Выведение на экран первых элементов словаря:"
   ]
  },
  {
   "cell_type": "code",
   "execution_count": 14,
   "id": "a1bda0be",
   "metadata": {},
   "outputs": [
    {
     "data": {
      "text/plain": [
       "['[PAD]', '[UNK]', '[BOS]', '!', '#', '$', '%', '&', '(', ')']"
      ]
     },
     "execution_count": 14,
     "metadata": {},
     "output_type": "execute_result"
    }
   ],
   "source": [
    "vocabulary[:10]"
   ]
  },
  {
   "cell_type": "markdown",
   "id": "1b697ac0",
   "metadata": {},
   "source": [
    "Формирование словаря токенов:"
   ]
  },
  {
   "cell_type": "code",
   "execution_count": 15,
   "id": "ab1f0ce0",
   "metadata": {},
   "outputs": [],
   "source": [
    "tokenizer = tokenizers.WordPieceTokenizer(\n",
    "    vocabulary=vocabulary,\n",
    "    sequence_length=SEQ_LEN,\n",
    "    lowercase=True\n",
    ")"
   ]
  },
  {
   "cell_type": "markdown",
   "id": "b3e8aae6",
   "metadata": {},
   "source": [
    "задание объекта, формирующего токен начала строки:"
   ]
  },
  {
   "cell_type": "code",
   "execution_count": 16,
   "id": "2893b4f3",
   "metadata": {},
   "outputs": [],
   "source": [
    "start_packer = keras_nlp.layers.StartEndPacker(\n",
    "    sequence_length=SEQ_LEN,\n",
    "    start_value=tokenizer.token_to_id('[BOS]'),\n",
    ")"
   ]
  },
  {
   "cell_type": "markdown",
   "id": "8257401f",
   "metadata": {},
   "source": [
    "Токенизация датасетов:"
   ]
  },
  {
   "cell_type": "code",
   "execution_count": 17,
   "id": "5eca9028",
   "metadata": {},
   "outputs": [],
   "source": [
    "train = train_dataset.map(preprocess, num_parallel_calls=AUTOTUNE).prefetch(AUTOTUNE)\n",
    "valid = valid_dataset.map(preprocess, num_parallel_calls=AUTOTUNE).prefetch(AUTOTUNE)"
   ]
  },
  {
   "cell_type": "markdown",
   "id": "62e58dcb",
   "metadata": {},
   "source": [
    "Выведение на экран экземпляра признаков и целевого признака:"
   ]
  },
  {
   "cell_type": "code",
   "execution_count": 18,
   "id": "695cadc4",
   "metadata": {},
   "outputs": [
    {
     "name": "stdout",
     "output_type": "stream",
     "text": [
      "Признаки (128,):\n",
      "[   2   14   14   14  697   23 3035  316  715  965    3  100  527   67\n",
      "  227   12  100  614  373   12   81 2647  712 1927  134 1971 1497  179\n",
      "  289 2238   12  169  124  306 4597   82  504   73  169 2440  191  280\n",
      "  304  111 3728   12  100  109  111  259  276  392 1547   12  109  454\n",
      "   12  158  125 1828 1601  627  417  467 1653   12  109  154 4711 2408\n",
      "   82 4077  151  409 1730   80  609 3359  148 1020  209   12   65  383\n",
      "  537   79  565 4321  706  127 2352 3162  168  141  161 4776  120 1469\n",
      " 2071   67 3647 1246   76  151 3085  338   12   67  179 2236  579 1718\n",
      "  348   12  117   65  445 4513  122   73 4791  513 3833 3093  223 1125\n",
      " 2688  621]\n",
      "\n",
      "Перевод в текст:\n",
      "[BOS] . . . глава 7 ##8 вообще кому угодно ! — дело в том , — ответила минерва , р ##ас ##п ##ря ##м ##ляя пальцами до ##ку ##мент , который она при ##несла с собой и который лежал теперь перед ней на столе , — что на самом деле альбус считал , что знает , кто по ##бе ##дит волдеморта отец также добавил , что только глуп ##ец с ##тр ##о ##ит планы п ##ре ##дельно ##й сложно ##сти , а значит следует о ##г ##рани ##чить ##ся двумя события ##ми они уже отметил ##и ту ночь в годрик ##овой л ##о ##щи ##не , в до ##кла ##де альбуса дамблдора , как а ##ном ##ально ##е и пот ##ен ##циально важное со ##бы ##тие полагаю\n",
      "\n",
      "Целевой признак (128,):\n",
      "[  14   14   14  697   23 3035  316  715  965    3  100  527   67  227\n",
      "   12  100  614  373   12   81 2647  712 1927  134 1971 1497  179  289\n",
      " 2238   12  169  124  306 4597   82  504   73  169 2440  191  280  304\n",
      "  111 3728   12  100  109  111  259  276  392 1547   12  109  454   12\n",
      "  158  125 1828 1601  627  417  467 1653   12  109  154 4711 2408   82\n",
      " 4077  151  409 1730   80  609 3359  148 1020  209   12   65  383  537\n",
      "   79  565 4321  706  127 2352 3162  168  141  161 4776  120 1469 2071\n",
      "   67 3647 1246   76  151 3085  338   12   67  179 2236  579 1718  348\n",
      "   12  117   65  445 4513  122   73 4791  513 3833 3093  223 1125 2688\n",
      "  621   12]\n",
      "\n",
      "Перевод в текст:\n",
      ". . . глава 7 ##8 вообще кому угодно ! — дело в том , — ответила минерва , р ##ас ##п ##ря ##м ##ляя пальцами до ##ку ##мент , который она при ##несла с собой и который лежал теперь перед ней на столе , — что на самом деле альбус считал , что знает , кто по ##бе ##дит волдеморта отец также добавил , что только глуп ##ец с ##тр ##о ##ит планы п ##ре ##дельно ##й сложно ##сти , а значит следует о ##г ##рани ##чить ##ся двумя события ##ми они уже отметил ##и ту ночь в годрик ##овой л ##о ##щи ##не , в до ##кла ##де альбуса дамблдора , как а ##ном ##ально ##е и пот ##ен ##циально важное со ##бы ##тие полагаю ,\n",
      "\n"
     ]
    }
   ],
   "source": [
    "check.print_single_element(\n",
    "    train.get_single_element()[0],\n",
    "    train.get_single_element()[1],\n",
    "    tokenizer.id_to_token\n",
    ")"
   ]
  },
  {
   "cell_type": "markdown",
   "id": "53456cbc",
   "metadata": {},
   "source": [
    "---"
   ]
  },
  {
   "cell_type": "markdown",
   "id": "b11e46b7",
   "metadata": {},
   "source": [
    "### 3.2 Подготовка модели"
   ]
  },
  {
   "cell_type": "markdown",
   "id": "60abb0aa",
   "metadata": {},
   "source": [
    "Задание функции, конструирующей модель:"
   ]
  },
  {
   "cell_type": "code",
   "execution_count": 19,
   "id": "c1ed5330",
   "metadata": {},
   "outputs": [],
   "source": [
    "def model_construction(vocab_size: int,\n",
    "                       seq_len: int,\n",
    "                       embed_dim: int,\n",
    "                       n_layers: int,\n",
    "                       n_heads: int,\n",
    "                       inter_dim: int) -> keras.Model:\n",
    "    \n",
    "    features = l.Input(shape=(None,), dtype=tf.int32)\n",
    "    \n",
    "    embedding_layer = keras_nlp.layers.TokenAndPositionEmbedding(\n",
    "        vocabulary_size=vocab_size,\n",
    "        sequence_length=seq_len,\n",
    "        embedding_dim=embed_dim,\n",
    "        mask_zero=True,\n",
    "    )\n",
    "    \n",
    "    x = embedding_layer(features)\n",
    "    \n",
    "    for _ in range(n_layers):\n",
    "        decoder_layer = keras_nlp.layers.TransformerDecoder(\n",
    "            num_heads=n_heads,\n",
    "            intermediate_dim=inter_dim,\n",
    "        )\n",
    "        x = decoder_layer(x)\n",
    "        \n",
    "    target = l.Dense(vocab_size)(x)\n",
    "    \n",
    "    model = keras.Model(inputs=features, outputs=target)\n",
    "    \n",
    "    return model"
   ]
  },
  {
   "cell_type": "markdown",
   "id": "e3ef3802",
   "metadata": {},
   "source": [
    "---"
   ]
  },
  {
   "cell_type": "markdown",
   "id": "594afab2",
   "metadata": {},
   "source": [
    "Задание модели:"
   ]
  },
  {
   "cell_type": "code",
   "execution_count": 20,
   "id": "4402123e",
   "metadata": {},
   "outputs": [],
   "source": [
    "model = model_construction(\n",
    "    vocab_size=MAX_VOCAB_LEN,\n",
    "    seq_len=SEQ_LEN,\n",
    "    embed_dim=256,\n",
    "    n_layers=2,\n",
    "    n_heads=3,\n",
    "    inter_dim=256    \n",
    ")"
   ]
  },
  {
   "cell_type": "markdown",
   "id": "1e7ee3bd",
   "metadata": {},
   "source": [
    "Выведение на экран таблицы поведения параметров на слоях нейросети:"
   ]
  },
  {
   "cell_type": "code",
   "execution_count": 21,
   "id": "cdc11006",
   "metadata": {},
   "outputs": [
    {
     "name": "stdout",
     "output_type": "stream",
     "text": [
      "Model: \"model\"\n",
      "_________________________________________________________________\n",
      " Layer (type)                Output Shape              Param #   \n",
      "=================================================================\n",
      " input_1 (InputLayer)        [(None, None)]            0         \n",
      "                                                                 \n",
      " token_and_position_embeddin  (None, None, 256)        1312768   \n",
      " g (TokenAndPositionEmbeddin                                     \n",
      " g)                                                              \n",
      "                                                                 \n",
      " transformer_decoder (Transf  (None, None, 256)        394749    \n",
      " ormerDecoder)                                                   \n",
      "                                                                 \n",
      " transformer_decoder_1 (Tran  (None, None, 256)        394749    \n",
      " sformerDecoder)                                                 \n",
      "                                                                 \n",
      " dense (Dense)               (None, None, 5000)        1285000   \n",
      "                                                                 \n",
      "=================================================================\n",
      "Total params: 3,387,266\n",
      "Trainable params: 3,387,266\n",
      "Non-trainable params: 0\n",
      "_________________________________________________________________\n"
     ]
    }
   ],
   "source": [
    "model.summary()"
   ]
  },
  {
   "cell_type": "markdown",
   "id": "37682b51",
   "metadata": {},
   "source": [
    "Проверка наличия папки для хранения изображений:"
   ]
  },
  {
   "cell_type": "code",
   "execution_count": 22,
   "id": "736437f7",
   "metadata": {},
   "outputs": [],
   "source": [
    "if os.path.isdir('images/') == False:\n",
    "    os.mkdir('images/')"
   ]
  },
  {
   "cell_type": "markdown",
   "id": "a949d3f2",
   "metadata": {},
   "source": [
    "Выведение на экран отображения послойной обработки данных моделью:"
   ]
  },
  {
   "cell_type": "code",
   "execution_count": 23,
   "id": "e25fcbed",
   "metadata": {},
   "outputs": [
    {
     "data": {
      "image/png": "[encoded data removed]",
      "text/plain": [
       "<IPython.core.display.Image object>"
      ]
     },
     "execution_count": 23,
     "metadata": {},
     "output_type": "execute_result"
    }
   ],
   "source": [
    "utils.plot_model(model, 'images/gpt_arch.png', show_shapes=True, dpi=70)"
   ]
  },
  {
   "cell_type": "markdown",
   "id": "4259dd83",
   "metadata": {},
   "source": [
    "---"
   ]
  },
  {
   "cell_type": "markdown",
   "id": "ae59a809",
   "metadata": {},
   "source": [
    "### 3.3 Обучение модели"
   ]
  },
  {
   "cell_type": "markdown",
   "id": "9b7d352c",
   "metadata": {},
   "source": [
    "Проверка наличия папки для хранения контрольных точек:"
   ]
  },
  {
   "cell_type": "code",
   "execution_count": 24,
   "id": "cd12e753",
   "metadata": {},
   "outputs": [],
   "source": [
    "if os.path.isdir('checkpoints/') == False:\n",
    "    os.mkdir('checkpoints/')"
   ]
  },
  {
   "cell_type": "markdown",
   "id": "2329cf30",
   "metadata": {},
   "source": [
    "Задание пути для хранения контрольных точек:"
   ]
  },
  {
   "cell_type": "code",
   "execution_count": 25,
   "id": "a8390ad1",
   "metadata": {},
   "outputs": [],
   "source": [
    "path_checkpoints = 'checkpoints/gpt_arch'"
   ]
  },
  {
   "cell_type": "markdown",
   "id": "5eb522f9",
   "metadata": {},
   "source": [
    "Проверка наличия папки для хранения контрольных точек:"
   ]
  },
  {
   "cell_type": "code",
   "execution_count": 26,
   "id": "aa414b0b",
   "metadata": {},
   "outputs": [],
   "source": [
    "if os.path.isdir(path_checkpoints) == False:\n",
    "    os.mkdir(path_checkpoints)"
   ]
  },
  {
   "cell_type": "markdown",
   "id": "8e7c3548",
   "metadata": {},
   "source": [
    "Задание коллбека точек сохранения:"
   ]
  },
  {
   "cell_type": "code",
   "execution_count": 27,
   "id": "4823a826",
   "metadata": {},
   "outputs": [],
   "source": [
    "checkpoint_path = os.path.join(path_checkpoints, 'checkpoint_{epoch}')\n",
    "\n",
    "checkpoint_callback = callbacks.ModelCheckpoint(\n",
    "    filepath=checkpoint_path, \n",
    "    save_weights_only=True, \n",
    "    verbose=1\n",
    ")"
   ]
  },
  {
   "cell_type": "markdown",
   "id": "29a361ae",
   "metadata": {},
   "source": [
    "Подготовка модели к обучению:"
   ]
  },
  {
   "cell_type": "code",
   "execution_count": 28,
   "id": "39910720",
   "metadata": {},
   "outputs": [],
   "source": [
    "model.compile(\n",
    "    optimizer='adam', \n",
    "    loss=losses.SparseCategoricalCrossentropy(from_logits=True), \n",
    "    metrics=['accuracy']\n",
    ")"
   ]
  },
  {
   "cell_type": "markdown",
   "id": "57a8d04d",
   "metadata": {},
   "source": [
    "Обучение модели:"
   ]
  },
  {
   "cell_type": "code",
   "execution_count": 29,
   "id": "8588777e",
   "metadata": {
    "scrolled": true
   },
   "outputs": [
    {
     "name": "stdout",
     "output_type": "stream",
     "text": [
      "Epoch 1/100\n",
      "\n",
      "Epoch 1: saving model to checkpoints/gpt_arch\\checkpoint_1\n",
      "1/1 - 6s - loss: 8.5657 - accuracy: 3.2552e-04 - val_loss: 8.3923 - val_accuracy: 0.0191 - 6s/epoch - 6s/step\n",
      "Epoch 2/100\n",
      "\n",
      "Epoch 2: saving model to checkpoints/gpt_arch\\checkpoint_2\n",
      "1/1 - 2s - loss: 8.2530 - accuracy: 0.0295 - val_loss: 8.1910 - val_accuracy: 0.0512 - 2s/epoch - 2s/step\n",
      "Epoch 3/100\n",
      "\n",
      "Epoch 3: saving model to checkpoints/gpt_arch\\checkpoint_3\n",
      "1/1 - 2s - loss: 7.9457 - accuracy: 0.0638 - val_loss: 7.9649 - val_accuracy: 0.0512 - 2s/epoch - 2s/step\n",
      "Epoch 4/100\n",
      "\n",
      "Epoch 4: saving model to checkpoints/gpt_arch\\checkpoint_4\n",
      "1/1 - 2s - loss: 7.6510 - accuracy: 0.0638 - val_loss: 7.7469 - val_accuracy: 0.0512 - 2s/epoch - 2s/step\n",
      "Epoch 5/100\n",
      "\n",
      "Epoch 5: saving model to checkpoints/gpt_arch\\checkpoint_5\n",
      "1/1 - 2s - loss: 7.3892 - accuracy: 0.0638 - val_loss: 7.5614 - val_accuracy: 0.0512 - 2s/epoch - 2s/step\n",
      "Epoch 6/100\n",
      "\n",
      "Epoch 6: saving model to checkpoints/gpt_arch\\checkpoint_6\n",
      "1/1 - 2s - loss: 7.1614 - accuracy: 0.0638 - val_loss: 7.4119 - val_accuracy: 0.0512 - 2s/epoch - 2s/step\n",
      "Epoch 7/100\n",
      "\n",
      "Epoch 7: saving model to checkpoints/gpt_arch\\checkpoint_7\n",
      "1/1 - 2s - loss: 6.9618 - accuracy: 0.0638 - val_loss: 7.2949 - val_accuracy: 0.0512 - 2s/epoch - 2s/step\n",
      "Epoch 8/100\n",
      "\n",
      "Epoch 8: saving model to checkpoints/gpt_arch\\checkpoint_8\n",
      "1/1 - 2s - loss: 6.7837 - accuracy: 0.0638 - val_loss: 7.2056 - val_accuracy: 0.0512 - 2s/epoch - 2s/step\n",
      "Epoch 9/100\n",
      "\n",
      "Epoch 9: saving model to checkpoints/gpt_arch\\checkpoint_9\n",
      "1/1 - 2s - loss: 6.6191 - accuracy: 0.0638 - val_loss: 7.1412 - val_accuracy: 0.0512 - 2s/epoch - 2s/step\n",
      "Epoch 10/100\n",
      "\n",
      "Epoch 10: saving model to checkpoints/gpt_arch\\checkpoint_10\n",
      "1/1 - 2s - loss: 6.4611 - accuracy: 0.0638 - val_loss: 7.1000 - val_accuracy: 0.0512 - 2s/epoch - 2s/step\n",
      "Epoch 11/100\n",
      "\n",
      "Epoch 11: saving model to checkpoints/gpt_arch\\checkpoint_11\n",
      "1/1 - 2s - loss: 6.3062 - accuracy: 0.0653 - val_loss: 7.0791 - val_accuracy: 0.0503 - 2s/epoch - 2s/step\n",
      "Epoch 12/100\n",
      "\n",
      "Epoch 12: saving model to checkpoints/gpt_arch\\checkpoint_12\n",
      "1/1 - 2s - loss: 6.1577 - accuracy: 0.0662 - val_loss: 7.0667 - val_accuracy: 0.0503 - 2s/epoch - 2s/step\n",
      "Epoch 13/100\n",
      "\n",
      "Epoch 13: saving model to checkpoints/gpt_arch\\checkpoint_13\n",
      "1/1 - 2s - loss: 6.0192 - accuracy: 0.0701 - val_loss: 7.0438 - val_accuracy: 0.0512 - 2s/epoch - 2s/step\n",
      "Epoch 14/100\n",
      "\n",
      "Epoch 14: saving model to checkpoints/gpt_arch\\checkpoint_14\n",
      "1/1 - 2s - loss: 5.8829 - accuracy: 0.0718 - val_loss: 7.0165 - val_accuracy: 0.0512 - 2s/epoch - 2s/step\n",
      "Epoch 15/100\n",
      "\n",
      "Epoch 15: saving model to checkpoints/gpt_arch\\checkpoint_15\n",
      "1/1 - 2s - loss: 5.7508 - accuracy: 0.0745 - val_loss: 6.9993 - val_accuracy: 0.0538 - 2s/epoch - 2s/step\n",
      "Epoch 16/100\n",
      "\n",
      "Epoch 16: saving model to checkpoints/gpt_arch\\checkpoint_16\n",
      "1/1 - 2s - loss: 5.6229 - accuracy: 0.0804 - val_loss: 6.9949 - val_accuracy: 0.0564 - 2s/epoch - 2s/step\n",
      "Epoch 17/100\n",
      "\n",
      "Epoch 17: saving model to checkpoints/gpt_arch\\checkpoint_17\n",
      "1/1 - 2s - loss: 5.4943 - accuracy: 0.0907 - val_loss: 6.9954 - val_accuracy: 0.0608 - 2s/epoch - 2s/step\n",
      "Epoch 18/100\n",
      "\n",
      "Epoch 18: saving model to checkpoints/gpt_arch\\checkpoint_18\n",
      "1/1 - 2s - loss: 5.3676 - accuracy: 0.1045 - val_loss: 6.9792 - val_accuracy: 0.0616 - 2s/epoch - 2s/step\n",
      "Epoch 19/100\n",
      "\n",
      "Epoch 19: saving model to checkpoints/gpt_arch\\checkpoint_19\n",
      "1/1 - 2s - loss: 5.2350 - accuracy: 0.1110 - val_loss: 6.9631 - val_accuracy: 0.0712 - 2s/epoch - 2s/step\n",
      "Epoch 20/100\n",
      "\n",
      "Epoch 20: saving model to checkpoints/gpt_arch\\checkpoint_20\n",
      "1/1 - 2s - loss: 5.1025 - accuracy: 0.1214 - val_loss: 6.9621 - val_accuracy: 0.0694 - 2s/epoch - 2s/step\n",
      "Epoch 21/100\n",
      "\n",
      "Epoch 21: saving model to checkpoints/gpt_arch\\checkpoint_21\n",
      "1/1 - 2s - loss: 4.9640 - accuracy: 0.1507 - val_loss: 6.9606 - val_accuracy: 0.0686 - 2s/epoch - 2s/step\n",
      "Epoch 22/100\n",
      "\n",
      "Epoch 22: saving model to checkpoints/gpt_arch\\checkpoint_22\n",
      "1/1 - 2s - loss: 4.8245 - accuracy: 0.1888 - val_loss: 6.9390 - val_accuracy: 0.0694 - 2s/epoch - 2s/step\n",
      "Epoch 23/100\n",
      "\n",
      "Epoch 23: saving model to checkpoints/gpt_arch\\checkpoint_23\n",
      "1/1 - 2s - loss: 4.6818 - accuracy: 0.1971 - val_loss: 6.9355 - val_accuracy: 0.0677 - 2s/epoch - 2s/step\n",
      "Epoch 24/100\n",
      "\n",
      "Epoch 24: saving model to checkpoints/gpt_arch\\checkpoint_24\n",
      "1/1 - 2s - loss: 4.5377 - accuracy: 0.2435 - val_loss: 6.9387 - val_accuracy: 0.0694 - 2s/epoch - 2s/step\n",
      "Epoch 25/100\n",
      "\n",
      "Epoch 25: saving model to checkpoints/gpt_arch\\checkpoint_25\n",
      "1/1 - 2s - loss: 4.3952 - accuracy: 0.3022 - val_loss: 6.9163 - val_accuracy: 0.0720 - 2s/epoch - 2s/step\n",
      "Epoch 26/100\n",
      "\n",
      "Epoch 26: saving model to checkpoints/gpt_arch\\checkpoint_26\n",
      "1/1 - 2s - loss: 4.2543 - accuracy: 0.3006 - val_loss: 6.9404 - val_accuracy: 0.0694 - 2s/epoch - 2s/step\n",
      "Epoch 27/100\n",
      "\n",
      "Epoch 27: saving model to checkpoints/gpt_arch\\checkpoint_27\n",
      "1/1 - 2s - loss: 4.1146 - accuracy: 0.3843 - val_loss: 6.9142 - val_accuracy: 0.0773 - 2s/epoch - 2s/step\n",
      "Epoch 28/100\n",
      "\n",
      "Epoch 28: saving model to checkpoints/gpt_arch\\checkpoint_28\n",
      "1/1 - 2s - loss: 3.9762 - accuracy: 0.3678 - val_loss: 6.9434 - val_accuracy: 0.0703 - 2s/epoch - 2s/step\n",
      "Epoch 29/100\n",
      "\n",
      "Epoch 29: saving model to checkpoints/gpt_arch\\checkpoint_29\n",
      "1/1 - 2s - loss: 3.8370 - accuracy: 0.4365 - val_loss: 6.9267 - val_accuracy: 0.0729 - 2s/epoch - 2s/step\n",
      "Epoch 30/100\n",
      "\n",
      "Epoch 30: saving model to checkpoints/gpt_arch\\checkpoint_30\n",
      "1/1 - 2s - loss: 3.6979 - accuracy: 0.4378 - val_loss: 6.9481 - val_accuracy: 0.0686 - 2s/epoch - 2s/step\n",
      "Epoch 31/100\n",
      "\n",
      "Epoch 31: saving model to checkpoints/gpt_arch\\checkpoint_31\n",
      "1/1 - 2s - loss: 3.5593 - accuracy: 0.4896 - val_loss: 6.9470 - val_accuracy: 0.0703 - 2s/epoch - 2s/step\n",
      "Epoch 32/100\n",
      "\n",
      "Epoch 32: saving model to checkpoints/gpt_arch\\checkpoint_32\n",
      "1/1 - 2s - loss: 3.4219 - accuracy: 0.5049 - val_loss: 6.9632 - val_accuracy: 0.0694 - 2s/epoch - 2s/step\n",
      "Epoch 33/100\n",
      "\n",
      "Epoch 33: saving model to checkpoints/gpt_arch\\checkpoint_33\n",
      "1/1 - 2s - loss: 3.2857 - accuracy: 0.5399 - val_loss: 6.9631 - val_accuracy: 0.0694 - 2s/epoch - 2s/step\n",
      "Epoch 34/100\n",
      "\n",
      "Epoch 34: saving model to checkpoints/gpt_arch\\checkpoint_34\n",
      "1/1 - 2s - loss: 3.1515 - accuracy: 0.5589 - val_loss: 7.0011 - val_accuracy: 0.0668 - 2s/epoch - 2s/step\n",
      "Epoch 35/100\n",
      "\n",
      "Epoch 35: saving model to checkpoints/gpt_arch\\checkpoint_35\n",
      "1/1 - 2s - loss: 3.0246 - accuracy: 0.6016 - val_loss: 6.9744 - val_accuracy: 0.0712 - 2s/epoch - 2s/step\n",
      "Epoch 36/100\n",
      "\n",
      "Epoch 36: saving model to checkpoints/gpt_arch\\checkpoint_36\n",
      "1/1 - 2s - loss: 2.9392 - accuracy: 0.5532 - val_loss: 7.0818 - val_accuracy: 0.0642 - 2s/epoch - 2s/step\n",
      "Epoch 37/100\n",
      "\n",
      "Epoch 37: saving model to checkpoints/gpt_arch\\checkpoint_37\n",
      "1/1 - 2s - loss: 2.8141 - accuracy: 0.6494 - val_loss: 6.9884 - val_accuracy: 0.0712 - 2s/epoch - 2s/step\n",
      "Epoch 38/100\n",
      "\n",
      "Epoch 38: saving model to checkpoints/gpt_arch\\checkpoint_38\n",
      "1/1 - 2s - loss: 2.6386 - accuracy: 0.6429 - val_loss: 6.9881 - val_accuracy: 0.0703 - 2s/epoch - 2s/step\n",
      "Epoch 39/100\n",
      "\n",
      "Epoch 39: saving model to checkpoints/gpt_arch\\checkpoint_39\n",
      "1/1 - 2s - loss: 2.5478 - accuracy: 0.6333 - val_loss: 7.0187 - val_accuracy: 0.0686 - 2s/epoch - 2s/step\n",
      "Epoch 40/100\n",
      "\n",
      "Epoch 40: saving model to checkpoints/gpt_arch\\checkpoint_40\n",
      "1/1 - 2s - loss: 2.3998 - accuracy: 0.6895 - val_loss: 7.0739 - val_accuracy: 0.0677 - 2s/epoch - 2s/step\n",
      "Epoch 41/100\n",
      "\n",
      "Epoch 41: saving model to checkpoints/gpt_arch\\checkpoint_41\n",
      "1/1 - 2s - loss: 2.3087 - accuracy: 0.7043 - val_loss: 7.0228 - val_accuracy: 0.0694 - 2s/epoch - 2s/step\n",
      "Epoch 42/100\n",
      "\n",
      "Epoch 42: saving model to checkpoints/gpt_arch\\checkpoint_42\n",
      "1/1 - 2s - loss: 2.1733 - accuracy: 0.7036 - val_loss: 7.0302 - val_accuracy: 0.0729 - 2s/epoch - 2s/step\n",
      "Epoch 43/100\n",
      "\n",
      "Epoch 43: saving model to checkpoints/gpt_arch\\checkpoint_43\n",
      "1/1 - 2s - loss: 2.0827 - accuracy: 0.7026 - val_loss: 7.0621 - val_accuracy: 0.0712 - 2s/epoch - 2s/step\n",
      "Epoch 44/100\n",
      "\n",
      "Epoch 44: saving model to checkpoints/gpt_arch\\checkpoint_44\n",
      "1/1 - 2s - loss: 1.9593 - accuracy: 0.7344 - val_loss: 7.1182 - val_accuracy: 0.0703 - 2s/epoch - 2s/step\n",
      "Epoch 45/100\n",
      "\n",
      "Epoch 45: saving model to checkpoints/gpt_arch\\checkpoint_45\n",
      "1/1 - 2s - loss: 1.8747 - accuracy: 0.7523 - val_loss: 7.0922 - val_accuracy: 0.0738 - 2s/epoch - 2s/step\n",
      "Epoch 46/100\n",
      "\n",
      "Epoch 46: saving model to checkpoints/gpt_arch\\checkpoint_46\n"
     ]
    },
    {
     "name": "stdout",
     "output_type": "stream",
     "text": [
      "1/1 - 2s - loss: 1.7630 - accuracy: 0.7567 - val_loss: 7.0994 - val_accuracy: 0.0755 - 2s/epoch - 2s/step\n",
      "Epoch 47/100\n",
      "\n",
      "Epoch 47: saving model to checkpoints/gpt_arch\\checkpoint_47\n",
      "1/1 - 2s - loss: 1.6830 - accuracy: 0.7536 - val_loss: 7.1317 - val_accuracy: 0.0694 - 2s/epoch - 2s/step\n",
      "Epoch 48/100\n",
      "\n",
      "Epoch 48: saving model to checkpoints/gpt_arch\\checkpoint_48\n",
      "1/1 - 2s - loss: 1.5841 - accuracy: 0.7762 - val_loss: 7.1811 - val_accuracy: 0.0651 - 2s/epoch - 2s/step\n",
      "Epoch 49/100\n",
      "\n",
      "Epoch 49: saving model to checkpoints/gpt_arch\\checkpoint_49\n",
      "1/1 - 2s - loss: 1.5092 - accuracy: 0.7887 - val_loss: 7.1730 - val_accuracy: 0.0720 - 2s/epoch - 2s/step\n",
      "Epoch 50/100\n",
      "\n",
      "Epoch 50: saving model to checkpoints/gpt_arch\\checkpoint_50\n",
      "1/1 - 2s - loss: 1.4220 - accuracy: 0.7923 - val_loss: 7.1876 - val_accuracy: 0.0747 - 2s/epoch - 2s/step\n",
      "Epoch 51/100\n",
      "\n",
      "Epoch 51: saving model to checkpoints/gpt_arch\\checkpoint_51\n",
      "1/1 - 2s - loss: 1.3527 - accuracy: 0.8001 - val_loss: 7.2277 - val_accuracy: 0.0668 - 2s/epoch - 2s/step\n",
      "Epoch 52/100\n",
      "\n",
      "Epoch 52: saving model to checkpoints/gpt_arch\\checkpoint_52\n",
      "1/1 - 2s - loss: 1.2760 - accuracy: 0.8151 - val_loss: 7.2648 - val_accuracy: 0.0694 - 2s/epoch - 2s/step\n",
      "Epoch 53/100\n",
      "\n",
      "Epoch 53: saving model to checkpoints/gpt_arch\\checkpoint_53\n",
      "1/1 - 2s - loss: 1.2120 - accuracy: 0.8210 - val_loss: 7.2699 - val_accuracy: 0.0720 - 2s/epoch - 2s/step\n",
      "Epoch 54/100\n",
      "\n",
      "Epoch 54: saving model to checkpoints/gpt_arch\\checkpoint_54\n",
      "1/1 - 2s - loss: 1.1466 - accuracy: 0.8231 - val_loss: 7.3071 - val_accuracy: 0.0668 - 2s/epoch - 2s/step\n",
      "Epoch 55/100\n",
      "\n",
      "Epoch 55: saving model to checkpoints/gpt_arch\\checkpoint_55\n",
      "1/1 - 2s - loss: 1.0858 - accuracy: 0.8371 - val_loss: 7.3481 - val_accuracy: 0.0668 - 2s/epoch - 2s/step\n",
      "Epoch 56/100\n",
      "\n",
      "Epoch 56: saving model to checkpoints/gpt_arch\\checkpoint_56\n",
      "1/1 - 2s - loss: 1.0294 - accuracy: 0.8433 - val_loss: 7.3606 - val_accuracy: 0.0686 - 2s/epoch - 2s/step\n",
      "Epoch 57/100\n",
      "\n",
      "Epoch 57: saving model to checkpoints/gpt_arch\\checkpoint_57\n",
      "1/1 - 2s - loss: 0.9756 - accuracy: 0.8452 - val_loss: 7.4042 - val_accuracy: 0.0668 - 2s/epoch - 2s/step\n",
      "Epoch 58/100\n",
      "\n",
      "Epoch 58: saving model to checkpoints/gpt_arch\\checkpoint_58\n",
      "1/1 - 2s - loss: 0.9236 - accuracy: 0.8564 - val_loss: 7.4430 - val_accuracy: 0.0651 - 2s/epoch - 2s/step\n",
      "Epoch 59/100\n",
      "\n",
      "Epoch 59: saving model to checkpoints/gpt_arch\\checkpoint_59\n",
      "1/1 - 2s - loss: 0.8759 - accuracy: 0.8652 - val_loss: 7.4642 - val_accuracy: 0.0660 - 2s/epoch - 2s/step\n",
      "Epoch 60/100\n",
      "\n",
      "Epoch 60: saving model to checkpoints/gpt_arch\\checkpoint_60\n",
      "1/1 - 2s - loss: 0.8325 - accuracy: 0.8690 - val_loss: 7.5262 - val_accuracy: 0.0651 - 2s/epoch - 2s/step\n",
      "Epoch 61/100\n",
      "\n",
      "Epoch 61: saving model to checkpoints/gpt_arch\\checkpoint_61\n",
      "1/1 - 2s - loss: 0.7919 - accuracy: 0.8739 - val_loss: 7.5171 - val_accuracy: 0.0703 - 2s/epoch - 2s/step\n",
      "Epoch 62/100\n",
      "\n",
      "Epoch 62: saving model to checkpoints/gpt_arch\\checkpoint_62\n",
      "1/1 - 2s - loss: 0.7538 - accuracy: 0.8791 - val_loss: 7.5929 - val_accuracy: 0.0651 - 2s/epoch - 2s/step\n",
      "Epoch 63/100\n",
      "\n",
      "Epoch 63: saving model to checkpoints/gpt_arch\\checkpoint_63\n",
      "1/1 - 2s - loss: 0.7196 - accuracy: 0.8844 - val_loss: 7.5713 - val_accuracy: 0.0694 - 2s/epoch - 2s/step\n",
      "Epoch 64/100\n",
      "\n",
      "Epoch 64: saving model to checkpoints/gpt_arch\\checkpoint_64\n",
      "1/1 - 2s - loss: 0.6856 - accuracy: 0.8932 - val_loss: 7.6440 - val_accuracy: 0.0651 - 2s/epoch - 2s/step\n",
      "Epoch 65/100\n",
      "\n",
      "Epoch 65: saving model to checkpoints/gpt_arch\\checkpoint_65\n",
      "1/1 - 2s - loss: 0.6476 - accuracy: 0.8929 - val_loss: 7.6375 - val_accuracy: 0.0677 - 2s/epoch - 2s/step\n",
      "Epoch 66/100\n",
      "\n",
      "Epoch 66: saving model to checkpoints/gpt_arch\\checkpoint_66\n",
      "1/1 - 2s - loss: 0.6127 - accuracy: 0.9025 - val_loss: 7.6672 - val_accuracy: 0.0677 - 2s/epoch - 2s/step\n",
      "Epoch 67/100\n",
      "\n",
      "Epoch 67: saving model to checkpoints/gpt_arch\\checkpoint_67\n",
      "1/1 - 2s - loss: 0.5810 - accuracy: 0.9105 - val_loss: 7.7240 - val_accuracy: 0.0660 - 2s/epoch - 2s/step\n",
      "Epoch 68/100\n",
      "\n",
      "Epoch 68: saving model to checkpoints/gpt_arch\\checkpoint_68\n",
      "1/1 - 2s - loss: 0.5570 - accuracy: 0.9119 - val_loss: 7.7233 - val_accuracy: 0.0712 - 2s/epoch - 2s/step\n",
      "Epoch 69/100\n",
      "\n",
      "Epoch 69: saving model to checkpoints/gpt_arch\\checkpoint_69\n",
      "1/1 - 2s - loss: 0.5310 - accuracy: 0.9243 - val_loss: 7.7957 - val_accuracy: 0.0660 - 2s/epoch - 2s/step\n",
      "Epoch 70/100\n",
      "\n",
      "Epoch 70: saving model to checkpoints/gpt_arch\\checkpoint_70\n",
      "1/1 - 2s - loss: 0.5060 - accuracy: 0.9181 - val_loss: 7.7860 - val_accuracy: 0.0694 - 2s/epoch - 2s/step\n",
      "Epoch 71/100\n",
      "\n",
      "Epoch 71: saving model to checkpoints/gpt_arch\\checkpoint_71\n",
      "1/1 - 2s - loss: 0.4793 - accuracy: 0.9341 - val_loss: 7.8302 - val_accuracy: 0.0668 - 2s/epoch - 2s/step\n",
      "Epoch 72/100\n",
      "\n",
      "Epoch 72: saving model to checkpoints/gpt_arch\\checkpoint_72\n",
      "1/1 - 2s - loss: 0.4549 - accuracy: 0.9365 - val_loss: 7.8649 - val_accuracy: 0.0686 - 2s/epoch - 2s/step\n",
      "Epoch 73/100\n",
      "\n",
      "Epoch 73: saving model to checkpoints/gpt_arch\\checkpoint_73\n",
      "1/1 - 2s - loss: 0.4328 - accuracy: 0.9395 - val_loss: 7.8795 - val_accuracy: 0.0686 - 2s/epoch - 2s/step\n",
      "Epoch 74/100\n",
      "\n",
      "Epoch 74: saving model to checkpoints/gpt_arch\\checkpoint_74\n",
      "1/1 - 2s - loss: 0.4150 - accuracy: 0.9478 - val_loss: 7.9513 - val_accuracy: 0.0668 - 2s/epoch - 2s/step\n",
      "Epoch 75/100\n",
      "\n",
      "Epoch 75: saving model to checkpoints/gpt_arch\\checkpoint_75\n",
      "1/1 - 2s - loss: 0.3987 - accuracy: 0.9396 - val_loss: 7.9246 - val_accuracy: 0.0703 - 2s/epoch - 2s/step\n",
      "Epoch 76/100\n",
      "\n",
      "Epoch 76: saving model to checkpoints/gpt_arch\\checkpoint_76\n",
      "1/1 - 2s - loss: 0.3851 - accuracy: 0.9520 - val_loss: 8.0156 - val_accuracy: 0.0651 - 2s/epoch - 2s/step\n",
      "Epoch 77/100\n",
      "\n",
      "Epoch 77: saving model to checkpoints/gpt_arch\\checkpoint_77\n",
      "1/1 - 2s - loss: 0.3663 - accuracy: 0.9461 - val_loss: 7.9835 - val_accuracy: 0.0686 - 2s/epoch - 2s/step\n",
      "Epoch 78/100\n",
      "\n",
      "Epoch 78: saving model to checkpoints/gpt_arch\\checkpoint_78\n",
      "1/1 - 2s - loss: 0.3447 - accuracy: 0.9619 - val_loss: 8.0142 - val_accuracy: 0.0660 - 2s/epoch - 2s/step\n",
      "Epoch 79/100\n",
      "\n",
      "Epoch 79: saving model to checkpoints/gpt_arch\\checkpoint_79\n",
      "1/1 - 2s - loss: 0.3258 - accuracy: 0.9631 - val_loss: 8.0527 - val_accuracy: 0.0634 - 2s/epoch - 2s/step\n",
      "Epoch 80/100\n",
      "\n",
      "Epoch 80: saving model to checkpoints/gpt_arch\\checkpoint_80\n",
      "1/1 - 2s - loss: 0.3138 - accuracy: 0.9622 - val_loss: 8.0411 - val_accuracy: 0.0677 - 2s/epoch - 2s/step\n",
      "Epoch 81/100\n",
      "\n",
      "Epoch 81: saving model to checkpoints/gpt_arch\\checkpoint_81\n",
      "1/1 - 2s - loss: 0.3011 - accuracy: 0.9684 - val_loss: 8.1010 - val_accuracy: 0.0625 - 2s/epoch - 2s/step\n",
      "Epoch 82/100\n",
      "\n",
      "Epoch 82: saving model to checkpoints/gpt_arch\\checkpoint_82\n",
      "1/1 - 2s - loss: 0.2851 - accuracy: 0.9694 - val_loss: 8.1254 - val_accuracy: 0.0634 - 2s/epoch - 2s/step\n",
      "Epoch 83/100\n",
      "\n",
      "Epoch 83: saving model to checkpoints/gpt_arch\\checkpoint_83\n",
      "1/1 - 2s - loss: 0.2719 - accuracy: 0.9728 - val_loss: 8.1275 - val_accuracy: 0.0660 - 2s/epoch - 2s/step\n",
      "Epoch 84/100\n",
      "\n",
      "Epoch 84: saving model to checkpoints/gpt_arch\\checkpoint_84\n",
      "1/1 - 2s - loss: 0.2621 - accuracy: 0.9754 - val_loss: 8.1837 - val_accuracy: 0.0625 - 2s/epoch - 2s/step\n",
      "Epoch 85/100\n",
      "\n",
      "Epoch 85: saving model to checkpoints/gpt_arch\\checkpoint_85\n",
      "1/1 - 2s - loss: 0.2506 - accuracy: 0.9744 - val_loss: 8.1818 - val_accuracy: 0.0634 - 2s/epoch - 2s/step\n",
      "Epoch 86/100\n",
      "\n",
      "Epoch 86: saving model to checkpoints/gpt_arch\\checkpoint_86\n",
      "1/1 - 2s - loss: 0.2379 - accuracy: 0.9797 - val_loss: 8.2025 - val_accuracy: 0.0642 - 2s/epoch - 2s/step\n",
      "Epoch 87/100\n",
      "\n",
      "Epoch 87: saving model to checkpoints/gpt_arch\\checkpoint_87\n",
      "1/1 - 2s - loss: 0.2283 - accuracy: 0.9803 - val_loss: 8.2614 - val_accuracy: 0.0625 - 2s/epoch - 2s/step\n",
      "Epoch 88/100\n",
      "\n",
      "Epoch 88: saving model to checkpoints/gpt_arch\\checkpoint_88\n",
      "1/1 - 2s - loss: 0.2199 - accuracy: 0.9798 - val_loss: 8.2486 - val_accuracy: 0.0651 - 2s/epoch - 2s/step\n",
      "Epoch 89/100\n",
      "\n",
      "Epoch 89: saving model to checkpoints/gpt_arch\\checkpoint_89\n",
      "1/1 - 2s - loss: 0.2097 - accuracy: 0.9827 - val_loss: 8.2804 - val_accuracy: 0.0634 - 2s/epoch - 2s/step\n",
      "Epoch 90/100\n",
      "\n",
      "Epoch 90: saving model to checkpoints/gpt_arch\\checkpoint_90\n",
      "1/1 - 2s - loss: 0.1999 - accuracy: 0.9845 - val_loss: 8.3153 - val_accuracy: 0.0625 - 2s/epoch - 2s/step\n",
      "Epoch 91/100\n",
      "\n",
      "Epoch 91: saving model to checkpoints/gpt_arch\\checkpoint_91\n",
      "1/1 - 2s - loss: 0.1925 - accuracy: 0.9850 - val_loss: 8.3075 - val_accuracy: 0.0642 - 2s/epoch - 2s/step\n"
     ]
    },
    {
     "name": "stdout",
     "output_type": "stream",
     "text": [
      "Epoch 92/100\n",
      "\n",
      "Epoch 92: saving model to checkpoints/gpt_arch\\checkpoint_92\n",
      "1/1 - 2s - loss: 0.1849 - accuracy: 0.9855 - val_loss: 8.3509 - val_accuracy: 0.0616 - 2s/epoch - 2s/step\n",
      "Epoch 93/100\n",
      "\n",
      "Epoch 93: saving model to checkpoints/gpt_arch\\checkpoint_93\n",
      "1/1 - 2s - loss: 0.1764 - accuracy: 0.9871 - val_loss: 8.3737 - val_accuracy: 0.0608 - 2s/epoch - 2s/step\n",
      "Epoch 94/100\n",
      "\n",
      "Epoch 94: saving model to checkpoints/gpt_arch\\checkpoint_94\n",
      "1/1 - 2s - loss: 0.1692 - accuracy: 0.9873 - val_loss: 8.3718 - val_accuracy: 0.0625 - 2s/epoch - 2s/step\n",
      "Epoch 95/100\n",
      "\n",
      "Epoch 95: saving model to checkpoints/gpt_arch\\checkpoint_95\n",
      "1/1 - 2s - loss: 0.1631 - accuracy: 0.9878 - val_loss: 8.4085 - val_accuracy: 0.0608 - 2s/epoch - 2s/step\n",
      "Epoch 96/100\n",
      "\n",
      "Epoch 96: saving model to checkpoints/gpt_arch\\checkpoint_96\n",
      "1/1 - 2s - loss: 0.1563 - accuracy: 0.9878 - val_loss: 8.4195 - val_accuracy: 0.0625 - 2s/epoch - 2s/step\n",
      "Epoch 97/100\n",
      "\n",
      "Epoch 97: saving model to checkpoints/gpt_arch\\checkpoint_97\n",
      "1/1 - 2s - loss: 0.1498 - accuracy: 0.9884 - val_loss: 8.4297 - val_accuracy: 0.0616 - 2s/epoch - 2s/step\n",
      "Epoch 98/100\n",
      "\n",
      "Epoch 98: saving model to checkpoints/gpt_arch\\checkpoint_98\n",
      "1/1 - 2s - loss: 0.1446 - accuracy: 0.9897 - val_loss: 8.4693 - val_accuracy: 0.0608 - 2s/epoch - 2s/step\n",
      "Epoch 99/100\n",
      "\n",
      "Epoch 99: saving model to checkpoints/gpt_arch\\checkpoint_99\n",
      "1/1 - 2s - loss: 0.1390 - accuracy: 0.9899 - val_loss: 8.4734 - val_accuracy: 0.0616 - 2s/epoch - 2s/step\n",
      "Epoch 100/100\n",
      "\n",
      "Epoch 100: saving model to checkpoints/gpt_arch\\checkpoint_100\n",
      "1/1 - 2s - loss: 0.1334 - accuracy: 0.9899 - val_loss: 8.4814 - val_accuracy: 0.0616 - 2s/epoch - 2s/step\n"
     ]
    }
   ],
   "source": [
    "history = model.fit(\n",
    "    train, \n",
    "    validation_data=valid, \n",
    "    epochs=100, \n",
    "    verbose=2,\n",
    "    callbacks=[checkpoint_callback]\n",
    ")"
   ]
  },
  {
   "cell_type": "markdown",
   "id": "c4d4d195",
   "metadata": {},
   "source": [
    "Выведение на экран графика значений функции потерь и качества модели:"
   ]
  },
  {
   "cell_type": "code",
   "execution_count": 30,
   "id": "024d1299",
   "metadata": {},
   "outputs": [
    {
     "data": {
      "image/png": "[encoded data removed]",
      "text/plain": [
       "<Figure size 600x500 with 1 Axes>"
      ]
     },
     "metadata": {},
     "output_type": "display_data"
    }
   ],
   "source": [
    "chart.plot_loss_acc(history)"
   ]
  },
  {
   "cell_type": "markdown",
   "id": "5e0909ad",
   "metadata": {},
   "source": [
    "Сброс состояния модели:"
   ]
  },
  {
   "cell_type": "code",
   "execution_count": 31,
   "id": "09e03b06",
   "metadata": {},
   "outputs": [],
   "source": [
    "model.reset_states()"
   ]
  },
  {
   "cell_type": "markdown",
   "id": "52a02caa",
   "metadata": {},
   "source": [
    "---"
   ]
  },
  {
   "cell_type": "markdown",
   "id": "abba39d1",
   "metadata": {},
   "source": [
    "### 3.4 Генерация текста"
   ]
  },
  {
   "cell_type": "markdown",
   "id": "bcfff28d",
   "metadata": {},
   "source": [
    "Задание функции, заполняющей тело запроса:"
   ]
  },
  {
   "cell_type": "code",
   "execution_count": 32,
   "id": "fdc8f8fd",
   "metadata": {},
   "outputs": [],
   "source": [
    "def next(prompt: tf.Tensor, cache: tf.Tensor, index: tf.Tensor) -> Tuple[tf.Tensor, None, Tuple]:\n",
    "    logits = model(prompt)[:, index - 1, :]\n",
    "    hidden_states = None\n",
    "    return logits, hidden_states, cache"
   ]
  },
  {
   "cell_type": "markdown",
   "id": "e10c15a6",
   "metadata": {},
   "source": [
    "Задание функции предсказания следующего символа:"
   ]
  },
  {
   "cell_type": "code",
   "execution_count": 33,
   "id": "d5a4c741",
   "metadata": {},
   "outputs": [],
   "source": [
    "def generate_text(sampler: keras_nlp.samplers) -> str:\n",
    "    prompt = start_packer(tokenizer(['']))\n",
    "    \n",
    "    tokens = sampler(\n",
    "        next=next,\n",
    "        prompt=prompt,\n",
    "        index=1,\n",
    "    )\n",
    "    \n",
    "    text = tokenizer.detokenize(tokens)\n",
    "    return text.numpy()[0].decode('utf-8')"
   ]
  },
  {
   "cell_type": "markdown",
   "id": "529e72f5",
   "metadata": {},
   "source": [
    "---"
   ]
  },
  {
   "cell_type": "markdown",
   "id": "76e724a8",
   "metadata": {},
   "source": [
    "**Greedy search** - алгоритм подбора наиболее вероятного токена на каждом шаге."
   ]
  },
  {
   "cell_type": "markdown",
   "id": "33948f42",
   "metadata": {},
   "source": [
    "Генерация текста:"
   ]
  },
  {
   "cell_type": "code",
   "execution_count": 34,
   "id": "da9592fa",
   "metadata": {},
   "outputs": [
    {
     "data": {
      "text/plain": [
       "'[BOS] гарри поттер ! эй , летучая мышь я упал с метлы и сломал несколько рёбер анна повторяла всё , что смогла запомнить из услышанного — сундуки , вместительность которых больше , чем кажется по их внешнему виду и малфой , и поттер знают , что они смогут победить , только если объединятся и разгромят нас , а уже потом сразятся между собой я знаю одну слизеринку , она возьмёт с тебя мерку . . . — только не говори ей , зачем это . . .'"
      ]
     },
     "execution_count": 34,
     "metadata": {},
     "output_type": "execute_result"
    }
   ],
   "source": [
    "generate_text(samplers.GreedySampler())"
   ]
  },
  {
   "cell_type": "markdown",
   "id": "fbe5d9f2",
   "metadata": {},
   "source": [
    "---"
   ]
  },
  {
   "cell_type": "markdown",
   "id": "220369bc",
   "metadata": {},
   "source": [
    "**Beam search** - алгоритм подбора наиболее вероятной последовательности на каждом шаге и лучшего токена среди всех последовательностей. "
   ]
  },
  {
   "cell_type": "markdown",
   "id": "8afd88da",
   "metadata": {},
   "source": [
    "Генерация текста:"
   ]
  },
  {
   "cell_type": "code",
   "execution_count": 35,
   "id": "7595e452",
   "metadata": {},
   "outputs": [
    {
     "data": {
      "text/plain": [
       "'[BOS] книга « думай как физик » в оригинале называется « thinking physics » драко оторвался от книги и почувствовал злорадное удовлетворение , увидев печаль на лице гарри — ладно , чтобы отнестись к этому серьёзно , мне нужно взять паузу и подумать минут пять я и сам в ваши годы был болваном , каких поискать таким маглам приходится вступать в брак тайно , и если кто - нибудь когда - нибудь узнает их секрет , то обоих сожгу'"
      ]
     },
     "execution_count": 35,
     "metadata": {},
     "output_type": "execute_result"
    }
   ],
   "source": [
    "generate_text(samplers.BeamSampler(num_beams=10))"
   ]
  },
  {
   "cell_type": "markdown",
   "id": "029e7528",
   "metadata": {},
   "source": [
    "---"
   ]
  },
  {
   "cell_type": "markdown",
   "id": "3b5e83ec",
   "metadata": {},
   "source": [
    "**Random search** - алгоритм подбора следующего наиболее вероятного токена, которым может оказаться любое слово из всего корпуса текста, на каждом шаге."
   ]
  },
  {
   "cell_type": "markdown",
   "id": "4f249cc6",
   "metadata": {},
   "source": [
    "Генерация текста:"
   ]
  },
  {
   "cell_type": "code",
   "execution_count": 36,
   "id": "c0ef0a4c",
   "metadata": {},
   "outputs": [
    {
     "data": {
      "text/plain": [
       "'[BOS] с джиневрой уизли гарри вытаращил глаза ) гарри пошатнулся , ощутив под ногами уличную мостовую вместо лесной тропы — надо ,вал , что поттер явно был ле еголожить в заклинание своё счастливое воспоминание , через который она увидела , было лицо профессора макгонагалл , что это мне ? ! —идя на подлокотникежусьваном , но это точнорор анне не орани дамблдора , что от , было распрадыкола трость на пару сантиметров и с силой'"
      ]
     },
     "execution_count": 36,
     "metadata": {},
     "output_type": "execute_result"
    }
   ],
   "source": [
    "generate_text(samplers.RandomSampler())"
   ]
  },
  {
   "cell_type": "markdown",
   "id": "a0b0e6b4",
   "metadata": {},
   "source": [
    "---"
   ]
  },
  {
   "cell_type": "markdown",
   "id": "2f9f2011",
   "metadata": {},
   "source": [
    "**Top-K search** - алгоритм подбора следующего токена по вероятностному распределению, которое распределеяется между фиксированного числа топ-К наиболее вероятных токенов."
   ]
  },
  {
   "cell_type": "markdown",
   "id": "e57bae24",
   "metadata": {},
   "source": [
    "Генерация текста:"
   ]
  },
  {
   "cell_type": "code",
   "execution_count": 37,
   "id": "48af306b",
   "metadata": {},
   "outputs": [
    {
     "data": {
      "text/plain": [
       "'[BOS] у меня был очень тяжёлый день мозг гарри считал ластик цельным объектом , но не в понял , и нельзя было рациональности фродо пробежался взглядом по всем лицам , но никто не смотрел в его сторону его слова были записаны дословно ! — верно , — подумал гарри , по - прежнему не желая встречаться старшую палочку и прокрестил её с палочкой гермионы ( десять и три четверти дюймов вережив несколько приключений , например , посадить инвалида на'"
      ]
     },
     "execution_count": 37,
     "metadata": {},
     "output_type": "execute_result"
    }
   ],
   "source": [
    "generate_text(samplers.TopKSampler(k=10))"
   ]
  },
  {
   "cell_type": "markdown",
   "id": "92ae8318",
   "metadata": {},
   "source": [
    "---"
   ]
  },
  {
   "cell_type": "markdown",
   "id": "983ecbc5",
   "metadata": {},
   "source": [
    "**Top-P search** - алгоритм подбора следующего токена по вероятностному распределению, неравномерно распределённому среди наиболее вероятных токенов."
   ]
  },
  {
   "cell_type": "markdown",
   "id": "3f023b99",
   "metadata": {},
   "source": [
    "Генерация текста:"
   ]
  },
  {
   "cell_type": "code",
   "execution_count": 38,
   "id": "e2514b08",
   "metadata": {},
   "outputs": [
    {
     "data": {
      "text/plain": [
       "'[BOS] книга « думай как физик » в оригинале называется « thinking physics » драко оторвался от книги и почувствовал злорадное удовлетворение , увидев печаль на лице гарри — ладно , чтобы отнестись к этому серьёзно , мне нужно взять паузу и подумать минут пять я и сам в ваши годы был болваном , каких поискать таким маглам приходится вступать в брак тайно , и если кто - нибудь когда - нибудь узнает их секрет , то обоих сожгу'"
      ]
     },
     "execution_count": 38,
     "metadata": {},
     "output_type": "execute_result"
    }
   ],
   "source": [
    "generate_text(samplers.TopPSampler(p=0.5))"
   ]
  },
  {
   "cell_type": "markdown",
   "id": "efcf6328",
   "metadata": {},
   "source": [
    "<div style=\"background-color: blue; height: 2px; margin: 10px 0;\"></div>"
   ]
  },
  {
   "cell_type": "markdown",
   "id": "94405403",
   "metadata": {},
   "source": [
    "## 4 Общий вывод"
   ]
  },
  {
   "cell_type": "markdown",
   "id": "90f76149",
   "metadata": {},
   "source": [
    "Были продемонстрированы результаты генерации текстов на основании построенной модели с применением различных алгоритмов поиска лучших токенов."
   ]
  },
  {
   "cell_type": "markdown",
   "id": "f12465d7",
   "metadata": {},
   "source": [
    "<div style=\"text-align: center; font-size: 20px; padding: 15px 0;\">\n",
    "    <a href=\"#Содержание\" data-toc-modified-id=\"Содержание\" style=\"text-decoration: none; color: #296eaa; border: 2px dashed #296eaa; opacity: 0.8; border-radius: 3px; padding: 10px 80px;\">\n",
    "        В начало файла ↑\n",
    "    </a>\n",
    "</div>"
   ]
  }
 ],
 "metadata": {
  "kernelspec": {
   "display_name": "Python 3 (ipykernel)",
   "language": "python",
   "name": "python3"
  },
  "language_info": {
   "codemirror_mode": {
    "name": "ipython",
    "version": 3
   },
   "file_extension": ".py",
   "mimetype": "text/x-python",
   "name": "python",
   "nbconvert_exporter": "python",
   "pygments_lexer": "ipython3",
   "version": "3.10.11"
  }
 },
 "nbformat": 4,
 "nbformat_minor": 5
}

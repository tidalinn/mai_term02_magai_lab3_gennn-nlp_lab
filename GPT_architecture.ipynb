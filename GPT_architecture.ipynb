{
 "cells": [
  {
   "cell_type": "markdown",
   "id": "be80210a",
   "metadata": {},
   "source": [
    "<h1>Содержание<span class=\"tocSkip\"></span></h1>\n",
    "<br>\n",
    "<div class=\"toc\">\n",
    "    <ul class=\"toc-item\">\n",
    "        <li>\n",
    "            <span>\n",
    "                <a href=\"#1-Подготовка-окружения\">\n",
    "                    <span class=\"toc-item-num\">1&nbsp;&nbsp;</span>\n",
    "                    Подготовка окружения\n",
    "                </a>\n",
    "            </span>\n",
    "        </li>\n",
    "        <li>\n",
    "            <span>\n",
    "                <a href=\"#2-Загрузка-данных\">\n",
    "                    <span class=\"toc-item-num\">2&nbsp;&nbsp;</span>\n",
    "                    Загрузка данных\n",
    "                </a>\n",
    "            </span>\n",
    "        </li>\n",
    "        <li>\n",
    "            <span>\n",
    "                <a href=\"#3-Трансформерная-архитектура-GPT\">\n",
    "                    <span class=\"toc-item-num\">3&nbsp;&nbsp;</span>\n",
    "                    Трансформерная архитектура GPT\n",
    "                </a>\n",
    "            </span>\n",
    "            <ul class=\"toc-item\">\n",
    "                <li>\n",
    "                    <span>\n",
    "                        <a href=\"#3.1-Токенизация-символов\">\n",
    "                            <span class=\"toc-item-num\">3.1&nbsp;&nbsp;</span>\n",
    "                            Токенизация символов\n",
    "                        </a>\n",
    "                    </span>\n",
    "                </li>\n",
    "                <li>\n",
    "                    <span>\n",
    "                        <a href=\"#3.2-Построение-модели\">\n",
    "                            <span class=\"toc-item-num\">3.2&nbsp;&nbsp;</span>\n",
    "                            Построение модели\n",
    "                        </a>\n",
    "                    </span>\n",
    "                </li>\n",
    "                <li>\n",
    "                    <span>\n",
    "                        <a href=\"#3.3-Обучение-модели\">\n",
    "                            <span class=\"toc-item-num\">3.3&nbsp;&nbsp;</span>\n",
    "                            Обучение модели\n",
    "                        </a>\n",
    "                    </span>\n",
    "                </li>\n",
    "                <li>\n",
    "                    <span>\n",
    "                        <a href=\"#3.4-Генерация-текста\">\n",
    "                            <span class=\"toc-item-num\">3.4&nbsp;&nbsp;</span>\n",
    "                            Генерация текста\n",
    "                        </a>\n",
    "                    </span>\n",
    "                </li>\n",
    "            </ul>\n",
    "        </li>\n",
    "        <li>\n",
    "            <span>\n",
    "                <a href=\"#4-Общий-вывод\">\n",
    "                    <span class=\"toc-item-num\">4&nbsp;&nbsp;</span>\n",
    "                    Общий вывод\n",
    "                </a>\n",
    "            </span>\n",
    "        </li>\n",
    "    </ul>\n",
    "</div>"
   ]
  },
  {
   "cell_type": "markdown",
   "id": "7e9d4a79",
   "metadata": {},
   "source": [
    "# Генеративные текстовые нейросети | Архитектура GPT"
   ]
  },
  {
   "cell_type": "markdown",
   "id": "7ef168b4",
   "metadata": {},
   "source": [
    "**Постановка задачи:** натренировать и сравнить качество нескольких генеративных текстовых моделей на одном из заданных текстовых датасетов.\n",
    "\n",
    "**Источник данных:** [Harry Potter and the Methods of Rationality](https://hpmor.ru/).\n",
    "\n",
    "**Характер данных:** текст книги \"Гарри Поттер и методы рационального мышления\".\n",
    "\n",
    "**Основные этапы:** исследовать следующие нейросетевые архитектуры:\n",
    "\n",
    "1. Simple RNN с посимвольной и пословной токенизацией.\n",
    "2. Однонаправленная однослойная и многослойная LSTM c посимвольной токенизацией и токенизацией по словам и [на основе BPE](https://keras.io/api/keras_nlp/tokenizers/byte_pair_tokenizer/).\n",
    "3. Двунаправленная LSTM.\n",
    "4. *(На хорошую оценку)* трансформерная архитектура (GPT) \"с нуля\" [пример](https://keras.io/examples/generative/text_generation_gpt/).\n",
    "5. *(На отличную оценку)* дообучение предобученной GPT-сети [пример](https://github.com/ZotovaElena/RuGPT3_finetuning)."
   ]
  },
  {
   "cell_type": "markdown",
   "id": "f83f3ad7",
   "metadata": {},
   "source": [
    "---"
   ]
  },
  {
   "cell_type": "markdown",
   "id": "f310f623",
   "metadata": {},
   "source": [
    "# Реализации\n",
    "\n",
    "1. [RNN с посимвольной токенизацией](RNN_char.ipynb)\n",
    "2. [RNN с пословной токенизацией](RNN_word.ipynb)\n",
    "3. [Однонаправленная LSTM + BPE](LSTM_unidirectional_BPE.ipynb)\n",
    "4. [Двунаправленная LSTM](LSTM_bidirectional.ipynb)\n",
    "5. Архитектура GPT (текущий файл)\n",
    "6. [Дообучение GPT](GPT_finetuning.ipynb)"
   ]
  },
  {
   "cell_type": "markdown",
   "id": "532a6f19",
   "metadata": {},
   "source": [
    "<div style=\"background-color: blue; height: 2px; margin: 10px 0;\"></div>"
   ]
  },
  {
   "cell_type": "markdown",
   "id": "ec375e8c",
   "metadata": {},
   "source": [
    "## 1 Подготовка окружения"
   ]
  },
  {
   "cell_type": "markdown",
   "id": "4c943c00",
   "metadata": {},
   "source": [
    "Импорт библиотек:"
   ]
  },
  {
   "cell_type": "code",
   "execution_count": 1,
   "id": "13be500e",
   "metadata": {
    "scrolled": true
   },
   "outputs": [],
   "source": [
    "from typing import Tuple, List\n",
    "\n",
    "import os\n",
    "import random\n",
    "\n",
    "import tensorflow as tf\n",
    "\n",
    "from tensorflow.data import TextLineDataset, AUTOTUNE\n",
    "from tensorflow.keras.losses import SparseCategoricalCrossentropy\n",
    "\n",
    "from tensorflow import keras\n",
    "\n",
    "from keras.utils import plot_model\n",
    "\n",
    "import keras_nlp\n",
    "\n",
    "from keras_nlp.tokenizers import WordPieceTokenizer, compute_word_piece_vocabulary\n",
    "from keras_nlp.layers import StartEndPacker, TokenAndPositionEmbedding, TransformerDecoder\n",
    "from keras_nlp.metrics import Perplexity\n",
    "from keras_nlp.samplers import GreedySampler, BeamSampler, RandomSampler, TopKSampler, TopPSampler\n",
    "\n",
    "from utils.useful_funcs import request_url, get_url_data, get_data"
   ]
  },
  {
   "cell_type": "markdown",
   "id": "0125df91",
   "metadata": {},
   "source": [
    "<div style=\"background-color: blue; height: 2px; margin: 10px 0;\"></div>"
   ]
  },
  {
   "cell_type": "markdown",
   "id": "e16c9f4d",
   "metadata": {},
   "source": [
    "## 2 Загрузка данных"
   ]
  },
  {
   "cell_type": "markdown",
   "id": "54aacd6a",
   "metadata": {},
   "source": [
    "Задание функции, разделяющей набор данных на выборки:"
   ]
  },
  {
   "cell_type": "code",
   "execution_count": 2,
   "id": "aba63cb0",
   "metadata": {},
   "outputs": [],
   "source": [
    "def train_test_split(text: list, test_size: float) -> Tuple[List[str], List[str]]:\n",
    "    random.shuffle(text)\n",
    "    threshold = int((1 - test_size) * len(text))\n",
    "    \n",
    "    train = text[:threshold]\n",
    "    test = text[threshold:]\n",
    "    \n",
    "    return train, test"
   ]
  },
  {
   "cell_type": "markdown",
   "id": "4d308e1d",
   "metadata": {},
   "source": [
    "Задание функции, сохраняющей разделённые выборки в файлы:"
   ]
  },
  {
   "cell_type": "code",
   "execution_count": 3,
   "id": "6ca828d2",
   "metadata": {},
   "outputs": [],
   "source": [
    "def split_into_train_valid_test(text: str,\n",
    "                                path_train: str,\n",
    "                                path_valid: str,\n",
    "                                path_test: str = None,\n",
    "                                test_size: float = 0.25) -> None:\n",
    "    \n",
    "    if os.path.isfile(path_train) == False and os.path.isfile(path_valid) == False:\n",
    "        \n",
    "        text_split = [s.strip() for s in text.split('.')]\n",
    "        \n",
    "        train_text, valid_text = train_test_split(text_split, test_size)\n",
    "        test_text = None\n",
    "        \n",
    "        if path_test != None:\n",
    "            valid_text, test_text = train_test_split(valid_text, test_size)\n",
    "            test_text = ' '.join(test_text)\n",
    "        \n",
    "        train_valid_test = [(path_train, train_text), (path_valid, valid_text), (path_test, test_text)]\n",
    "        \n",
    "        for (path, text) in train_valid_test:\n",
    "            if path != None:\n",
    "                with open(path, 'w', encoding='utf-8') as file:\n",
    "                    file.write(' '.join(text))\n",
    "        \n",
    "        print('Splitted into:', len(train_text), 'train,', len(valid_text), 'valid and', \n",
    "              len(test_text) if test_text != None else 0, 'test')\n",
    "    \n",
    "    else:\n",
    "        print('Files already exist')"
   ]
  },
  {
   "cell_type": "markdown",
   "id": "11f44f75",
   "metadata": {},
   "source": [
    "---"
   ]
  },
  {
   "cell_type": "markdown",
   "id": "69a64788",
   "metadata": {},
   "source": [
    "Проверка наличия папки для хранения наборов данных:"
   ]
  },
  {
   "cell_type": "code",
   "execution_count": 4,
   "id": "c940d6e9",
   "metadata": {},
   "outputs": [],
   "source": [
    "if os.path.isdir('data/') == False:\n",
    "    os.mkdir('data/')"
   ]
  },
  {
   "cell_type": "markdown",
   "id": "b6f00925",
   "metadata": {},
   "source": [
    "Задание пути к файлу с основным набором данных:"
   ]
  },
  {
   "cell_type": "code",
   "execution_count": 5,
   "id": "ac6ca3fd",
   "metadata": {},
   "outputs": [],
   "source": [
    "path_file = 'data/hpmor.txt'"
   ]
  },
  {
   "cell_type": "markdown",
   "id": "6b7e1487",
   "metadata": {},
   "source": [
    "Формирование/загрузка набора данных в зависимости от его наличия:"
   ]
  },
  {
   "cell_type": "code",
   "execution_count": 6,
   "id": "c01cdd6f",
   "metadata": {},
   "outputs": [
    {
     "name": "stdout",
     "output_type": "stream",
     "text": [
      "Uploaded from data/hpmor.txt\n"
     ]
    }
   ],
   "source": [
    "try:\n",
    "    with open(path_file, 'r', encoding='utf-8') as file:\n",
    "        text = file.read()\n",
    "    \n",
    "    print('Uploaded from', path_file)\n",
    "    \n",
    "except:\n",
    "    text = get_data('https://hpmor.ru/')\n",
    "    \n",
    "    with open(path_file, 'w', encoding='utf-8') as file:\n",
    "        file.write(text)\n",
    "    \n",
    "    print('Saved to', path_file)"
   ]
  },
  {
   "cell_type": "markdown",
   "id": "7486aec8",
   "metadata": {},
   "source": [
    "Выведение на экран начала текста:"
   ]
  },
  {
   "cell_type": "code",
   "execution_count": 7,
   "id": "97daba7b",
   "metadata": {},
   "outputs": [
    {
     "data": {
      "text/plain": [
       "'гарри поттер и методы рационального мышления. элиезер юдковский (less wrong). петуния вышла замуж не за дурсля, а за университетского профессора, и гарри попал в гораздо более благоприятную среду. у него были частные учителя, дискуссии с отцом, а главное — книги, сотни и тысячи научных и фантастических книг. в 11 лет гарри знаком с квантовой механикой, когнитивной психологией, теорией вероятностей и другими вещами. но гарри не просто вундеркинд, у него есть загадочная тёмная сторона, которая явн'"
      ]
     },
     "execution_count": 7,
     "metadata": {},
     "output_type": "execute_result"
    }
   ],
   "source": [
    "text[:500]"
   ]
  },
  {
   "cell_type": "markdown",
   "id": "d57d9e7f",
   "metadata": {},
   "source": [
    "Выведение на экран общего числа слов в тексте:"
   ]
  },
  {
   "cell_type": "code",
   "execution_count": 8,
   "id": "609f167a",
   "metadata": {},
   "outputs": [
    {
     "name": "stdout",
     "output_type": "stream",
     "text": [
      "Всего слов: 559855\n"
     ]
    }
   ],
   "source": [
    "print('Всего слов:', len(text.split(' ')))"
   ]
  },
  {
   "cell_type": "markdown",
   "id": "42dab6ff",
   "metadata": {},
   "source": [
    "Задание путей до тренировочной и валидационной выборок:"
   ]
  },
  {
   "cell_type": "code",
   "execution_count": 9,
   "id": "7de133e5",
   "metadata": {},
   "outputs": [],
   "source": [
    "path_train = 'data/hpmor_train.txt'\n",
    "path_valid = 'data/hpmor_valid.txt'"
   ]
  },
  {
   "cell_type": "markdown",
   "id": "c6990a48",
   "metadata": {},
   "source": [
    "Разделение текста на тренировочную и валидационную выборки:"
   ]
  },
  {
   "cell_type": "code",
   "execution_count": 10,
   "id": "24601890",
   "metadata": {},
   "outputs": [
    {
     "name": "stdout",
     "output_type": "stream",
     "text": [
      "Files already exist\n"
     ]
    }
   ],
   "source": [
    "split_into_train_valid_test(text, path_train, path_valid, test_size=0.25)"
   ]
  },
  {
   "cell_type": "markdown",
   "id": "1e1b88fc",
   "metadata": {},
   "source": [
    "<div style=\"background-color: blue; height: 2px; margin: 10px 0;\"></div>"
   ]
  },
  {
   "cell_type": "markdown",
   "id": "fc85df30",
   "metadata": {},
   "source": [
    "## 3 Трансформерная архитектура GPT"
   ]
  },
  {
   "cell_type": "markdown",
   "id": "3bc3f246",
   "metadata": {},
   "source": [
    "Задание функции, разделяющей входящее значение на признаки и их"
   ]
  },
  {
   "cell_type": "code",
   "execution_count": 11,
   "id": "78386faa",
   "metadata": {},
   "outputs": [],
   "source": [
    "def preprocess(inputs: tf.Tensor) -> Tuple[tf.Tensor, tf.Tensor]:\n",
    "    outputs = tokenizer(inputs)\n",
    "    features = start_packer(outputs)\n",
    "    labels = outputs\n",
    "    \n",
    "    return features, labels"
   ]
  },
  {
   "cell_type": "markdown",
   "id": "68d7f2a9",
   "metadata": {},
   "source": [
    "---"
   ]
  },
  {
   "cell_type": "markdown",
   "id": "d01e36c3",
   "metadata": {},
   "source": [
    "### 3.1 Токенизация символов"
   ]
  },
  {
   "cell_type": "markdown",
   "id": "1f759ae5",
   "metadata": {},
   "source": [
    "Выведение на экран максимальной и минимальной длины предложений в тексте:"
   ]
  },
  {
   "cell_type": "code",
   "execution_count": 12,
   "id": "83fb276e",
   "metadata": {},
   "outputs": [
    {
     "name": "stdout",
     "output_type": "stream",
     "text": [
      "Максимальная длина строки: 217\n",
      "Минимальная длина строки: 0\n"
     ]
    }
   ],
   "source": [
    "print('Максимальная длина строки:', len(max(text.split('.'), key=len).split()))\n",
    "print('Минимальная длина строки:', len(min(text.split('.'), key=len).split()))"
   ]
  },
  {
   "cell_type": "markdown",
   "id": "a56b30f8",
   "metadata": {},
   "source": [
    "Задание констант:"
   ]
  },
  {
   "cell_type": "code",
   "execution_count": 13,
   "id": "83e43208",
   "metadata": {},
   "outputs": [],
   "source": [
    "BATCH_SIZE = 64\n",
    "SEQ_LEN = 128\n",
    "MIN_TRAINING_SEQ_LEN = 450\n",
    "\n",
    "EMBED_DIM = 256\n",
    "FEED_FORWARD_DIM = 256\n",
    "NUM_HEADS = 3\n",
    "NUM_LAYERS = 2\n",
    "VOCAB_SIZE = 5000"
   ]
  },
  {
   "cell_type": "markdown",
   "id": "57702265",
   "metadata": {},
   "source": [
    "Формирование датасетов:"
   ]
  },
  {
   "cell_type": "code",
   "execution_count": 14,
   "id": "9c6903ad",
   "metadata": {},
   "outputs": [],
   "source": [
    "train_dataset = (\n",
    "    TextLineDataset(path_train)\n",
    "    .filter(lambda x: tf.strings.length(x) > MIN_TRAINING_SEQ_LEN)\n",
    "    .batch(BATCH_SIZE)\n",
    "    .shuffle(buffer_size=256)\n",
    ")\n",
    "\n",
    "valid_dataset = (\n",
    "    TextLineDataset(path_valid)\n",
    "    .filter(lambda x: tf.strings.length(x) > MIN_TRAINING_SEQ_LEN)\n",
    "    .batch(BATCH_SIZE)\n",
    ")"
   ]
  },
  {
   "cell_type": "markdown",
   "id": "3143c30c",
   "metadata": {},
   "source": [
    "Выведение на экран первого бартча тренировочного датасета:"
   ]
  },
  {
   "cell_type": "code",
   "execution_count": 15,
   "id": "40fe9032",
   "metadata": {},
   "outputs": [
    {
     "data": {
      "text/plain": [
       "'к нет смысла позволять врагу увидеть их раньше, чем они увидят его это идёт вразрез с твоими моральными принципами, что многократно перевешивает желание другой части тебя выиграть этот спор — извини на мгновение минерва вспомнила, как они с гарри гуляли в косом переулке — казалось, это было много-много лет назад — хотя, возможно, сам факт того, что тебе дали шоколад, уже считается за положительное подкрепление, тогда тебе, наверное, нужно положить его в карман или вроде того если ген б зависит о'"
      ]
     },
     "execution_count": 15,
     "metadata": {},
     "output_type": "execute_result"
    }
   ],
   "source": [
    "list(train_dataset.as_numpy_iterator())[0][0].decode('utf-8')[:500]"
   ]
  },
  {
   "cell_type": "markdown",
   "id": "7da99bc9",
   "metadata": {},
   "source": [
    "Формирование словаря:"
   ]
  },
  {
   "cell_type": "code",
   "execution_count": 16,
   "id": "15498b0c",
   "metadata": {
    "scrolled": true
   },
   "outputs": [],
   "source": [
    "vocabulary = compute_word_piece_vocabulary(\n",
    "    train_dataset,\n",
    "    vocabulary_size=VOCAB_SIZE,\n",
    "    lowercase=True,\n",
    "    reserved_tokens=['[PAD]', '[UNK]', '[BOS]'],\n",
    ")"
   ]
  },
  {
   "cell_type": "markdown",
   "id": "ce148578",
   "metadata": {},
   "source": [
    "Выведение на экран общего числа слов:"
   ]
  },
  {
   "cell_type": "code",
   "execution_count": 17,
   "id": "91563ba7",
   "metadata": {},
   "outputs": [
    {
     "name": "stdout",
     "output_type": "stream",
     "text": [
      "Слов в словаре: 4926\n"
     ]
    }
   ],
   "source": [
    "print('Слов в словаре:', len(vocabulary))"
   ]
  },
  {
   "cell_type": "markdown",
   "id": "069b3e39",
   "metadata": {},
   "source": [
    "Выведение на экран первых элементов словаря:"
   ]
  },
  {
   "cell_type": "code",
   "execution_count": 18,
   "id": "a1bda0be",
   "metadata": {},
   "outputs": [
    {
     "data": {
      "text/plain": [
       "['[PAD]', '[UNK]', '[BOS]', '!', '#', '$', '%', '&', '(', ')']"
      ]
     },
     "execution_count": 18,
     "metadata": {},
     "output_type": "execute_result"
    }
   ],
   "source": [
    "vocabulary[:10]"
   ]
  },
  {
   "cell_type": "markdown",
   "id": "1b697ac0",
   "metadata": {},
   "source": [
    "Формирование словаря токенов:"
   ]
  },
  {
   "cell_type": "code",
   "execution_count": 19,
   "id": "ab1f0ce0",
   "metadata": {},
   "outputs": [],
   "source": [
    "tokenizer = WordPieceTokenizer(\n",
    "    vocabulary=vocabulary,\n",
    "    sequence_length=SEQ_LEN,\n",
    "    lowercase=True,\n",
    ")"
   ]
  },
  {
   "cell_type": "markdown",
   "id": "b3e8aae6",
   "metadata": {},
   "source": [
    "Добавление токена начала строки:"
   ]
  },
  {
   "cell_type": "code",
   "execution_count": 20,
   "id": "2893b4f3",
   "metadata": {},
   "outputs": [],
   "source": [
    "start_packer = StartEndPacker(\n",
    "    sequence_length=SEQ_LEN,\n",
    "    start_value=tokenizer.token_to_id('[BOS]'),\n",
    ")"
   ]
  },
  {
   "cell_type": "markdown",
   "id": "8257401f",
   "metadata": {},
   "source": [
    "Токенизация датасетов:"
   ]
  },
  {
   "cell_type": "code",
   "execution_count": 21,
   "id": "5eca9028",
   "metadata": {},
   "outputs": [],
   "source": [
    "train = train_dataset.map(preprocess, num_parallel_calls=AUTOTUNE).prefetch(AUTOTUNE)\n",
    "valid = valid_dataset.map(preprocess, num_parallel_calls=AUTOTUNE).prefetch(AUTOTUNE)"
   ]
  },
  {
   "cell_type": "markdown",
   "id": "53456cbc",
   "metadata": {},
   "source": [
    "---"
   ]
  },
  {
   "cell_type": "markdown",
   "id": "b11e46b7",
   "metadata": {},
   "source": [
    "### 3.2 Построение модели"
   ]
  },
  {
   "cell_type": "markdown",
   "id": "fe03b714",
   "metadata": {},
   "source": [
    "Задание формата трансформации:"
   ]
  },
  {
   "cell_type": "code",
   "execution_count": 22,
   "id": "56648a23",
   "metadata": {},
   "outputs": [],
   "source": [
    "inputs = keras.layers.Input(shape=(None,), dtype=tf.int32)"
   ]
  },
  {
   "cell_type": "markdown",
   "id": "ec486d40",
   "metadata": {},
   "source": [
    "Преобразование слов в числа:"
   ]
  },
  {
   "cell_type": "code",
   "execution_count": 23,
   "id": "1abf0614",
   "metadata": {},
   "outputs": [],
   "source": [
    "embedding_layer = TokenAndPositionEmbedding(\n",
    "    vocabulary_size=VOCAB_SIZE,\n",
    "    sequence_length=SEQ_LEN,\n",
    "    embedding_dim=EMBED_DIM,\n",
    "    mask_zero=True,\n",
    ")"
   ]
  },
  {
   "cell_type": "markdown",
   "id": "d58b9fde",
   "metadata": {},
   "source": [
    "Настройка трансформатора:"
   ]
  },
  {
   "cell_type": "code",
   "execution_count": 24,
   "id": "15eb2f61",
   "metadata": {},
   "outputs": [],
   "source": [
    "x = embedding_layer(inputs)"
   ]
  },
  {
   "cell_type": "markdown",
   "id": "21585b31",
   "metadata": {},
   "source": [
    "Настройка декодера:"
   ]
  },
  {
   "cell_type": "code",
   "execution_count": 25,
   "id": "ce60d114",
   "metadata": {},
   "outputs": [],
   "source": [
    "for _ in range(NUM_LAYERS):\n",
    "    decoder_layer = TransformerDecoder(\n",
    "        num_heads=NUM_HEADS,\n",
    "        intermediate_dim=FEED_FORWARD_DIM,\n",
    "    )\n",
    "    x = decoder_layer(x)"
   ]
  },
  {
   "cell_type": "markdown",
   "id": "d7711c06",
   "metadata": {},
   "source": [
    "Задание формата выходных значений:"
   ]
  },
  {
   "cell_type": "code",
   "execution_count": 26,
   "id": "62cd41cc",
   "metadata": {},
   "outputs": [],
   "source": [
    "outputs = keras.layers.Dense(VOCAB_SIZE)(x)"
   ]
  },
  {
   "cell_type": "markdown",
   "id": "220a6097",
   "metadata": {},
   "source": [
    "Определение модели:"
   ]
  },
  {
   "cell_type": "code",
   "execution_count": 27,
   "id": "1d18ea76",
   "metadata": {},
   "outputs": [],
   "source": [
    "model = keras.Model(inputs=inputs, outputs=outputs)"
   ]
  },
  {
   "cell_type": "markdown",
   "id": "6d667910",
   "metadata": {},
   "source": [
    "Задание констант:"
   ]
  },
  {
   "cell_type": "code",
   "execution_count": 28,
   "id": "c33b9107",
   "metadata": {},
   "outputs": [],
   "source": [
    "LOSS_F = SparseCategoricalCrossentropy(from_logits=True)\n",
    "PERPLEX = Perplexity(from_logits=True, mask_token_id=0)"
   ]
  },
  {
   "cell_type": "markdown",
   "id": "29a361ae",
   "metadata": {},
   "source": [
    "Компиляция модели:"
   ]
  },
  {
   "cell_type": "code",
   "execution_count": 29,
   "id": "39910720",
   "metadata": {},
   "outputs": [],
   "source": [
    "model.compile(optimizer='adam', loss=LOSS_F, metrics=[PERPLEX])"
   ]
  },
  {
   "cell_type": "markdown",
   "id": "1e7ee3bd",
   "metadata": {},
   "source": [
    "Выведение на экран таблицы поведения параметров на слоях нейросети:"
   ]
  },
  {
   "cell_type": "code",
   "execution_count": 30,
   "id": "cdc11006",
   "metadata": {},
   "outputs": [
    {
     "name": "stdout",
     "output_type": "stream",
     "text": [
      "Model: \"model\"\n",
      "_________________________________________________________________\n",
      " Layer (type)                Output Shape              Param #   \n",
      "=================================================================\n",
      " input_1 (InputLayer)        [(None, None)]            0         \n",
      "                                                                 \n",
      " token_and_position_embeddin  (None, None, 256)        1312768   \n",
      " g (TokenAndPositionEmbeddin                                     \n",
      " g)                                                              \n",
      "                                                                 \n",
      " transformer_decoder (Transf  (None, None, 256)        394749    \n",
      " ormerDecoder)                                                   \n",
      "                                                                 \n",
      " transformer_decoder_1 (Tran  (None, None, 256)        394749    \n",
      " sformerDecoder)                                                 \n",
      "                                                                 \n",
      " dense (Dense)               (None, None, 5000)        1285000   \n",
      "                                                                 \n",
      "=================================================================\n",
      "Total params: 3,387,266\n",
      "Trainable params: 3,387,266\n",
      "Non-trainable params: 0\n",
      "_________________________________________________________________\n"
     ]
    }
   ],
   "source": [
    "model.summary()"
   ]
  },
  {
   "cell_type": "markdown",
   "id": "37682b51",
   "metadata": {},
   "source": [
    "Проверка наличия папки для хранения изображений:"
   ]
  },
  {
   "cell_type": "code",
   "execution_count": 31,
   "id": "736437f7",
   "metadata": {},
   "outputs": [],
   "source": [
    "if os.path.isdir('images/') == False:\n",
    "    os.mkdir('images/')"
   ]
  },
  {
   "cell_type": "markdown",
   "id": "a949d3f2",
   "metadata": {},
   "source": [
    "Выведение на экран отображения послойной обработки данных моделью:"
   ]
  },
  {
   "cell_type": "code",
   "execution_count": 32,
   "id": "e25fcbed",
   "metadata": {},
   "outputs": [
    {
     "data": {
      "image/png": "[encoded data removed]",
      "text/plain": [
       "<IPython.core.display.Image object>"
      ]
     },
     "execution_count": 32,
     "metadata": {},
     "output_type": "execute_result"
    }
   ],
   "source": [
    "plot_model(model, 'images/gpt_arch.png', show_shapes=True, dpi=70)"
   ]
  },
  {
   "cell_type": "markdown",
   "id": "4259dd83",
   "metadata": {},
   "source": [
    "---"
   ]
  },
  {
   "cell_type": "markdown",
   "id": "ae59a809",
   "metadata": {},
   "source": [
    "### 3.3 Обучение модели"
   ]
  },
  {
   "cell_type": "markdown",
   "id": "57a8d04d",
   "metadata": {},
   "source": [
    "Обучение модели:"
   ]
  },
  {
   "cell_type": "code",
   "execution_count": 33,
   "id": "8588777e",
   "metadata": {
    "scrolled": true
   },
   "outputs": [
    {
     "name": "stdout",
     "output_type": "stream",
     "text": [
      "Epoch 1/100\n",
      "1/1 - 5s - loss: 8.5320 - perplexity: 5074.7280 - val_loss: 8.3259 - val_perplexity: 4129.6021 - 5s/epoch - 5s/step\n",
      "Epoch 2/100\n",
      "1/1 - 1s - loss: 8.1976 - perplexity: 3632.2896 - val_loss: 8.1024 - val_perplexity: 3302.3901 - 1s/epoch - 1s/step\n",
      "Epoch 3/100\n",
      "1/1 - 1s - loss: 7.8769 - perplexity: 2635.5615 - val_loss: 7.8638 - val_perplexity: 2601.2939 - 1s/epoch - 1s/step\n",
      "Epoch 4/100\n",
      "1/1 - 1s - loss: 7.5731 - perplexity: 1945.1315 - val_loss: 7.6413 - val_perplexity: 2082.4795 - 1s/epoch - 1s/step\n",
      "Epoch 5/100\n",
      "1/1 - 1s - loss: 7.3038 - perplexity: 1485.8715 - val_loss: 7.4554 - val_perplexity: 1729.2208 - 1s/epoch - 1s/step\n",
      "Epoch 6/100\n",
      "1/1 - 1s - loss: 7.0715 - perplexity: 1177.9291 - val_loss: 7.3081 - val_perplexity: 1492.3735 - 1s/epoch - 1s/step\n",
      "Epoch 7/100\n",
      "1/1 - 1s - loss: 6.8700 - perplexity: 962.9338 - val_loss: 7.1932 - val_perplexity: 1330.3575 - 1s/epoch - 1s/step\n",
      "Epoch 8/100\n",
      "1/1 - 1s - loss: 6.6898 - perplexity: 804.1279 - val_loss: 7.1057 - val_perplexity: 1218.9543 - 1s/epoch - 1s/step\n",
      "Epoch 9/100\n",
      "1/1 - 1s - loss: 6.5230 - perplexity: 680.6118 - val_loss: 7.0427 - val_perplexity: 1144.5093 - 1s/epoch - 1s/step\n",
      "Epoch 10/100\n",
      "1/1 - 1s - loss: 6.3626 - perplexity: 579.7359 - val_loss: 7.0021 - val_perplexity: 1098.9574 - 1s/epoch - 1s/step\n",
      "Epoch 11/100\n",
      "1/1 - 1s - loss: 6.2028 - perplexity: 494.1228 - val_loss: 6.9824 - val_perplexity: 1077.5151 - 1s/epoch - 1s/step\n",
      "Epoch 12/100\n",
      "1/1 - 1s - loss: 6.0455 - perplexity: 422.2053 - val_loss: 6.9793 - val_perplexity: 1074.1509 - 1s/epoch - 1s/step\n",
      "Epoch 13/100\n",
      "1/1 - 1s - loss: 5.8999 - perplexity: 364.9977 - val_loss: 6.9717 - val_perplexity: 1066.0128 - 1s/epoch - 1s/step\n",
      "Epoch 14/100\n",
      "1/1 - 2s - loss: 5.7609 - perplexity: 317.6256 - val_loss: 6.9503 - val_perplexity: 1043.4957 - 2s/epoch - 2s/step\n",
      "Epoch 15/100\n",
      "1/1 - 1s - loss: 5.6224 - perplexity: 276.5616 - val_loss: 6.9319 - val_perplexity: 1024.4557 - 1s/epoch - 1s/step\n",
      "Epoch 16/100\n",
      "1/1 - 2s - loss: 5.4901 - perplexity: 242.2805 - val_loss: 6.9247 - val_perplexity: 1017.1252 - 2s/epoch - 2s/step\n",
      "Epoch 17/100\n",
      "1/1 - 1s - loss: 5.3571 - perplexity: 212.1048 - val_loss: 6.9279 - val_perplexity: 1020.3483 - 1s/epoch - 1s/step\n",
      "Epoch 18/100\n",
      "1/1 - 1s - loss: 5.2237 - perplexity: 185.6159 - val_loss: 6.9277 - val_perplexity: 1020.1664 - 1s/epoch - 1s/step\n",
      "Epoch 19/100\n",
      "1/1 - 1s - loss: 5.0911 - perplexity: 162.5623 - val_loss: 6.9100 - val_perplexity: 1002.2165 - 1s/epoch - 1s/step\n",
      "Epoch 20/100\n",
      "1/1 - 1s - loss: 4.9517 - perplexity: 141.4222 - val_loss: 6.8974 - val_perplexity: 989.7254 - 1s/epoch - 1s/step\n",
      "Epoch 21/100\n",
      "1/1 - 1s - loss: 4.8125 - perplexity: 123.0375 - val_loss: 6.8998 - val_perplexity: 992.1125 - 1s/epoch - 1s/step\n",
      "Epoch 22/100\n",
      "1/1 - 2s - loss: 4.6676 - perplexity: 106.4418 - val_loss: 6.9011 - val_perplexity: 993.3405 - 2s/epoch - 2s/step\n",
      "Epoch 23/100\n",
      "1/1 - 1s - loss: 4.5228 - perplexity: 92.0964 - val_loss: 6.8829 - val_perplexity: 975.4327 - 1s/epoch - 1s/step\n",
      "Epoch 24/100\n",
      "1/1 - 2s - loss: 4.3746 - perplexity: 79.4075 - val_loss: 6.8812 - val_perplexity: 973.8303 - 2s/epoch - 2s/step\n",
      "Epoch 25/100\n",
      "1/1 - 1s - loss: 4.2256 - perplexity: 68.4169 - val_loss: 6.8903 - val_perplexity: 982.6927 - 1s/epoch - 1s/step\n",
      "Epoch 26/100\n",
      "1/1 - 1s - loss: 4.0791 - perplexity: 59.0938 - val_loss: 6.8692 - val_perplexity: 962.1998 - 1s/epoch - 1s/step\n",
      "Epoch 27/100\n",
      "1/1 - 1s - loss: 3.9333 - perplexity: 51.0731 - val_loss: 6.8936 - val_perplexity: 985.9515 - 1s/epoch - 1s/step\n",
      "Epoch 28/100\n",
      "1/1 - 2s - loss: 3.7889 - perplexity: 44.2079 - val_loss: 6.8740 - val_perplexity: 966.7782 - 2s/epoch - 2s/step\n",
      "Epoch 29/100\n",
      "1/1 - 1s - loss: 3.6465 - perplexity: 38.3420 - val_loss: 6.9085 - val_perplexity: 1000.7919 - 1s/epoch - 1s/step\n",
      "Epoch 30/100\n",
      "1/1 - 2s - loss: 3.5067 - perplexity: 33.3389 - val_loss: 6.8870 - val_perplexity: 979.4792 - 2s/epoch - 2s/step\n",
      "Epoch 31/100\n",
      "1/1 - 2s - loss: 3.3697 - perplexity: 29.0702 - val_loss: 6.9395 - val_perplexity: 1032.2548 - 2s/epoch - 2s/step\n",
      "Epoch 32/100\n",
      "1/1 - 2s - loss: 3.2330 - perplexity: 25.3566 - val_loss: 6.9072 - val_perplexity: 999.4219 - 2s/epoch - 2s/step\n",
      "Epoch 33/100\n",
      "1/1 - 2s - loss: 3.0961 - perplexity: 22.1125 - val_loss: 6.9468 - val_perplexity: 1039.8500 - 2s/epoch - 2s/step\n",
      "Epoch 34/100\n",
      "1/1 - 2s - loss: 2.9524 - perplexity: 19.1526 - val_loss: 6.9448 - val_perplexity: 1037.7131 - 2s/epoch - 2s/step\n",
      "Epoch 35/100\n",
      "1/1 - 2s - loss: 2.8147 - perplexity: 16.6883 - val_loss: 6.9393 - val_perplexity: 1032.0358 - 2s/epoch - 2s/step\n",
      "Epoch 36/100\n",
      "1/1 - 1s - loss: 2.6868 - perplexity: 14.6841 - val_loss: 6.9928 - val_perplexity: 1088.7457 - 1s/epoch - 1s/step\n",
      "Epoch 37/100\n",
      "1/1 - 1s - loss: 2.5621 - perplexity: 12.9627 - val_loss: 6.9556 - val_perplexity: 1048.9670 - 1s/epoch - 1s/step\n",
      "Epoch 38/100\n",
      "1/1 - 1s - loss: 2.4366 - perplexity: 11.4335 - val_loss: 6.9967 - val_perplexity: 1093.0549 - 1s/epoch - 1s/step\n",
      "Epoch 39/100\n",
      "1/1 - 1s - loss: 2.3019 - perplexity: 9.9934 - val_loss: 6.9998 - val_perplexity: 1096.4109 - 1s/epoch - 1s/step\n",
      "Epoch 40/100\n",
      "1/1 - 1s - loss: 2.1781 - perplexity: 8.8295 - val_loss: 6.9938 - val_perplexity: 1089.8464 - 1s/epoch - 1s/step\n",
      "Epoch 41/100\n",
      "1/1 - 1s - loss: 2.0675 - perplexity: 7.9052 - val_loss: 7.0561 - val_perplexity: 1159.8600 - 1s/epoch - 1s/step\n",
      "Epoch 42/100\n",
      "1/1 - 1s - loss: 1.9562 - perplexity: 7.0723 - val_loss: 7.0247 - val_perplexity: 1124.0746 - 1s/epoch - 1s/step\n",
      "Epoch 43/100\n",
      "1/1 - 2s - loss: 1.8431 - perplexity: 6.3163 - val_loss: 7.0614 - val_perplexity: 1166.0648 - 2s/epoch - 2s/step\n",
      "Epoch 44/100\n",
      "1/1 - 2s - loss: 1.7313 - perplexity: 5.6481 - val_loss: 7.0855 - val_perplexity: 1194.4916 - 2s/epoch - 2s/step\n",
      "Epoch 45/100\n",
      "1/1 - 2s - loss: 1.6320 - perplexity: 5.1140 - val_loss: 7.0829 - val_perplexity: 1191.4260 - 2s/epoch - 2s/step\n",
      "Epoch 46/100\n",
      "1/1 - 2s - loss: 1.5445 - perplexity: 4.6857 - val_loss: 7.1704 - val_perplexity: 1300.3319 - 2s/epoch - 2s/step\n",
      "Epoch 47/100\n",
      "1/1 - 2s - loss: 1.4648 - perplexity: 4.3268 - val_loss: 7.1287 - val_perplexity: 1247.2899 - 2s/epoch - 2s/step\n",
      "Epoch 48/100\n",
      "1/1 - 2s - loss: 1.3830 - perplexity: 3.9868 - val_loss: 7.1796 - val_perplexity: 1312.4342 - 2s/epoch - 2s/step\n",
      "Epoch 49/100\n",
      "1/1 - 2s - loss: 1.2839 - perplexity: 3.6108 - val_loss: 7.2076 - val_perplexity: 1349.6191 - 2s/epoch - 2s/step\n",
      "Epoch 50/100\n",
      "1/1 - 2s - loss: 1.2095 - perplexity: 3.3518 - val_loss: 7.2083 - val_perplexity: 1350.5796 - 2s/epoch - 2s/step\n",
      "Epoch 51/100\n",
      "1/1 - 2s - loss: 1.1507 - perplexity: 3.1603 - val_loss: 7.2654 - val_perplexity: 1429.9226 - 2s/epoch - 2s/step\n",
      "Epoch 52/100\n",
      "1/1 - 2s - loss: 1.0722 - perplexity: 2.9217 - val_loss: 7.2895 - val_perplexity: 1464.7798 - 2s/epoch - 2s/step\n",
      "Epoch 53/100\n",
      "1/1 - 1s - loss: 1.0082 - perplexity: 2.7408 - val_loss: 7.2977 - val_perplexity: 1476.9624 - 1s/epoch - 1s/step\n",
      "Epoch 54/100\n",
      "1/1 - 1s - loss: 0.9589 - perplexity: 2.6088 - val_loss: 7.3536 - val_perplexity: 1561.8842 - 1s/epoch - 1s/step\n",
      "Epoch 55/100\n",
      "1/1 - 2s - loss: 0.8954 - perplexity: 2.4482 - val_loss: 7.3812 - val_perplexity: 1605.4813 - 2s/epoch - 2s/step\n",
      "Epoch 56/100\n",
      "1/1 - 2s - loss: 0.8423 - perplexity: 2.3217 - val_loss: 7.3976 - val_perplexity: 1632.0334 - 2s/epoch - 2s/step\n",
      "Epoch 57/100\n",
      "1/1 - 2s - loss: 0.8020 - perplexity: 2.2300 - val_loss: 7.4574 - val_perplexity: 1732.5817 - 2s/epoch - 2s/step\n",
      "Epoch 58/100\n",
      "1/1 - 2s - loss: 0.7513 - perplexity: 2.1198 - val_loss: 7.4764 - val_perplexity: 1765.8628 - 2s/epoch - 2s/step\n",
      "Epoch 59/100\n",
      "1/1 - 2s - loss: 0.7051 - perplexity: 2.0241 - val_loss: 7.4973 - val_perplexity: 1803.1013 - 2s/epoch - 2s/step\n",
      "Epoch 60/100\n",
      "1/1 - 2s - loss: 0.6726 - perplexity: 1.9593 - val_loss: 7.5600 - val_perplexity: 1919.8894 - 2s/epoch - 2s/step\n",
      "Epoch 61/100\n",
      "1/1 - 2s - loss: 0.6345 - perplexity: 1.8861 - val_loss: 7.5674 - val_perplexity: 1934.0616 - 2s/epoch - 2s/step\n",
      "Epoch 62/100\n",
      "1/1 - 2s - loss: 0.5939 - perplexity: 1.8110 - val_loss: 7.5958 - val_perplexity: 1989.7269 - 2s/epoch - 2s/step\n",
      "Epoch 63/100\n",
      "1/1 - 2s - loss: 0.5630 - perplexity: 1.7558 - val_loss: 7.6564 - val_perplexity: 2114.2090 - 2s/epoch - 2s/step\n",
      "Epoch 64/100\n",
      "1/1 - 2s - loss: 0.5353 - perplexity: 1.7080 - val_loss: 7.6695 - val_perplexity: 2142.0579 - 2s/epoch - 2s/step\n",
      "Epoch 65/100\n",
      "1/1 - 2s - loss: 0.5051 - perplexity: 1.6572 - val_loss: 7.6992 - val_perplexity: 2206.6550 - 2s/epoch - 2s/step\n"
     ]
    },
    {
     "name": "stdout",
     "output_type": "stream",
     "text": [
      "Epoch 66/100\n",
      "1/1 - 2s - loss: 0.4745 - perplexity: 1.6073 - val_loss: 7.7355 - val_perplexity: 2288.1272 - 2s/epoch - 2s/step\n",
      "Epoch 67/100\n",
      "1/1 - 2s - loss: 0.4489 - perplexity: 1.5666 - val_loss: 7.7649 - val_perplexity: 2356.4324 - 2s/epoch - 2s/step\n",
      "Epoch 68/100\n",
      "1/1 - 2s - loss: 0.4283 - perplexity: 1.5346 - val_loss: 7.8072 - val_perplexity: 2458.1204 - 2s/epoch - 2s/step\n",
      "Epoch 69/100\n",
      "1/1 - 2s - loss: 0.4058 - perplexity: 1.5005 - val_loss: 7.8234 - val_perplexity: 2498.2937 - 2s/epoch - 2s/step\n",
      "Epoch 70/100\n",
      "1/1 - 2s - loss: 0.3821 - perplexity: 1.4653 - val_loss: 7.8590 - val_perplexity: 2588.8345 - 2s/epoch - 2s/step\n",
      "Epoch 71/100\n",
      "1/1 - 2s - loss: 0.3615 - perplexity: 1.4355 - val_loss: 7.8883 - val_perplexity: 2665.8521 - 2s/epoch - 2s/step\n",
      "Epoch 72/100\n",
      "1/1 - 2s - loss: 0.3430 - perplexity: 1.4092 - val_loss: 7.9118 - val_perplexity: 2729.3298 - 2s/epoch - 2s/step\n",
      "Epoch 73/100\n",
      "1/1 - 2s - loss: 0.3280 - perplexity: 1.3881 - val_loss: 7.9612 - val_perplexity: 2867.5154 - 2s/epoch - 2s/step\n",
      "Epoch 74/100\n",
      "1/1 - 2s - loss: 0.3138 - perplexity: 1.3686 - val_loss: 7.9704 - val_perplexity: 2894.0171 - 2s/epoch - 2s/step\n",
      "Epoch 75/100\n",
      "1/1 - 1s - loss: 0.2974 - perplexity: 1.3464 - val_loss: 8.0018 - val_perplexity: 2986.1848 - 1s/epoch - 1s/step\n",
      "Epoch 76/100\n",
      "1/1 - 2s - loss: 0.2823 - perplexity: 1.3262 - val_loss: 8.0225 - val_perplexity: 3048.7026 - 2s/epoch - 2s/step\n",
      "Epoch 77/100\n",
      "1/1 - 2s - loss: 0.2655 - perplexity: 1.3040 - val_loss: 8.0492 - val_perplexity: 3131.2175 - 2s/epoch - 2s/step\n",
      "Epoch 78/100\n",
      "1/1 - 2s - loss: 0.2528 - perplexity: 1.2876 - val_loss: 8.0812 - val_perplexity: 3233.0386 - 2s/epoch - 2s/step\n",
      "Epoch 79/100\n",
      "1/1 - 2s - loss: 0.2434 - perplexity: 1.2756 - val_loss: 8.0997 - val_perplexity: 3293.4138 - 2s/epoch - 2s/step\n",
      "Epoch 80/100\n",
      "1/1 - 2s - loss: 0.2314 - perplexity: 1.2604 - val_loss: 8.1313 - val_perplexity: 3399.1960 - 2s/epoch - 2s/step\n",
      "Epoch 81/100\n",
      "1/1 - 2s - loss: 0.2200 - perplexity: 1.2461 - val_loss: 8.1494 - val_perplexity: 3461.2942 - 2s/epoch - 2s/step\n",
      "Epoch 82/100\n",
      "1/1 - 2s - loss: 0.2086 - perplexity: 1.2320 - val_loss: 8.1761 - val_perplexity: 3555.1184 - 2s/epoch - 2s/step\n",
      "Epoch 83/100\n",
      "1/1 - 2s - loss: 0.1995 - perplexity: 1.2208 - val_loss: 8.2084 - val_perplexity: 3671.8198 - 2s/epoch - 2s/step\n",
      "Epoch 84/100\n",
      "1/1 - 1s - loss: 0.1921 - perplexity: 1.2117 - val_loss: 8.2241 - val_perplexity: 3729.8560 - 1s/epoch - 1s/step\n",
      "Epoch 85/100\n",
      "1/1 - 1s - loss: 0.1831 - perplexity: 1.2009 - val_loss: 8.2480 - val_perplexity: 3819.8804 - 1s/epoch - 1s/step\n",
      "Epoch 86/100\n",
      "1/1 - 1s - loss: 0.1747 - perplexity: 1.1909 - val_loss: 8.2725 - val_perplexity: 3914.8506 - 1s/epoch - 1s/step\n",
      "Epoch 87/100\n",
      "1/1 - 1s - loss: 0.1671 - perplexity: 1.1819 - val_loss: 8.2927 - val_perplexity: 3994.4673 - 1s/epoch - 1s/step\n",
      "Epoch 88/100\n",
      "1/1 - 2s - loss: 0.1607 - perplexity: 1.1743 - val_loss: 8.3129 - val_perplexity: 4076.1770 - 2s/epoch - 2s/step\n",
      "Epoch 89/100\n",
      "1/1 - 2s - loss: 0.1547 - perplexity: 1.1673 - val_loss: 8.3298 - val_perplexity: 4145.7925 - 2s/epoch - 2s/step\n",
      "Epoch 90/100\n",
      "1/1 - 2s - loss: 0.1475 - perplexity: 1.1589 - val_loss: 8.3522 - val_perplexity: 4239.5034 - 2s/epoch - 2s/step\n",
      "Epoch 91/100\n",
      "1/1 - 2s - loss: 0.1419 - perplexity: 1.1524 - val_loss: 8.3742 - val_perplexity: 4333.5884 - 2s/epoch - 2s/step\n",
      "Epoch 92/100\n",
      "1/1 - 2s - loss: 0.1369 - perplexity: 1.1467 - val_loss: 8.3907 - val_perplexity: 4405.9990 - 2s/epoch - 2s/step\n",
      "Epoch 93/100\n",
      "1/1 - 2s - loss: 0.1314 - perplexity: 1.1404 - val_loss: 8.4077 - val_perplexity: 4481.3711 - 2s/epoch - 2s/step\n",
      "Epoch 94/100\n",
      "1/1 - 1s - loss: 0.1265 - perplexity: 1.1349 - val_loss: 8.4261 - val_perplexity: 4564.5273 - 1s/epoch - 1s/step\n",
      "Epoch 95/100\n",
      "1/1 - 1s - loss: 0.1219 - perplexity: 1.1297 - val_loss: 8.4455 - val_perplexity: 4654.2705 - 1s/epoch - 1s/step\n",
      "Epoch 96/100\n",
      "1/1 - 1s - loss: 0.1179 - perplexity: 1.1252 - val_loss: 8.4611 - val_perplexity: 4727.0552 - 1s/epoch - 1s/step\n",
      "Epoch 97/100\n",
      "1/1 - 1s - loss: 0.1136 - perplexity: 1.1203 - val_loss: 8.4748 - val_perplexity: 4792.6704 - 1s/epoch - 1s/step\n",
      "Epoch 98/100\n",
      "1/1 - 1s - loss: 0.1098 - perplexity: 1.1160 - val_loss: 8.4902 - val_perplexity: 4866.7979 - 1s/epoch - 1s/step\n",
      "Epoch 99/100\n",
      "1/1 - 1s - loss: 0.1065 - perplexity: 1.1123 - val_loss: 8.5054 - val_perplexity: 4941.5864 - 1s/epoch - 1s/step\n",
      "Epoch 100/100\n",
      "1/1 - 2s - loss: 0.1027 - perplexity: 1.1081 - val_loss: 8.5219 - val_perplexity: 5023.7056 - 2s/epoch - 2s/step\n"
     ]
    },
    {
     "data": {
      "text/plain": [
       "<keras.callbacks.History at 0x15b0b042a40>"
      ]
     },
     "execution_count": 33,
     "metadata": {},
     "output_type": "execute_result"
    }
   ],
   "source": [
    "model.fit(train, validation_data=valid, verbose=2, epochs=100)"
   ]
  },
  {
   "cell_type": "markdown",
   "id": "52a02caa",
   "metadata": {},
   "source": [
    "---"
   ]
  },
  {
   "cell_type": "markdown",
   "id": "abba39d1",
   "metadata": {},
   "source": [
    "### 3.4 Генерация текста"
   ]
  },
  {
   "cell_type": "markdown",
   "id": "ba881768",
   "metadata": {},
   "source": [
    "Задание функции, заполняющей тело запроса:"
   ]
  },
  {
   "cell_type": "code",
   "execution_count": 34,
   "id": "89d59403",
   "metadata": {},
   "outputs": [],
   "source": [
    "def next(prompt: tf.Tensor, \n",
    "         cache: tf.Tensor, \n",
    "         index: tf.Tensor) -> Tuple[tf.Tensor, None, Tuple]:\n",
    "    \n",
    "    logits = model(prompt)[:, index - 1, :]\n",
    "    hidden_states = None\n",
    "    \n",
    "    return logits, hidden_states, cache"
   ]
  },
  {
   "cell_type": "markdown",
   "id": "4c8e9bf6",
   "metadata": {},
   "source": [
    "Задание функции предсказания следующего символа:"
   ]
  },
  {
   "cell_type": "code",
   "execution_count": 35,
   "id": "7a7a33cc",
   "metadata": {},
   "outputs": [],
   "source": [
    "def predict_next(sampler: keras_nlp.samplers,\n",
    "                 name: str,\n",
    "                 prompt_tokens: tf.Tensor) -> str:\n",
    "    \n",
    "    tokens = sampler(\n",
    "        next=next,\n",
    "        prompt=prompt_tokens,\n",
    "        index=1,\n",
    "    )\n",
    "    \n",
    "    text = tokenizer.detokenize(tokens)\n",
    "    \n",
    "    print(f'{name.capitalize()} search generated text:')\n",
    "    return text.numpy()[0].decode('utf-8')"
   ]
  },
  {
   "cell_type": "markdown",
   "id": "8967a774",
   "metadata": {},
   "source": [
    "---"
   ]
  },
  {
   "cell_type": "markdown",
   "id": "8ae96ef0",
   "metadata": {},
   "source": [
    "Задание пустого тела запроса:"
   ]
  },
  {
   "cell_type": "code",
   "execution_count": 36,
   "id": "67a9ae43",
   "metadata": {},
   "outputs": [],
   "source": [
    "prompt_tokens = start_packer(tokenizer(['']))"
   ]
  },
  {
   "cell_type": "markdown",
   "id": "4b4a35aa",
   "metadata": {},
   "source": [
    "Выведение на экран пустого тела запроса:"
   ]
  },
  {
   "cell_type": "code",
   "execution_count": 37,
   "id": "e05a309f",
   "metadata": {},
   "outputs": [
    {
     "data": {
      "text/plain": [
       "<tf.Tensor: shape=(1, 128), dtype=int32, numpy=\n",
       "array([[2, 0, 0, 0, 0, 0, 0, 0, 0, 0, 0, 0, 0, 0, 0, 0, 0, 0, 0, 0, 0, 0,\n",
       "        0, 0, 0, 0, 0, 0, 0, 0, 0, 0, 0, 0, 0, 0, 0, 0, 0, 0, 0, 0, 0, 0,\n",
       "        0, 0, 0, 0, 0, 0, 0, 0, 0, 0, 0, 0, 0, 0, 0, 0, 0, 0, 0, 0, 0, 0,\n",
       "        0, 0, 0, 0, 0, 0, 0, 0, 0, 0, 0, 0, 0, 0, 0, 0, 0, 0, 0, 0, 0, 0,\n",
       "        0, 0, 0, 0, 0, 0, 0, 0, 0, 0, 0, 0, 0, 0, 0, 0, 0, 0, 0, 0, 0, 0,\n",
       "        0, 0, 0, 0, 0, 0, 0, 0, 0, 0, 0, 0, 0, 0, 0, 0, 0, 0]])>"
      ]
     },
     "execution_count": 37,
     "metadata": {},
     "output_type": "execute_result"
    }
   ],
   "source": [
    "prompt_tokens"
   ]
  },
  {
   "cell_type": "markdown",
   "id": "2dcc4759",
   "metadata": {},
   "source": [
    "---"
   ]
  },
  {
   "cell_type": "markdown",
   "id": "76e724a8",
   "metadata": {},
   "source": [
    "**Greedy search** - алгоритм подбора наиболее вероятного токена на каждом шаге."
   ]
  },
  {
   "cell_type": "markdown",
   "id": "33948f42",
   "metadata": {},
   "source": [
    "Генерация текста:"
   ]
  },
  {
   "cell_type": "code",
   "execution_count": 38,
   "id": "da9592fa",
   "metadata": {},
   "outputs": [
    {
     "name": "stdout",
     "output_type": "stream",
     "text": [
      "Greedy search generated text:\n"
     ]
    },
    {
     "data": {
      "text/plain": [
       "'[BOS] и учиться их заставим — сам салазар слизерин говорил , что маглорождённых надо изгнать ! что они ослабляют нашу кровь . . . — голос драко поднялся до крика возможно , дамблдор во многом ошибается , но он по крайней мере видит в учениках людей , а не животных , которых нужно держать в загоне , чтобы они не разбредались примем как гипотезу , что инструмент воскрешения — философский камень , спрятанный в зеркале . . . почему же дамблдор поставил зеркало в коридоре , куда проберётся даже п'"
      ]
     },
     "execution_count": 38,
     "metadata": {},
     "output_type": "execute_result"
    }
   ],
   "source": [
    "predict_next(GreedySampler(), 'Greedy', prompt_tokens)"
   ]
  },
  {
   "cell_type": "markdown",
   "id": "fbe5d9f2",
   "metadata": {},
   "source": [
    "---"
   ]
  },
  {
   "cell_type": "markdown",
   "id": "220369bc",
   "metadata": {},
   "source": [
    "**Beam search** - алгоритм подбора наиболее вероятной последовательности на каждом шаге и лучшего токена среди всех последовательностей. "
   ]
  },
  {
   "cell_type": "markdown",
   "id": "8afd88da",
   "metadata": {},
   "source": [
    "Генерация текста:"
   ]
  },
  {
   "cell_type": "code",
   "execution_count": 39,
   "id": "7595e452",
   "metadata": {},
   "outputs": [
    {
     "name": "stdout",
     "output_type": "stream",
     "text": [
      "Beam search generated text:\n"
     ]
    },
    {
     "data": {
      "text/plain": [
       "'[BOS] nihil supernum притормозите , — ответил гарри своим составляющим его глаза распахнулись , он в полном изумлении уставился на гарри и об этом грейнджер тоже знает точка джагсон резко махнул палочкой , и светящиеся верёвки метнули ханну к девочкам — совсем как в пьесе ! — вздохнула девушка с третьего курса — большинство людей — идиоты , перед которыми , тем не менее , тоже необходимо держать лицо тихие металлические позвякивания'"
      ]
     },
     "execution_count": 39,
     "metadata": {},
     "output_type": "execute_result"
    }
   ],
   "source": [
    "predict_next(BeamSampler(num_beams=10), 'Beam', prompt_tokens)"
   ]
  },
  {
   "cell_type": "markdown",
   "id": "029e7528",
   "metadata": {},
   "source": [
    "---"
   ]
  },
  {
   "cell_type": "markdown",
   "id": "3b5e83ec",
   "metadata": {},
   "source": [
    "**Random search** - алгоритм подбора следующего наиболее вероятного токена, которым может оказаться любое слово из всего корпуса текста, на каждом шаге."
   ]
  },
  {
   "cell_type": "markdown",
   "id": "4f249cc6",
   "metadata": {},
   "source": [
    "Генерация текста:"
   ]
  },
  {
   "cell_type": "code",
   "execution_count": 40,
   "id": "c0ef0a4c",
   "metadata": {},
   "outputs": [
    {
     "name": "stdout",
     "output_type": "stream",
     "text": [
      "Random search generated text:\n"
     ]
    },
    {
     "data": {
      "text/plain": [
       "'[BOS] 1202 н представь : кто - нибудь тебе говорит , что тебе насколько опасная магия для вас не ханна , он сдались намере он сневномк позш - ше — ты больше знаешь о магии , чтобы получить соглашным ничего не выражало по крайней мере , пока наществаных , которых нужно держать оченьтельность чувствуя , но всё , что было раньше . . . просто поставило тебя на то же место , как прось и фреду переломали рёбра ! близнецы лишь замотали головами — если я не уверен , что когда профессор защиты сбых дер'"
      ]
     },
     "execution_count": 40,
     "metadata": {},
     "output_type": "execute_result"
    }
   ],
   "source": [
    "predict_next(RandomSampler(), 'Random', prompt_tokens)"
   ]
  },
  {
   "cell_type": "markdown",
   "id": "a0b0e6b4",
   "metadata": {},
   "source": [
    "---"
   ]
  },
  {
   "cell_type": "markdown",
   "id": "2f9f2011",
   "metadata": {},
   "source": [
    "**Top-K search** - алгоритм подбора следующего токена по вероятностному распределению, которое распределеяется между фиксированного числа топ-К наиболее вероятных токенов."
   ]
  },
  {
   "cell_type": "markdown",
   "id": "e57bae24",
   "metadata": {},
   "source": [
    "Генерация текста:"
   ]
  },
  {
   "cell_type": "code",
   "execution_count": 41,
   "id": "48af306b",
   "metadata": {},
   "outputs": [
    {
     "name": "stdout",
     "output_type": "stream",
     "text": [
      "Top-k search generated text:\n"
     ]
    },
    {
     "data": {
      "text/plain": [
       "'[BOS] — невиллом лонгботтомом , ага — вас не волнует , насколько опасная магия для этого потребуется и ел пиздавали его таким , не позволяет гре ог покляни в самом начале этого года , когда распределяющая шляпа предложила тебе пуффендуй — я бы хотел назначить амелию боунс регентом по вопросам , что погибла моя мама , и будет жаль , мой лорд , в голову мысль , что следует определить условия прекроет глаза — мне кажется , сразиться следовательно , и'"
      ]
     },
     "execution_count": 41,
     "metadata": {},
     "output_type": "execute_result"
    }
   ],
   "source": [
    "predict_next(TopKSampler(k=10), 'Top-K', prompt_tokens)"
   ]
  },
  {
   "cell_type": "markdown",
   "id": "92ae8318",
   "metadata": {},
   "source": [
    "---"
   ]
  },
  {
   "cell_type": "markdown",
   "id": "983ecbc5",
   "metadata": {},
   "source": [
    "**Top-P search** - алгоритм подбора следующего токена по вероятностному распределению, неравномерно распределённому среди наиболее вероятных токенов."
   ]
  },
  {
   "cell_type": "markdown",
   "id": "3f023b99",
   "metadata": {},
   "source": [
    "Генерация текста:"
   ]
  },
  {
   "cell_type": "code",
   "execution_count": 42,
   "id": "e2514b08",
   "metadata": {},
   "outputs": [
    {
     "name": "stdout",
     "output_type": "stream",
     "text": [
      "Top-p search generated text:\n"
     ]
    },
    {
     "data": {
      "text/plain": [
       "'[BOS] гарри джеймс поттер - эванс - веррес » уровень адреналина в крови начал расти по спине гарри пробежал холодок — в повседневном английском языке , мистер поттер , слово « друг » не ассоциируется с отчаянными попытками воскресить мёртвого это было бы полезно , это помогло бы в будущем вести себя более разумно — нет , ты не понимаешь , несмотря на то , что книги тебя предупредили , попросту не существует способа понять это , пока . . . — но ведь это не оста'"
      ]
     },
     "execution_count": 42,
     "metadata": {},
     "output_type": "execute_result"
    }
   ],
   "source": [
    "predict_next(TopPSampler(p=0.5), 'Top-P', prompt_tokens)"
   ]
  },
  {
   "cell_type": "markdown",
   "id": "efcf6328",
   "metadata": {},
   "source": [
    "<div style=\"background-color: blue; height: 2px; margin: 10px 0;\"></div>"
   ]
  },
  {
   "cell_type": "markdown",
   "id": "94405403",
   "metadata": {},
   "source": [
    "## 4 Общий вывод"
   ]
  },
  {
   "cell_type": "markdown",
   "id": "90f76149",
   "metadata": {},
   "source": [
    "Были продемонстрированы результаты обучения построенной модели с применением различных алгоритмов поиска лучших токенов."
   ]
  },
  {
   "cell_type": "markdown",
   "id": "f12465d7",
   "metadata": {},
   "source": [
    "<div style=\"text-align: center; font-size: 20px; padding: 15px 0;\">\n",
    "    <a href=\"#Содержание\" data-toc-modified-id=\"Содержание\" style=\"text-decoration: none; color: #296eaa; border: 2px dashed #296eaa; opacity: 0.8; border-radius: 3px; padding: 10px 80px;\">\n",
    "        В начало файла ↑\n",
    "    </a>\n",
    "</div>"
   ]
  }
 ],
 "metadata": {
  "kernelspec": {
   "display_name": "Python 3 (ipykernel)",
   "language": "python",
   "name": "python3"
  },
  "language_info": {
   "codemirror_mode": {
    "name": "ipython",
    "version": 3
   },
   "file_extension": ".py",
   "mimetype": "text/x-python",
   "name": "python",
   "nbconvert_exporter": "python",
   "pygments_lexer": "ipython3",
   "version": "3.10.11"
  }
 },
 "nbformat": 4,
 "nbformat_minor": 5
}

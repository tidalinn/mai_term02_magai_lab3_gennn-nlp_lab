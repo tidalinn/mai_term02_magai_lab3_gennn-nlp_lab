{
 "cells": [
  {
   "cell_type": "markdown",
   "id": "be80210a",
   "metadata": {},
   "source": [
    "<h1>Содержание<span class=\"tocSkip\"></span></h1>\n",
    "<br>\n",
    "<div class=\"toc\">\n",
    "    <ul class=\"toc-item\">\n",
    "        <li>\n",
    "            <span>\n",
    "                <a href=\"#1-Подготовка-окружения\">\n",
    "                    <span class=\"toc-item-num\">1&nbsp;&nbsp;</span>\n",
    "                    Подготовка окружения\n",
    "                </a>\n",
    "            </span>\n",
    "        </li>\n",
    "        <li>\n",
    "            <span>\n",
    "                <a href=\"#2-Загрузка-данных\">\n",
    "                    <span class=\"toc-item-num\">2&nbsp;&nbsp;</span>\n",
    "                    Загрузка данных\n",
    "                </a>\n",
    "            </span>\n",
    "        </li>\n",
    "        <li>\n",
    "            <span>\n",
    "                <a href=\"#3-Двунаправленная-LSTM\">\n",
    "                    <span class=\"toc-item-num\">3&nbsp;&nbsp;</span>\n",
    "                    Двунаправленная LSTM\n",
    "                </a>\n",
    "            </span>\n",
    "            <ul class=\"toc-item\">\n",
    "                <li>\n",
    "                    <span>\n",
    "                        <a href=\"#3.1-Токенизация-слов\">\n",
    "                            <span class=\"toc-item-num\">3.1&nbsp;&nbsp;</span>\n",
    "                            Токенизация слов\n",
    "                        </a>\n",
    "                    </span>\n",
    "                </li>\n",
    "                <li>\n",
    "                    <span>\n",
    "                        <a href=\"#3.2-Подготовка-модели\">\n",
    "                            <span class=\"toc-item-num\">3.2&nbsp;&nbsp;</span>\n",
    "                            Подготовка модели\n",
    "                        </a>\n",
    "                    </span>\n",
    "                </li>\n",
    "                <li>\n",
    "                    <span>\n",
    "                        <a href=\"#3.3-Обучение-модели\">\n",
    "                            <span class=\"toc-item-num\">3.3&nbsp;&nbsp;</span>\n",
    "                            Обучение модели\n",
    "                        </a>\n",
    "                    </span>\n",
    "                </li>\n",
    "                <li>\n",
    "                    <span>\n",
    "                        <a href=\"#3.4-Генерация-текста\">\n",
    "                            <span class=\"toc-item-num\">3.4&nbsp;&nbsp;</span>\n",
    "                            Генерация текста\n",
    "                        </a>\n",
    "                    </span>\n",
    "                </li>\n",
    "            </ul>\n",
    "        </li>\n",
    "        <li>\n",
    "            <span>\n",
    "                <a href=\"#4-Общий-вывод\">\n",
    "                    <span class=\"toc-item-num\">4&nbsp;&nbsp;</span>\n",
    "                    Общий вывод\n",
    "                </a>\n",
    "            </span>\n",
    "        </li>\n",
    "    </ul>\n",
    "</div>"
   ]
  },
  {
   "cell_type": "markdown",
   "id": "7e9d4a79",
   "metadata": {},
   "source": [
    "# Генеративные текстовые нейросети | Двунаправленная LSTM"
   ]
  },
  {
   "cell_type": "markdown",
   "id": "7ef168b4",
   "metadata": {},
   "source": [
    "**Постановка задачи:** натренировать и сравнить качество нескольких генеративных текстовых моделей на одном из заданных текстовых датасетов.\n",
    "\n",
    "**Источник данных:** [Harry Potter and the Methods of Rationality](https://hpmor.ru/).\n",
    "\n",
    "**Характер данных:** текст книги \"Гарри Поттер и методы рационального мышления\".\n",
    "\n",
    "**Основные этапы:** исследовать следующие нейросетевые архитектуры:\n",
    "\n",
    "1. Simple RNN с посимвольной и пословной токенизацией.\n",
    "2. Однонаправленная однослойная и многослойная LSTM c посимвольной токенизацией и токенизацией по словам и [на основе BPE](https://keras.io/api/keras_nlp/tokenizers/byte_pair_tokenizer/).\n",
    "3. Двунаправленная LSTM.\n",
    "4. *(На хорошую оценку)* трансформерная архитектура (GPT) \"с нуля\" [пример](https://keras.io/examples/generative/text_generation_gpt/).\n",
    "5. *(На отличную оценку)* дообучение предобученной GPT-сети [пример](https://github.com/ZotovaElena/RuGPT3_finetuning)."
   ]
  },
  {
   "cell_type": "markdown",
   "id": "ca5c62fd",
   "metadata": {},
   "source": [
    "---"
   ]
  },
  {
   "cell_type": "markdown",
   "id": "597fac6b",
   "metadata": {},
   "source": [
    "# Реализации\n",
    "\n",
    "1. [RNN с посимвольной токенизацией](RNN_char.ipynb)\n",
    "2. [RNN с пословной токенизацией](RNN_word.ipynb)\n",
    "3. [Однонаправленная LSTM + BPE](LSTM_unidirectional_BPE.ipynb)\n",
    "4. Двунаправленная LSTM (текущий файл)\n",
    "5. [Архитектура GPT](GPT_architecture.ipynb)\n",
    "6. [Дообучение GPT](GPT_finetuning.ipynb)"
   ]
  },
  {
   "cell_type": "markdown",
   "id": "f83f3ad7",
   "metadata": {},
   "source": [
    "<div style=\"background-color: blue; height: 2px; margin: 10px 0;\"></div>"
   ]
  },
  {
   "cell_type": "markdown",
   "id": "ec375e8c",
   "metadata": {},
   "source": [
    "## 1 Подготовка окружения"
   ]
  },
  {
   "cell_type": "markdown",
   "id": "f1254a84",
   "metadata": {},
   "source": [
    "Импорт библиотек:"
   ]
  },
  {
   "cell_type": "code",
   "execution_count": 1,
   "id": "13be500e",
   "metadata": {},
   "outputs": [],
   "source": [
    "import numpy as np\n",
    "import os\n",
    "\n",
    "from tensorflow import keras\n",
    "from tensorflow.keras.preprocessing import sequence\n",
    "\n",
    "import keras.layers as l\n",
    "\n",
    "from keras import models, callbacks, utils\n",
    "from keras.preprocessing import text\n",
    "\n",
    "# custom funcs\n",
    "import utils.web_scrapping as web\n",
    "import utils.process_checking as check\n",
    "import utils.data_preprocessing as data_prep\n",
    "import utils.charts_plotting as chart"
   ]
  },
  {
   "cell_type": "markdown",
   "id": "afbcf0dc",
   "metadata": {},
   "source": [
    "<div style=\"background-color: blue; height: 2px; margin: 10px 0;\"></div>"
   ]
  },
  {
   "cell_type": "markdown",
   "id": "1c1480b9",
   "metadata": {},
   "source": [
    "## Загрузка данных"
   ]
  },
  {
   "cell_type": "markdown",
   "id": "b2a5de93",
   "metadata": {},
   "source": [
    "Формирование/загрузка набора данных в зависимости от его наличия:"
   ]
  },
  {
   "cell_type": "code",
   "execution_count": 2,
   "id": "d00e982b",
   "metadata": {},
   "outputs": [
    {
     "name": "stdout",
     "output_type": "stream",
     "text": [
      "Uploaded from data/hpmor.txt\n"
     ]
    }
   ],
   "source": [
    "data = web.load_data('https://hpmor.ru/', 'hpmor.txt')"
   ]
  },
  {
   "cell_type": "markdown",
   "id": "5d8c4886",
   "metadata": {},
   "source": [
    "Выведение на экран начала текста:"
   ]
  },
  {
   "cell_type": "code",
   "execution_count": 3,
   "id": "211a5c9a",
   "metadata": {},
   "outputs": [
    {
     "data": {
      "text/plain": [
       "'гарри поттер и методы рационального мышления. элиезер юдковский (less wrong). петуния вышла замуж не за дурсля, а за университетского профессора, и гарри попал в гораздо более благоприятную среду. у него были частные учителя, дискуссии с отцом, а главное — книги, сотни и тысячи научных и фантастических книг. в 11 лет гарри знаком с квантовой механикой, когнитивной психологией, теорией вероятностей и другими вещами. но гарри не просто вундеркинд, у него есть загадочная тёмная сторона, которая явн'"
      ]
     },
     "execution_count": 3,
     "metadata": {},
     "output_type": "execute_result"
    }
   ],
   "source": [
    "data[:500]"
   ]
  },
  {
   "cell_type": "markdown",
   "id": "3d1d88a0",
   "metadata": {},
   "source": [
    "Выведение на экран общего числа слов и предложений в тексте:"
   ]
  },
  {
   "cell_type": "code",
   "execution_count": 4,
   "id": "49d0344c",
   "metadata": {},
   "outputs": [
    {
     "name": "stdout",
     "output_type": "stream",
     "text": [
      "Всего слов: 559791\n",
      "Всего предложений: 37351\n"
     ]
    }
   ],
   "source": [
    "check.print_total(data)"
   ]
  },
  {
   "cell_type": "markdown",
   "id": "9a20371b",
   "metadata": {},
   "source": [
    "Разделение текста на отдельные предложения:"
   ]
  },
  {
   "cell_type": "code",
   "execution_count": 5,
   "id": "78e02ce9",
   "metadata": {},
   "outputs": [],
   "source": [
    "data_sentences = data_prep.split_into_sentences(data)"
   ]
  },
  {
   "cell_type": "markdown",
   "id": "bec0108e",
   "metadata": {},
   "source": [
    "Выведение на экран начала текста:"
   ]
  },
  {
   "cell_type": "code",
   "execution_count": 6,
   "id": "20c8a67e",
   "metadata": {},
   "outputs": [
    {
     "data": {
      "text/plain": [
       "['гарри поттер и методы рационального мышления',\n",
       " 'элиезер юдковский',\n",
       " 'петуния вышла замуж не за дурсля, а за университетского профессора, и гарри попал в гораздо более благоприятную среду',\n",
       " 'у него были частные учителя, дискуссии с отцом, а главное  книги, сотни и тысячи научных и фантастических книг',\n",
       " 'в 11 лет гарри знаком с квантовой механикой, когнитивной психологией, теорией вероятностей и другими вещами']"
      ]
     },
     "execution_count": 6,
     "metadata": {},
     "output_type": "execute_result"
    }
   ],
   "source": [
    "data_sentences[:5]"
   ]
  },
  {
   "cell_type": "markdown",
   "id": "5613c377",
   "metadata": {},
   "source": [
    "Сокращение количества предложений для обеспечения работы модели:"
   ]
  },
  {
   "cell_type": "code",
   "execution_count": 7,
   "id": "716cd8e0",
   "metadata": {},
   "outputs": [],
   "source": [
    "data_sentences = data_sentences[:500]"
   ]
  },
  {
   "cell_type": "markdown",
   "id": "6d37232c",
   "metadata": {},
   "source": [
    "Выведение на экран количества слов в уменьшенном тексте:"
   ]
  },
  {
   "cell_type": "code",
   "execution_count": 8,
   "id": "11236d4c",
   "metadata": {},
   "outputs": [
    {
     "name": "stdout",
     "output_type": "stream",
     "text": [
      "Всего слов: 6670\n"
     ]
    }
   ],
   "source": [
    "check.print_total(' '.join(data_sentences))"
   ]
  },
  {
   "cell_type": "markdown",
   "id": "1e1b88fc",
   "metadata": {},
   "source": [
    "<div style=\"background-color: blue; height: 2px; margin: 10px 0;\"></div>"
   ]
  },
  {
   "cell_type": "markdown",
   "id": "66105900",
   "metadata": {},
   "source": [
    "## 3 Двунаправленная LSTM"
   ]
  },
  {
   "cell_type": "markdown",
   "id": "5cee11b1",
   "metadata": {},
   "source": [
    "### 3.1 Токенизация слов"
   ]
  },
  {
   "cell_type": "markdown",
   "id": "2d065ea4",
   "metadata": {},
   "source": [
    "Объявление объекта токенизатора:"
   ]
  },
  {
   "cell_type": "code",
   "execution_count": 9,
   "id": "56068964",
   "metadata": {},
   "outputs": [],
   "source": [
    "tokenizer = text.Tokenizer()"
   ]
  },
  {
   "cell_type": "markdown",
   "id": "48cd5139",
   "metadata": {},
   "source": [
    "Токенизация предложений:"
   ]
  },
  {
   "cell_type": "code",
   "execution_count": 10,
   "id": "b7159122",
   "metadata": {},
   "outputs": [],
   "source": [
    "tokenizer.fit_on_texts(data_sentences)"
   ]
  },
  {
   "cell_type": "markdown",
   "id": "dbe504cf",
   "metadata": {},
   "source": [
    "Выведение на экран количества токенов в словаре:"
   ]
  },
  {
   "cell_type": "code",
   "execution_count": 11,
   "id": "c8f218c8",
   "metadata": {},
   "outputs": [
    {
     "name": "stdout",
     "output_type": "stream",
     "text": [
      "Всего слов: 2890\n"
     ]
    }
   ],
   "source": [
    "print('Всего слов:', len(tokenizer.word_index))"
   ]
  },
  {
   "cell_type": "markdown",
   "id": "b01903ba",
   "metadata": {},
   "source": [
    "Выведение на экран начала словаря токенов:"
   ]
  },
  {
   "cell_type": "code",
   "execution_count": 12,
   "id": "1cfab927",
   "metadata": {},
   "outputs": [
    {
     "data": {
      "text/plain": [
       "[('в', 1),\n",
       " ('и', 2),\n",
       " ('не', 3),\n",
       " ('что', 4),\n",
       " ('гарри', 5),\n",
       " ('я', 6),\n",
       " ('на', 7),\n",
       " ('с', 8),\n",
       " ('но', 9),\n",
       " ('это', 10)]"
      ]
     },
     "execution_count": 12,
     "metadata": {},
     "output_type": "execute_result"
    }
   ],
   "source": [
    "check.print_tokenizer_vocabulary(tokenizer.word_index)"
   ]
  },
  {
   "cell_type": "markdown",
   "id": "56dadef3",
   "metadata": {},
   "source": [
    "Формирование признаков:"
   ]
  },
  {
   "cell_type": "code",
   "execution_count": 13,
   "id": "eb4170c3",
   "metadata": {},
   "outputs": [],
   "source": [
    "features = data_prep.get_features(data_sentences, tokenizer)"
   ]
  },
  {
   "cell_type": "markdown",
   "id": "18da8f44",
   "metadata": {},
   "source": [
    "Выведение на экран начала признаков:"
   ]
  },
  {
   "cell_type": "code",
   "execution_count": 14,
   "id": "65c62a3e",
   "metadata": {},
   "outputs": [
    {
     "data": {
      "text/plain": [
       "[[5, 26],\n",
       " [5, 26, 2],\n",
       " [5, 26, 2, 272],\n",
       " [5, 26, 2, 272, 273],\n",
       " [5, 26, 2, 272, 273, 274],\n",
       " [780, 781],\n",
       " [54, 782],\n",
       " [54, 782, 783],\n",
       " [54, 782, 783, 3],\n",
       " [54, 782, 783, 3, 21]]"
      ]
     },
     "execution_count": 14,
     "metadata": {},
     "output_type": "execute_result"
    }
   ],
   "source": [
    "features[:10]"
   ]
  },
  {
   "cell_type": "markdown",
   "id": "35a3fc29",
   "metadata": {},
   "source": [
    "Задание констант:"
   ]
  },
  {
   "cell_type": "code",
   "execution_count": 15,
   "id": "129a27a9",
   "metadata": {},
   "outputs": [],
   "source": [
    "VOCAB_LEN = len(tokenizer.word_index) + 1\n",
    "MAX_SEQ_LEN = max([len(x) for x in features])\n",
    "BATCH_SIZE = 100"
   ]
  },
  {
   "cell_type": "markdown",
   "id": "3defa176",
   "metadata": {},
   "source": [
    "Преобразование признаков:"
   ]
  },
  {
   "cell_type": "code",
   "execution_count": 16,
   "id": "5d577cef",
   "metadata": {},
   "outputs": [],
   "source": [
    "features = np.array(sequence.pad_sequences(features, maxlen=MAX_SEQ_LEN, padding='pre'))"
   ]
  },
  {
   "cell_type": "markdown",
   "id": "bea9da10",
   "metadata": {},
   "source": [
    "Задание признаков и целевого признака:"
   ]
  },
  {
   "cell_type": "code",
   "execution_count": 17,
   "id": "593c2fdb",
   "metadata": {},
   "outputs": [],
   "source": [
    "features, target = features[:,:-1], features[:,-1]\n",
    "target = utils.to_categorical(target, num_classes=VOCAB_LEN)"
   ]
  },
  {
   "cell_type": "markdown",
   "id": "ea8ae4d7",
   "metadata": {},
   "source": [
    "Выведение на экран экземпляра признаков и целевого признака:"
   ]
  },
  {
   "cell_type": "code",
   "execution_count": 18,
   "id": "703a03ce",
   "metadata": {},
   "outputs": [
    {
     "name": "stdout",
     "output_type": "stream",
     "text": [
      "Признаки (68,):\n",
      "[  0   0   0   0   0   0   0   0   0   0   0   0   0   0   0   0   0   0\n",
      "   0   0   0   0   0   0   0   0   0   0   0   0   0   0   0   0   0   0\n",
      "   0   0   0   0   0   0   0   0   0   0   0   0   0   0   0   0   0   0\n",
      "   0   0   0   0   0   0   0   0  29  14 263 265  48 744]\n",
      "\n",
      "Перевод в текст:\n",
      "профессор макгонагалл вздохнула ваши родители ваша\n",
      "\n",
      "Целевой признак (2891,):\n",
      "76\n",
      "\n",
      "Перевод в текст:\n",
      "мать\n",
      "\n"
     ]
    }
   ],
   "source": [
    "check.print_single_element(features, target, tokenizer.index_word)"
   ]
  },
  {
   "cell_type": "markdown",
   "id": "e7efe05b",
   "metadata": {},
   "source": [
    "---"
   ]
  },
  {
   "cell_type": "markdown",
   "id": "1abcee35",
   "metadata": {},
   "source": [
    "### 3.2 Подготовка модели"
   ]
  },
  {
   "cell_type": "markdown",
   "id": "81daa94b",
   "metadata": {},
   "source": [
    "Задание модели:"
   ]
  },
  {
   "cell_type": "code",
   "execution_count": 19,
   "id": "694274ce",
   "metadata": {},
   "outputs": [],
   "source": [
    "model = models.Sequential([\n",
    "    l.Embedding(VOCAB_LEN, BATCH_SIZE, input_length=MAX_SEQ_LEN-1),\n",
    "    l.Bidirectional(l.LSTM(150, return_sequences=True)),\n",
    "    l.Dropout(0.2),\n",
    "    l.LSTM(100),\n",
    "    l.Dense(VOCAB_LEN / 2, activation='relu', kernel_regularizer=keras.regularizers.l2(0.01)),\n",
    "    l.Dense(VOCAB_LEN, activation='softmax')\n",
    "])"
   ]
  },
  {
   "cell_type": "markdown",
   "id": "9b818b58",
   "metadata": {},
   "source": [
    "Выведение на экран таблицы поведения параметров на слоях нейросети:"
   ]
  },
  {
   "cell_type": "code",
   "execution_count": 20,
   "id": "7649ea94",
   "metadata": {},
   "outputs": [
    {
     "name": "stdout",
     "output_type": "stream",
     "text": [
      "Model: \"sequential\"\n",
      "_________________________________________________________________\n",
      " Layer (type)                Output Shape              Param #   \n",
      "=================================================================\n",
      " embedding (Embedding)       (None, 68, 100)           289100    \n",
      "                                                                 \n",
      " bidirectional (Bidirectiona  (None, 68, 300)          301200    \n",
      " l)                                                              \n",
      "                                                                 \n",
      " dropout (Dropout)           (None, 68, 300)           0         \n",
      "                                                                 \n",
      " lstm_1 (LSTM)               (None, 100)               160400    \n",
      "                                                                 \n",
      " dense (Dense)               (None, 1445)              145945    \n",
      "                                                                 \n",
      " dense_1 (Dense)             (None, 2891)              4180386   \n",
      "                                                                 \n",
      "=================================================================\n",
      "Total params: 5,077,031\n",
      "Trainable params: 5,077,031\n",
      "Non-trainable params: 0\n",
      "_________________________________________________________________\n"
     ]
    }
   ],
   "source": [
    "model.summary()"
   ]
  },
  {
   "cell_type": "markdown",
   "id": "e4436658",
   "metadata": {},
   "source": [
    "Проверка наличия папки для хранения изображений:"
   ]
  },
  {
   "cell_type": "code",
   "execution_count": 21,
   "id": "fdf102cb",
   "metadata": {},
   "outputs": [],
   "source": [
    "if os.path.isdir('images/') == False:\n",
    "    os.mkdir('images/')"
   ]
  },
  {
   "cell_type": "markdown",
   "id": "40610c24",
   "metadata": {},
   "source": [
    "Выведение на экран отображения послойной обработки данных моделью:"
   ]
  },
  {
   "cell_type": "code",
   "execution_count": 22,
   "id": "39205fc2",
   "metadata": {},
   "outputs": [
    {
     "data": {
      "image/png": "[encoded data removed]",
      "text/plain": [
       "<IPython.core.display.Image object>"
      ]
     },
     "execution_count": 22,
     "metadata": {},
     "output_type": "execute_result"
    }
   ],
   "source": [
    "utils.plot_model(model, 'images/lstm_bi_model.png', show_shapes=True, dpi=70)"
   ]
  },
  {
   "cell_type": "markdown",
   "id": "37a86b19",
   "metadata": {},
   "source": [
    "---"
   ]
  },
  {
   "cell_type": "markdown",
   "id": "5a80af4e",
   "metadata": {},
   "source": [
    "### 3.3 Обучение модели"
   ]
  },
  {
   "cell_type": "markdown",
   "id": "9b7d352c",
   "metadata": {},
   "source": [
    "Проверка наличия папки для хранения контрольных точек:"
   ]
  },
  {
   "cell_type": "code",
   "execution_count": 23,
   "id": "cd12e753",
   "metadata": {},
   "outputs": [],
   "source": [
    "if os.path.isdir('checkpoints/') == False:\n",
    "    os.mkdir('checkpoints/')"
   ]
  },
  {
   "cell_type": "markdown",
   "id": "2329cf30",
   "metadata": {},
   "source": [
    "Задание пути для хранения контрольных точек:"
   ]
  },
  {
   "cell_type": "code",
   "execution_count": 24,
   "id": "a8390ad1",
   "metadata": {},
   "outputs": [],
   "source": [
    "path_checkpoints = 'checkpoints/lstm_bi'"
   ]
  },
  {
   "cell_type": "markdown",
   "id": "5eb522f9",
   "metadata": {},
   "source": [
    "Проверка наличия папки для хранения контрольных точек:"
   ]
  },
  {
   "cell_type": "code",
   "execution_count": 25,
   "id": "aa414b0b",
   "metadata": {},
   "outputs": [],
   "source": [
    "if os.path.isdir(path_checkpoints) == False:\n",
    "    os.mkdir(path_checkpoints)"
   ]
  },
  {
   "cell_type": "markdown",
   "id": "8e7c3548",
   "metadata": {},
   "source": [
    "Задание коллбека точек сохранения:"
   ]
  },
  {
   "cell_type": "code",
   "execution_count": 26,
   "id": "4823a826",
   "metadata": {},
   "outputs": [],
   "source": [
    "checkpoint_path = os.path.join(path_checkpoints, 'checkpoint_{epoch}')\n",
    "\n",
    "checkpoint_callback = callbacks.ModelCheckpoint(\n",
    "    filepath=checkpoint_path, \n",
    "    save_weights_only=True, \n",
    "    verbose=1\n",
    ")"
   ]
  },
  {
   "cell_type": "markdown",
   "id": "9b2259e8",
   "metadata": {},
   "source": [
    "Подготовка модели к обучению:"
   ]
  },
  {
   "cell_type": "code",
   "execution_count": 27,
   "id": "b0f5b4d9",
   "metadata": {},
   "outputs": [],
   "source": [
    "model.compile(optimizer='adam', loss='categorical_crossentropy', metrics=['accuracy'])"
   ]
  },
  {
   "cell_type": "markdown",
   "id": "43dab9ed",
   "metadata": {},
   "source": [
    "Обучение модели:"
   ]
  },
  {
   "cell_type": "code",
   "execution_count": 28,
   "id": "6ba9d1e0",
   "metadata": {
    "scrolled": true
   },
   "outputs": [
    {
     "name": "stdout",
     "output_type": "stream",
     "text": [
      "Epoch 1/200\n",
      "195/195 [==============================] - ETA: 0s - loss: 7.7774 - accuracy: 0.0236\n",
      "Epoch 1: saving model to checkpoints/lstm_bi\\checkpoint_1\n",
      "195/195 [==============================] - 50s 241ms/step - loss: 7.7774 - accuracy: 0.0236\n",
      "Epoch 2/200\n",
      "195/195 [==============================] - ETA: 0s - loss: 7.1167 - accuracy: 0.0263\n",
      "Epoch 2: saving model to checkpoints/lstm_bi\\checkpoint_2\n",
      "195/195 [==============================] - 48s 246ms/step - loss: 7.1167 - accuracy: 0.0263\n",
      "Epoch 3/200\n",
      "195/195 [==============================] - ETA: 0s - loss: 6.9280 - accuracy: 0.0266\n",
      "Epoch 3: saving model to checkpoints/lstm_bi\\checkpoint_3\n",
      "195/195 [==============================] - 56s 288ms/step - loss: 6.9280 - accuracy: 0.0266\n",
      "Epoch 4/200\n",
      "195/195 [==============================] - ETA: 0s - loss: 6.8419 - accuracy: 0.0254\n",
      "Epoch 4: saving model to checkpoints/lstm_bi\\checkpoint_4\n",
      "195/195 [==============================] - 52s 266ms/step - loss: 6.8419 - accuracy: 0.0254\n",
      "Epoch 5/200\n",
      "195/195 [==============================] - ETA: 0s - loss: 6.7682 - accuracy: 0.0260\n",
      "Epoch 5: saving model to checkpoints/lstm_bi\\checkpoint_5\n",
      "195/195 [==============================] - 45s 232ms/step - loss: 6.7682 - accuracy: 0.0260\n",
      "Epoch 6/200\n",
      "195/195 [==============================] - ETA: 0s - loss: 6.6712 - accuracy: 0.0268\n",
      "Epoch 6: saving model to checkpoints/lstm_bi\\checkpoint_6\n",
      "195/195 [==============================] - 44s 224ms/step - loss: 6.6712 - accuracy: 0.0268\n",
      "Epoch 7/200\n",
      "195/195 [==============================] - ETA: 0s - loss: 6.5925 - accuracy: 0.0273\n",
      "Epoch 7: saving model to checkpoints/lstm_bi\\checkpoint_7\n",
      "195/195 [==============================] - 42s 214ms/step - loss: 6.5925 - accuracy: 0.0273\n",
      "Epoch 8/200\n",
      "195/195 [==============================] - ETA: 0s - loss: 6.5274 - accuracy: 0.0308\n",
      "Epoch 8: saving model to checkpoints/lstm_bi\\checkpoint_8\n",
      "195/195 [==============================] - 41s 213ms/step - loss: 6.5274 - accuracy: 0.0308\n",
      "Epoch 9/200\n",
      "195/195 [==============================] - ETA: 0s - loss: 6.4754 - accuracy: 0.0311\n",
      "Epoch 9: saving model to checkpoints/lstm_bi\\checkpoint_9\n",
      "195/195 [==============================] - 41s 208ms/step - loss: 6.4754 - accuracy: 0.0311\n",
      "Epoch 10/200\n",
      "195/195 [==============================] - ETA: 0s - loss: 6.4284 - accuracy: 0.0334\n",
      "Epoch 10: saving model to checkpoints/lstm_bi\\checkpoint_10\n",
      "195/195 [==============================] - 40s 206ms/step - loss: 6.4284 - accuracy: 0.0334\n",
      "Epoch 11/200\n",
      "195/195 [==============================] - ETA: 0s - loss: 6.3883 - accuracy: 0.0323\n",
      "Epoch 11: saving model to checkpoints/lstm_bi\\checkpoint_11\n",
      "195/195 [==============================] - 42s 216ms/step - loss: 6.3883 - accuracy: 0.0323\n",
      "Epoch 12/200\n",
      "195/195 [==============================] - ETA: 0s - loss: 6.3303 - accuracy: 0.0335\n",
      "Epoch 12: saving model to checkpoints/lstm_bi\\checkpoint_12\n",
      "195/195 [==============================] - 43s 220ms/step - loss: 6.3303 - accuracy: 0.0335\n",
      "Epoch 13/200\n",
      "195/195 [==============================] - ETA: 0s - loss: 6.2664 - accuracy: 0.0331\n",
      "Epoch 13: saving model to checkpoints/lstm_bi\\checkpoint_13\n",
      "195/195 [==============================] - 42s 215ms/step - loss: 6.2664 - accuracy: 0.0331\n",
      "Epoch 14/200\n",
      "195/195 [==============================] - ETA: 0s - loss: 6.1865 - accuracy: 0.0385\n",
      "Epoch 14: saving model to checkpoints/lstm_bi\\checkpoint_14\n",
      "195/195 [==============================] - 42s 216ms/step - loss: 6.1865 - accuracy: 0.0385\n",
      "Epoch 15/200\n",
      "195/195 [==============================] - ETA: 0s - loss: 6.1078 - accuracy: 0.0369\n",
      "Epoch 15: saving model to checkpoints/lstm_bi\\checkpoint_15\n",
      "195/195 [==============================] - 42s 214ms/step - loss: 6.1078 - accuracy: 0.0369\n",
      "Epoch 16/200\n",
      "195/195 [==============================] - ETA: 0s - loss: 6.0241 - accuracy: 0.0377\n",
      "Epoch 16: saving model to checkpoints/lstm_bi\\checkpoint_16\n",
      "195/195 [==============================] - 42s 218ms/step - loss: 6.0241 - accuracy: 0.0377\n",
      "Epoch 17/200\n",
      "195/195 [==============================] - ETA: 0s - loss: 5.9403 - accuracy: 0.0412\n",
      "Epoch 17: saving model to checkpoints/lstm_bi\\checkpoint_17\n",
      "195/195 [==============================] - 43s 219ms/step - loss: 5.9403 - accuracy: 0.0412\n",
      "Epoch 18/200\n",
      "195/195 [==============================] - ETA: 0s - loss: 5.8656 - accuracy: 0.0462\n",
      "Epoch 18: saving model to checkpoints/lstm_bi\\checkpoint_18\n",
      "195/195 [==============================] - 43s 220ms/step - loss: 5.8656 - accuracy: 0.0462\n",
      "Epoch 19/200\n",
      "195/195 [==============================] - ETA: 0s - loss: 5.7734 - accuracy: 0.0465\n",
      "Epoch 19: saving model to checkpoints/lstm_bi\\checkpoint_19\n",
      "195/195 [==============================] - 44s 224ms/step - loss: 5.7734 - accuracy: 0.0465\n",
      "Epoch 20/200\n",
      "195/195 [==============================] - ETA: 0s - loss: 5.6869 - accuracy: 0.0512\n",
      "Epoch 20: saving model to checkpoints/lstm_bi\\checkpoint_20\n",
      "195/195 [==============================] - 44s 228ms/step - loss: 5.6869 - accuracy: 0.0512\n",
      "Epoch 21/200\n",
      "195/195 [==============================] - ETA: 0s - loss: 5.6066 - accuracy: 0.0542\n",
      "Epoch 21: saving model to checkpoints/lstm_bi\\checkpoint_21\n",
      "195/195 [==============================] - 43s 219ms/step - loss: 5.6066 - accuracy: 0.0542\n",
      "Epoch 22/200\n",
      "195/195 [==============================] - ETA: 0s - loss: 5.5118 - accuracy: 0.0618\n",
      "Epoch 22: saving model to checkpoints/lstm_bi\\checkpoint_22\n",
      "195/195 [==============================] - 43s 218ms/step - loss: 5.5118 - accuracy: 0.0618\n",
      "Epoch 23/200\n",
      "195/195 [==============================] - ETA: 0s - loss: 5.4253 - accuracy: 0.0745\n",
      "Epoch 23: saving model to checkpoints/lstm_bi\\checkpoint_23\n",
      "195/195 [==============================] - 42s 215ms/step - loss: 5.4253 - accuracy: 0.0745\n",
      "Epoch 24/200\n",
      "195/195 [==============================] - ETA: 0s - loss: 5.3423 - accuracy: 0.0754\n",
      "Epoch 24: saving model to checkpoints/lstm_bi\\checkpoint_24\n",
      "195/195 [==============================] - 41s 213ms/step - loss: 5.3423 - accuracy: 0.0754\n",
      "Epoch 25/200\n",
      "195/195 [==============================] - ETA: 0s - loss: 5.2857 - accuracy: 0.0782\n",
      "Epoch 25: saving model to checkpoints/lstm_bi\\checkpoint_25\n",
      "195/195 [==============================] - 43s 218ms/step - loss: 5.2857 - accuracy: 0.0782\n",
      "Epoch 26/200\n",
      "195/195 [==============================] - ETA: 0s - loss: 5.1929 - accuracy: 0.0907\n",
      "Epoch 26: saving model to checkpoints/lstm_bi\\checkpoint_26\n",
      "195/195 [==============================] - 43s 223ms/step - loss: 5.1929 - accuracy: 0.0907\n",
      "Epoch 27/200\n",
      "195/195 [==============================] - ETA: 0s - loss: 5.0984 - accuracy: 0.0968\n",
      "Epoch 27: saving model to checkpoints/lstm_bi\\checkpoint_27\n",
      "195/195 [==============================] - 44s 225ms/step - loss: 5.0984 - accuracy: 0.0968\n",
      "Epoch 28/200\n",
      "195/195 [==============================] - ETA: 0s - loss: 5.0072 - accuracy: 0.1013\n",
      "Epoch 28: saving model to checkpoints/lstm_bi\\checkpoint_28\n",
      "195/195 [==============================] - 45s 232ms/step - loss: 5.0072 - accuracy: 0.1013\n",
      "Epoch 29/200\n",
      "195/195 [==============================] - ETA: 0s - loss: 4.9177 - accuracy: 0.1141\n",
      "Epoch 29: saving model to checkpoints/lstm_bi\\checkpoint_29\n",
      "195/195 [==============================] - 43s 220ms/step - loss: 4.9177 - accuracy: 0.1141\n",
      "Epoch 30/200\n",
      "195/195 [==============================] - ETA: 0s - loss: 4.8590 - accuracy: 0.1186\n",
      "Epoch 30: saving model to checkpoints/lstm_bi\\checkpoint_30\n",
      "195/195 [==============================] - 44s 224ms/step - loss: 4.8590 - accuracy: 0.1186\n",
      "Epoch 31/200\n",
      "195/195 [==============================] - ETA: 0s - loss: 4.7708 - accuracy: 0.1303\n",
      "Epoch 31: saving model to checkpoints/lstm_bi\\checkpoint_31\n",
      "195/195 [==============================] - 44s 224ms/step - loss: 4.7708 - accuracy: 0.1303\n",
      "Epoch 32/200\n",
      "195/195 [==============================] - ETA: 0s - loss: 4.6909 - accuracy: 0.1363\n",
      "Epoch 32: saving model to checkpoints/lstm_bi\\checkpoint_32\n",
      "195/195 [==============================] - 43s 222ms/step - loss: 4.6909 - accuracy: 0.1363\n",
      "Epoch 33/200\n",
      "195/195 [==============================] - ETA: 0s - loss: 4.5896 - accuracy: 0.1451\n",
      "Epoch 33: saving model to checkpoints/lstm_bi\\checkpoint_33\n",
      "195/195 [==============================] - 42s 218ms/step - loss: 4.5896 - accuracy: 0.1451\n"
     ]
    },
    {
     "name": "stdout",
     "output_type": "stream",
     "text": [
      "Epoch 34/200\n",
      "195/195 [==============================] - ETA: 0s - loss: 4.5046 - accuracy: 0.1531\n",
      "Epoch 34: saving model to checkpoints/lstm_bi\\checkpoint_34\n",
      "195/195 [==============================] - 43s 222ms/step - loss: 4.5046 - accuracy: 0.1531\n",
      "Epoch 35/200\n",
      "195/195 [==============================] - ETA: 0s - loss: 4.4815 - accuracy: 0.1550\n",
      "Epoch 35: saving model to checkpoints/lstm_bi\\checkpoint_35\n",
      "195/195 [==============================] - 45s 231ms/step - loss: 4.4815 - accuracy: 0.1550\n",
      "Epoch 36/200\n",
      "195/195 [==============================] - ETA: 0s - loss: 4.4013 - accuracy: 0.1635\n",
      "Epoch 36: saving model to checkpoints/lstm_bi\\checkpoint_36\n",
      "195/195 [==============================] - 43s 220ms/step - loss: 4.4013 - accuracy: 0.1635\n",
      "Epoch 37/200\n",
      "195/195 [==============================] - ETA: 0s - loss: 4.2916 - accuracy: 0.1743\n",
      "Epoch 37: saving model to checkpoints/lstm_bi\\checkpoint_37\n",
      "195/195 [==============================] - 43s 219ms/step - loss: 4.2916 - accuracy: 0.1743\n",
      "Epoch 38/200\n",
      "195/195 [==============================] - ETA: 0s - loss: 4.2072 - accuracy: 0.1844\n",
      "Epoch 38: saving model to checkpoints/lstm_bi\\checkpoint_38\n",
      "195/195 [==============================] - 44s 224ms/step - loss: 4.2072 - accuracy: 0.1844\n",
      "Epoch 39/200\n",
      "195/195 [==============================] - ETA: 0s - loss: 4.1195 - accuracy: 0.1939\n",
      "Epoch 39: saving model to checkpoints/lstm_bi\\checkpoint_39\n",
      "195/195 [==============================] - 44s 225ms/step - loss: 4.1195 - accuracy: 0.1939\n",
      "Epoch 40/200\n",
      "195/195 [==============================] - ETA: 0s - loss: 4.0316 - accuracy: 0.2090\n",
      "Epoch 40: saving model to checkpoints/lstm_bi\\checkpoint_40\n",
      "195/195 [==============================] - 44s 227ms/step - loss: 4.0316 - accuracy: 0.2090\n",
      "Epoch 41/200\n",
      "195/195 [==============================] - ETA: 0s - loss: 3.9472 - accuracy: 0.2187\n",
      "Epoch 41: saving model to checkpoints/lstm_bi\\checkpoint_41\n",
      "195/195 [==============================] - 45s 229ms/step - loss: 3.9472 - accuracy: 0.2187\n",
      "Epoch 42/200\n",
      "195/195 [==============================] - ETA: 0s - loss: 3.8642 - accuracy: 0.2335\n",
      "Epoch 42: saving model to checkpoints/lstm_bi\\checkpoint_42\n",
      "195/195 [==============================] - 45s 230ms/step - loss: 3.8642 - accuracy: 0.2335\n",
      "Epoch 43/200\n",
      "195/195 [==============================] - ETA: 0s - loss: 3.7976 - accuracy: 0.2423\n",
      "Epoch 43: saving model to checkpoints/lstm_bi\\checkpoint_43\n",
      "195/195 [==============================] - 45s 229ms/step - loss: 3.7976 - accuracy: 0.2423\n",
      "Epoch 44/200\n",
      "195/195 [==============================] - ETA: 0s - loss: 3.7202 - accuracy: 0.2528\n",
      "Epoch 44: saving model to checkpoints/lstm_bi\\checkpoint_44\n",
      "195/195 [==============================] - 46s 236ms/step - loss: 3.7202 - accuracy: 0.2528\n",
      "Epoch 45/200\n",
      "195/195 [==============================] - ETA: 0s - loss: 3.6550 - accuracy: 0.2658\n",
      "Epoch 45: saving model to checkpoints/lstm_bi\\checkpoint_45\n",
      "195/195 [==============================] - 46s 235ms/step - loss: 3.6550 - accuracy: 0.2658\n",
      "Epoch 46/200\n",
      "195/195 [==============================] - ETA: 0s - loss: 3.5871 - accuracy: 0.2834\n",
      "Epoch 46: saving model to checkpoints/lstm_bi\\checkpoint_46\n",
      "195/195 [==============================] - 45s 231ms/step - loss: 3.5871 - accuracy: 0.2834\n",
      "Epoch 47/200\n",
      "195/195 [==============================] - ETA: 0s - loss: 3.5626 - accuracy: 0.2813\n",
      "Epoch 47: saving model to checkpoints/lstm_bi\\checkpoint_47\n",
      "195/195 [==============================] - 46s 235ms/step - loss: 3.5626 - accuracy: 0.2813\n",
      "Epoch 48/200\n",
      "195/195 [==============================] - ETA: 0s - loss: 3.4679 - accuracy: 0.2982\n",
      "Epoch 48: saving model to checkpoints/lstm_bi\\checkpoint_48\n",
      "195/195 [==============================] - 45s 231ms/step - loss: 3.4679 - accuracy: 0.2982\n",
      "Epoch 49/200\n",
      "195/195 [==============================] - ETA: 0s - loss: 3.3704 - accuracy: 0.3155\n",
      "Epoch 49: saving model to checkpoints/lstm_bi\\checkpoint_49\n",
      "195/195 [==============================] - 45s 232ms/step - loss: 3.3704 - accuracy: 0.3155\n",
      "Epoch 50/200\n",
      "195/195 [==============================] - ETA: 0s - loss: 3.3090 - accuracy: 0.3306\n",
      "Epoch 50: saving model to checkpoints/lstm_bi\\checkpoint_50\n",
      "195/195 [==============================] - 45s 232ms/step - loss: 3.3090 - accuracy: 0.3306\n",
      "Epoch 51/200\n",
      "195/195 [==============================] - ETA: 0s - loss: 3.2453 - accuracy: 0.3478\n",
      "Epoch 51: saving model to checkpoints/lstm_bi\\checkpoint_51\n",
      "195/195 [==============================] - 45s 233ms/step - loss: 3.2453 - accuracy: 0.3478\n",
      "Epoch 52/200\n",
      "195/195 [==============================] - ETA: 0s - loss: 3.1749 - accuracy: 0.3556\n",
      "Epoch 52: saving model to checkpoints/lstm_bi\\checkpoint_52\n",
      "195/195 [==============================] - 47s 239ms/step - loss: 3.1749 - accuracy: 0.3556\n",
      "Epoch 53/200\n",
      "195/195 [==============================] - ETA: 0s - loss: 3.1069 - accuracy: 0.3762\n",
      "Epoch 53: saving model to checkpoints/lstm_bi\\checkpoint_53\n",
      "195/195 [==============================] - 46s 237ms/step - loss: 3.1069 - accuracy: 0.3762\n",
      "Epoch 54/200\n",
      "195/195 [==============================] - ETA: 0s - loss: 3.0404 - accuracy: 0.3844\n",
      "Epoch 54: saving model to checkpoints/lstm_bi\\checkpoint_54\n",
      "195/195 [==============================] - 45s 232ms/step - loss: 3.0404 - accuracy: 0.3844\n",
      "Epoch 55/200\n",
      "195/195 [==============================] - ETA: 0s - loss: 2.9916 - accuracy: 0.3967\n",
      "Epoch 55: saving model to checkpoints/lstm_bi\\checkpoint_55\n",
      "195/195 [==============================] - 46s 238ms/step - loss: 2.9916 - accuracy: 0.3967\n",
      "Epoch 56/200\n",
      "195/195 [==============================] - ETA: 0s - loss: 2.9257 - accuracy: 0.4125\n",
      "Epoch 56: saving model to checkpoints/lstm_bi\\checkpoint_56\n",
      "195/195 [==============================] - 46s 235ms/step - loss: 2.9257 - accuracy: 0.4125\n",
      "Epoch 57/200\n",
      "195/195 [==============================] - ETA: 0s - loss: 2.8622 - accuracy: 0.4359\n",
      "Epoch 57: saving model to checkpoints/lstm_bi\\checkpoint_57\n",
      "195/195 [==============================] - 46s 234ms/step - loss: 2.8622 - accuracy: 0.4359\n",
      "Epoch 58/200\n",
      "195/195 [==============================] - ETA: 0s - loss: 2.7816 - accuracy: 0.4511\n",
      "Epoch 58: saving model to checkpoints/lstm_bi\\checkpoint_58\n",
      "195/195 [==============================] - 45s 229ms/step - loss: 2.7816 - accuracy: 0.4511\n",
      "Epoch 59/200\n",
      "195/195 [==============================] - ETA: 0s - loss: 2.7285 - accuracy: 0.4645\n",
      "Epoch 59: saving model to checkpoints/lstm_bi\\checkpoint_59\n",
      "195/195 [==============================] - 45s 231ms/step - loss: 2.7285 - accuracy: 0.4645\n",
      "Epoch 60/200\n",
      "195/195 [==============================] - ETA: 0s - loss: 2.6776 - accuracy: 0.4768\n",
      "Epoch 60: saving model to checkpoints/lstm_bi\\checkpoint_60\n",
      "195/195 [==============================] - 45s 232ms/step - loss: 2.6776 - accuracy: 0.4768\n",
      "Epoch 61/200\n",
      "195/195 [==============================] - ETA: 0s - loss: 2.6163 - accuracy: 0.4914\n",
      "Epoch 61: saving model to checkpoints/lstm_bi\\checkpoint_61\n",
      "195/195 [==============================] - 45s 233ms/step - loss: 2.6163 - accuracy: 0.4914\n",
      "Epoch 62/200\n",
      "195/195 [==============================] - ETA: 0s - loss: 2.5744 - accuracy: 0.5035\n",
      "Epoch 62: saving model to checkpoints/lstm_bi\\checkpoint_62\n",
      "195/195 [==============================] - 44s 228ms/step - loss: 2.5744 - accuracy: 0.5035\n",
      "Epoch 63/200\n",
      "195/195 [==============================] - ETA: 0s - loss: 2.5092 - accuracy: 0.5205\n",
      "Epoch 63: saving model to checkpoints/lstm_bi\\checkpoint_63\n",
      "195/195 [==============================] - 46s 235ms/step - loss: 2.5092 - accuracy: 0.5205\n",
      "Epoch 64/200\n",
      "195/195 [==============================] - ETA: 0s - loss: 2.5091 - accuracy: 0.5153\n",
      "Epoch 64: saving model to checkpoints/lstm_bi\\checkpoint_64\n",
      "195/195 [==============================] - 46s 237ms/step - loss: 2.5091 - accuracy: 0.5153\n",
      "Epoch 65/200\n",
      "195/195 [==============================] - ETA: 0s - loss: 2.6024 - accuracy: 0.4896\n",
      "Epoch 65: saving model to checkpoints/lstm_bi\\checkpoint_65\n",
      "195/195 [==============================] - 46s 235ms/step - loss: 2.6024 - accuracy: 0.4896\n",
      "Epoch 66/200\n",
      "195/195 [==============================] - ETA: 0s - loss: 2.5008 - accuracy: 0.5185\n",
      "Epoch 66: saving model to checkpoints/lstm_bi\\checkpoint_66\n",
      "195/195 [==============================] - 45s 232ms/step - loss: 2.5008 - accuracy: 0.5185\n"
     ]
    },
    {
     "name": "stdout",
     "output_type": "stream",
     "text": [
      "Epoch 67/200\n",
      "195/195 [==============================] - ETA: 0s - loss: 2.3812 - accuracy: 0.5601\n",
      "Epoch 67: saving model to checkpoints/lstm_bi\\checkpoint_67\n",
      "195/195 [==============================] - 44s 227ms/step - loss: 2.3812 - accuracy: 0.5601\n",
      "Epoch 68/200\n",
      "195/195 [==============================] - ETA: 0s - loss: 2.3104 - accuracy: 0.5789\n",
      "Epoch 68: saving model to checkpoints/lstm_bi\\checkpoint_68\n",
      "195/195 [==============================] - 45s 232ms/step - loss: 2.3104 - accuracy: 0.5789\n",
      "Epoch 69/200\n",
      "195/195 [==============================] - ETA: 0s - loss: 2.2455 - accuracy: 0.5919\n",
      "Epoch 69: saving model to checkpoints/lstm_bi\\checkpoint_69\n",
      "195/195 [==============================] - 45s 233ms/step - loss: 2.2455 - accuracy: 0.5919\n",
      "Epoch 70/200\n",
      "195/195 [==============================] - ETA: 0s - loss: 2.1904 - accuracy: 0.6052\n",
      "Epoch 70: saving model to checkpoints/lstm_bi\\checkpoint_70\n",
      "195/195 [==============================] - 47s 243ms/step - loss: 2.1904 - accuracy: 0.6052\n",
      "Epoch 71/200\n",
      "195/195 [==============================] - ETA: 0s - loss: 2.1440 - accuracy: 0.6187\n",
      "Epoch 71: saving model to checkpoints/lstm_bi\\checkpoint_71\n",
      "195/195 [==============================] - 46s 238ms/step - loss: 2.1440 - accuracy: 0.6187\n",
      "Epoch 72/200\n",
      "195/195 [==============================] - ETA: 0s - loss: 2.1086 - accuracy: 0.6291\n",
      "Epoch 72: saving model to checkpoints/lstm_bi\\checkpoint_72\n",
      "195/195 [==============================] - 44s 228ms/step - loss: 2.1086 - accuracy: 0.6291\n",
      "Epoch 73/200\n",
      "195/195 [==============================] - ETA: 0s - loss: 2.0579 - accuracy: 0.6440\n",
      "Epoch 73: saving model to checkpoints/lstm_bi\\checkpoint_73\n",
      "195/195 [==============================] - 45s 233ms/step - loss: 2.0579 - accuracy: 0.6440\n",
      "Epoch 74/200\n",
      "195/195 [==============================] - ETA: 0s - loss: 2.0345 - accuracy: 0.6447\n",
      "Epoch 74: saving model to checkpoints/lstm_bi\\checkpoint_74\n",
      "195/195 [==============================] - 45s 229ms/step - loss: 2.0345 - accuracy: 0.6447\n",
      "Epoch 75/200\n",
      "195/195 [==============================] - ETA: 0s - loss: 1.9852 - accuracy: 0.6598\n",
      "Epoch 75: saving model to checkpoints/lstm_bi\\checkpoint_75\n",
      "195/195 [==============================] - 44s 228ms/step - loss: 1.9852 - accuracy: 0.6598\n",
      "Epoch 76/200\n",
      "195/195 [==============================] - ETA: 0s - loss: 1.9737 - accuracy: 0.6558\n",
      "Epoch 76: saving model to checkpoints/lstm_bi\\checkpoint_76\n",
      "195/195 [==============================] - 44s 227ms/step - loss: 1.9737 - accuracy: 0.6558\n",
      "Epoch 77/200\n",
      "195/195 [==============================] - ETA: 0s - loss: 1.9436 - accuracy: 0.6659\n",
      "Epoch 77: saving model to checkpoints/lstm_bi\\checkpoint_77\n",
      "195/195 [==============================] - 44s 228ms/step - loss: 1.9436 - accuracy: 0.6659\n",
      "Epoch 78/200\n",
      "195/195 [==============================] - ETA: 0s - loss: 1.8823 - accuracy: 0.6837\n",
      "Epoch 78: saving model to checkpoints/lstm_bi\\checkpoint_78\n",
      "195/195 [==============================] - 45s 229ms/step - loss: 1.8823 - accuracy: 0.6837\n",
      "Epoch 79/200\n",
      "195/195 [==============================] - ETA: 0s - loss: 1.8548 - accuracy: 0.6869\n",
      "Epoch 79: saving model to checkpoints/lstm_bi\\checkpoint_79\n",
      "195/195 [==============================] - 44s 227ms/step - loss: 1.8548 - accuracy: 0.6869\n",
      "Epoch 80/200\n",
      "195/195 [==============================] - ETA: 0s - loss: 1.8079 - accuracy: 0.7058\n",
      "Epoch 80: saving model to checkpoints/lstm_bi\\checkpoint_80\n",
      "195/195 [==============================] - 45s 230ms/step - loss: 1.8079 - accuracy: 0.7058\n",
      "Epoch 81/200\n",
      "195/195 [==============================] - ETA: 0s - loss: 1.8241 - accuracy: 0.6970\n",
      "Epoch 81: saving model to checkpoints/lstm_bi\\checkpoint_81\n",
      "195/195 [==============================] - 45s 229ms/step - loss: 1.8241 - accuracy: 0.6970\n",
      "Epoch 82/200\n",
      "195/195 [==============================] - ETA: 0s - loss: 1.7647 - accuracy: 0.7063\n",
      "Epoch 82: saving model to checkpoints/lstm_bi\\checkpoint_82\n",
      "195/195 [==============================] - 45s 230ms/step - loss: 1.7647 - accuracy: 0.7063\n",
      "Epoch 83/200\n",
      "195/195 [==============================] - ETA: 0s - loss: 1.7112 - accuracy: 0.7275\n",
      "Epoch 83: saving model to checkpoints/lstm_bi\\checkpoint_83\n",
      "195/195 [==============================] - 45s 233ms/step - loss: 1.7112 - accuracy: 0.7275\n",
      "Epoch 84/200\n",
      "195/195 [==============================] - ETA: 0s - loss: 1.6796 - accuracy: 0.7336\n",
      "Epoch 84: saving model to checkpoints/lstm_bi\\checkpoint_84\n",
      "195/195 [==============================] - 46s 238ms/step - loss: 1.6796 - accuracy: 0.7336\n",
      "Epoch 85/200\n",
      "195/195 [==============================] - ETA: 0s - loss: 1.6628 - accuracy: 0.7407\n",
      "Epoch 85: saving model to checkpoints/lstm_bi\\checkpoint_85\n",
      "195/195 [==============================] - 44s 226ms/step - loss: 1.6628 - accuracy: 0.7407\n",
      "Epoch 86/200\n",
      "195/195 [==============================] - ETA: 0s - loss: 1.6373 - accuracy: 0.7459\n",
      "Epoch 86: saving model to checkpoints/lstm_bi\\checkpoint_86\n",
      "195/195 [==============================] - 46s 234ms/step - loss: 1.6373 - accuracy: 0.7459\n",
      "Epoch 87/200\n",
      "195/195 [==============================] - ETA: 0s - loss: 1.6125 - accuracy: 0.7506\n",
      "Epoch 87: saving model to checkpoints/lstm_bi\\checkpoint_87\n",
      "195/195 [==============================] - 45s 233ms/step - loss: 1.6125 - accuracy: 0.7506\n",
      "Epoch 88/200\n",
      "195/195 [==============================] - ETA: 0s - loss: 1.5789 - accuracy: 0.7553\n",
      "Epoch 88: saving model to checkpoints/lstm_bi\\checkpoint_88\n",
      "195/195 [==============================] - 45s 229ms/step - loss: 1.5789 - accuracy: 0.7553\n",
      "Epoch 89/200\n",
      "195/195 [==============================] - ETA: 0s - loss: 1.5757 - accuracy: 0.7543\n",
      "Epoch 89: saving model to checkpoints/lstm_bi\\checkpoint_89\n",
      "195/195 [==============================] - 45s 232ms/step - loss: 1.5757 - accuracy: 0.7543\n",
      "Epoch 90/200\n",
      "195/195 [==============================] - ETA: 0s - loss: 1.5340 - accuracy: 0.7625\n",
      "Epoch 90: saving model to checkpoints/lstm_bi\\checkpoint_90\n",
      "195/195 [==============================] - 45s 233ms/step - loss: 1.5340 - accuracy: 0.7625\n",
      "Epoch 91/200\n",
      "195/195 [==============================] - ETA: 0s - loss: 1.5004 - accuracy: 0.7716\n",
      "Epoch 91: saving model to checkpoints/lstm_bi\\checkpoint_91\n",
      "195/195 [==============================] - 45s 232ms/step - loss: 1.5004 - accuracy: 0.7716\n",
      "Epoch 92/200\n",
      "195/195 [==============================] - ETA: 0s - loss: 1.4763 - accuracy: 0.7772\n",
      "Epoch 92: saving model to checkpoints/lstm_bi\\checkpoint_92\n",
      "195/195 [==============================] - 45s 230ms/step - loss: 1.4763 - accuracy: 0.7772\n",
      "Epoch 93/200\n",
      "195/195 [==============================] - ETA: 0s - loss: 1.4617 - accuracy: 0.7785\n",
      "Epoch 93: saving model to checkpoints/lstm_bi\\checkpoint_93\n",
      "195/195 [==============================] - 46s 234ms/step - loss: 1.4617 - accuracy: 0.7785\n",
      "Epoch 94/200\n",
      "195/195 [==============================] - ETA: 0s - loss: 1.4625 - accuracy: 0.7784\n",
      "Epoch 94: saving model to checkpoints/lstm_bi\\checkpoint_94\n",
      "195/195 [==============================] - 46s 234ms/step - loss: 1.4625 - accuracy: 0.7784\n",
      "Epoch 95/200\n",
      "195/195 [==============================] - ETA: 0s - loss: 1.4087 - accuracy: 0.7946\n",
      "Epoch 95: saving model to checkpoints/lstm_bi\\checkpoint_95\n",
      "195/195 [==============================] - 44s 226ms/step - loss: 1.4087 - accuracy: 0.7946\n",
      "Epoch 96/200\n",
      "195/195 [==============================] - ETA: 0s - loss: 1.3692 - accuracy: 0.8021\n",
      "Epoch 96: saving model to checkpoints/lstm_bi\\checkpoint_96\n",
      "195/195 [==============================] - 45s 230ms/step - loss: 1.3692 - accuracy: 0.8021\n",
      "Epoch 97/200\n",
      "195/195 [==============================] - ETA: 0s - loss: 1.3492 - accuracy: 0.8029\n",
      "Epoch 97: saving model to checkpoints/lstm_bi\\checkpoint_97\n",
      "195/195 [==============================] - 46s 234ms/step - loss: 1.3492 - accuracy: 0.8029\n",
      "Epoch 98/200\n",
      "195/195 [==============================] - ETA: 0s - loss: 1.3334 - accuracy: 0.8044\n",
      "Epoch 98: saving model to checkpoints/lstm_bi\\checkpoint_98\n",
      "195/195 [==============================] - 44s 227ms/step - loss: 1.3334 - accuracy: 0.8044\n",
      "Epoch 99/200\n",
      "195/195 [==============================] - ETA: 0s - loss: 1.3191 - accuracy: 0.8117\n",
      "Epoch 99: saving model to checkpoints/lstm_bi\\checkpoint_99\n",
      "195/195 [==============================] - 44s 226ms/step - loss: 1.3191 - accuracy: 0.8117\n"
     ]
    },
    {
     "name": "stdout",
     "output_type": "stream",
     "text": [
      "Epoch 100/200\n",
      "195/195 [==============================] - ETA: 0s - loss: 1.3163 - accuracy: 0.8103\n",
      "Epoch 100: saving model to checkpoints/lstm_bi\\checkpoint_100\n",
      "195/195 [==============================] - 44s 228ms/step - loss: 1.3163 - accuracy: 0.8103\n",
      "Epoch 101/200\n",
      "195/195 [==============================] - ETA: 0s - loss: 1.2730 - accuracy: 0.8145\n",
      "Epoch 101: saving model to checkpoints/lstm_bi\\checkpoint_101\n",
      "195/195 [==============================] - 46s 234ms/step - loss: 1.2730 - accuracy: 0.8145\n",
      "Epoch 102/200\n",
      "195/195 [==============================] - ETA: 0s - loss: 1.2316 - accuracy: 0.8288\n",
      "Epoch 102: saving model to checkpoints/lstm_bi\\checkpoint_102\n",
      "195/195 [==============================] - 48s 246ms/step - loss: 1.2316 - accuracy: 0.8288\n",
      "Epoch 103/200\n",
      "195/195 [==============================] - ETA: 0s - loss: 1.2102 - accuracy: 0.8331\n",
      "Epoch 103: saving model to checkpoints/lstm_bi\\checkpoint_103\n",
      "195/195 [==============================] - 45s 233ms/step - loss: 1.2102 - accuracy: 0.8331\n",
      "Epoch 104/200\n",
      "195/195 [==============================] - ETA: 0s - loss: 1.2132 - accuracy: 0.8333\n",
      "Epoch 104: saving model to checkpoints/lstm_bi\\checkpoint_104\n",
      "195/195 [==============================] - 47s 241ms/step - loss: 1.2132 - accuracy: 0.8333\n",
      "Epoch 105/200\n",
      "195/195 [==============================] - ETA: 0s - loss: 1.2010 - accuracy: 0.8345\n",
      "Epoch 105: saving model to checkpoints/lstm_bi\\checkpoint_105\n",
      "195/195 [==============================] - 44s 228ms/step - loss: 1.2010 - accuracy: 0.8345\n",
      "Epoch 106/200\n",
      "195/195 [==============================] - ETA: 0s - loss: 1.1745 - accuracy: 0.8355\n",
      "Epoch 106: saving model to checkpoints/lstm_bi\\checkpoint_106\n",
      "195/195 [==============================] - 46s 238ms/step - loss: 1.1745 - accuracy: 0.8355\n",
      "Epoch 107/200\n",
      "195/195 [==============================] - ETA: 0s - loss: 1.1632 - accuracy: 0.8357\n",
      "Epoch 107: saving model to checkpoints/lstm_bi\\checkpoint_107\n",
      "195/195 [==============================] - 46s 237ms/step - loss: 1.1632 - accuracy: 0.8357\n",
      "Epoch 108/200\n",
      "195/195 [==============================] - ETA: 0s - loss: 1.1381 - accuracy: 0.8458\n",
      "Epoch 108: saving model to checkpoints/lstm_bi\\checkpoint_108\n",
      "195/195 [==============================] - 47s 240ms/step - loss: 1.1381 - accuracy: 0.8458\n",
      "Epoch 109/200\n",
      "195/195 [==============================] - ETA: 0s - loss: 1.1163 - accuracy: 0.8507\n",
      "Epoch 109: saving model to checkpoints/lstm_bi\\checkpoint_109\n",
      "195/195 [==============================] - 46s 238ms/step - loss: 1.1163 - accuracy: 0.8507\n",
      "Epoch 110/200\n",
      "195/195 [==============================] - ETA: 0s - loss: 1.1019 - accuracy: 0.8528\n",
      "Epoch 110: saving model to checkpoints/lstm_bi\\checkpoint_110\n",
      "195/195 [==============================] - 48s 245ms/step - loss: 1.1019 - accuracy: 0.8528\n",
      "Epoch 111/200\n",
      "195/195 [==============================] - ETA: 0s - loss: 1.0864 - accuracy: 0.8578\n",
      "Epoch 111: saving model to checkpoints/lstm_bi\\checkpoint_111\n",
      "195/195 [==============================] - 47s 243ms/step - loss: 1.0864 - accuracy: 0.8578\n",
      "Epoch 112/200\n",
      "195/195 [==============================] - ETA: 0s - loss: 1.0707 - accuracy: 0.8584\n",
      "Epoch 112: saving model to checkpoints/lstm_bi\\checkpoint_112\n",
      "195/195 [==============================] - 50s 258ms/step - loss: 1.0707 - accuracy: 0.8584\n",
      "Epoch 113/200\n",
      "195/195 [==============================] - ETA: 0s - loss: 1.0540 - accuracy: 0.8594\n",
      "Epoch 113: saving model to checkpoints/lstm_bi\\checkpoint_113\n",
      "195/195 [==============================] - 49s 252ms/step - loss: 1.0540 - accuracy: 0.8594\n",
      "Epoch 114/200\n",
      "195/195 [==============================] - ETA: 0s - loss: 1.0397 - accuracy: 0.8625\n",
      "Epoch 114: saving model to checkpoints/lstm_bi\\checkpoint_114\n",
      "195/195 [==============================] - 48s 244ms/step - loss: 1.0397 - accuracy: 0.8625\n",
      "Epoch 115/200\n",
      "195/195 [==============================] - ETA: 0s - loss: 1.0441 - accuracy: 0.8628\n",
      "Epoch 115: saving model to checkpoints/lstm_bi\\checkpoint_115\n",
      "195/195 [==============================] - 49s 251ms/step - loss: 1.0441 - accuracy: 0.8628\n",
      "Epoch 116/200\n",
      "195/195 [==============================] - ETA: 0s - loss: 1.0273 - accuracy: 0.8658\n",
      "Epoch 116: saving model to checkpoints/lstm_bi\\checkpoint_116\n",
      "195/195 [==============================] - 49s 252ms/step - loss: 1.0273 - accuracy: 0.8658\n",
      "Epoch 117/200\n",
      "195/195 [==============================] - ETA: 0s - loss: 0.9940 - accuracy: 0.8708\n",
      "Epoch 117: saving model to checkpoints/lstm_bi\\checkpoint_117\n",
      "195/195 [==============================] - 48s 246ms/step - loss: 0.9940 - accuracy: 0.8708\n",
      "Epoch 118/200\n",
      "195/195 [==============================] - ETA: 0s - loss: 0.9796 - accuracy: 0.8798\n",
      "Epoch 118: saving model to checkpoints/lstm_bi\\checkpoint_118\n",
      "195/195 [==============================] - 48s 246ms/step - loss: 0.9796 - accuracy: 0.8798\n",
      "Epoch 119/200\n",
      "195/195 [==============================] - ETA: 0s - loss: 0.9794 - accuracy: 0.8718\n",
      "Epoch 119: saving model to checkpoints/lstm_bi\\checkpoint_119\n",
      "195/195 [==============================] - 48s 244ms/step - loss: 0.9794 - accuracy: 0.8718\n",
      "Epoch 120/200\n",
      "195/195 [==============================] - ETA: 0s - loss: 0.9727 - accuracy: 0.8745\n",
      "Epoch 120: saving model to checkpoints/lstm_bi\\checkpoint_120\n",
      "195/195 [==============================] - 49s 253ms/step - loss: 0.9727 - accuracy: 0.8745\n",
      "Epoch 121/200\n",
      "195/195 [==============================] - ETA: 0s - loss: 0.9536 - accuracy: 0.8758\n",
      "Epoch 121: saving model to checkpoints/lstm_bi\\checkpoint_121\n",
      "195/195 [==============================] - 53s 273ms/step - loss: 0.9536 - accuracy: 0.8758\n",
      "Epoch 122/200\n",
      "195/195 [==============================] - ETA: 0s - loss: 0.9432 - accuracy: 0.8750\n",
      "Epoch 122: saving model to checkpoints/lstm_bi\\checkpoint_122\n",
      "195/195 [==============================] - 52s 265ms/step - loss: 0.9432 - accuracy: 0.8750\n",
      "Epoch 123/200\n",
      "195/195 [==============================] - ETA: 0s - loss: 0.9270 - accuracy: 0.8804\n",
      "Epoch 123: saving model to checkpoints/lstm_bi\\checkpoint_123\n",
      "195/195 [==============================] - 50s 255ms/step - loss: 0.9270 - accuracy: 0.8804\n",
      "Epoch 124/200\n",
      "195/195 [==============================] - ETA: 0s - loss: 0.9481 - accuracy: 0.8727\n",
      "Epoch 124: saving model to checkpoints/lstm_bi\\checkpoint_124\n",
      "195/195 [==============================] - 49s 249ms/step - loss: 0.9481 - accuracy: 0.8727\n",
      "Epoch 125/200\n",
      "195/195 [==============================] - ETA: 0s - loss: 0.9413 - accuracy: 0.8755\n",
      "Epoch 125: saving model to checkpoints/lstm_bi\\checkpoint_125\n",
      "195/195 [==============================] - 46s 238ms/step - loss: 0.9413 - accuracy: 0.8755\n",
      "Epoch 126/200\n",
      "195/195 [==============================] - ETA: 0s - loss: 0.9026 - accuracy: 0.8843\n",
      "Epoch 126: saving model to checkpoints/lstm_bi\\checkpoint_126\n",
      "195/195 [==============================] - 47s 241ms/step - loss: 0.9026 - accuracy: 0.8843\n",
      "Epoch 127/200\n",
      "195/195 [==============================] - ETA: 0s - loss: 0.8684 - accuracy: 0.8941\n",
      "Epoch 127: saving model to checkpoints/lstm_bi\\checkpoint_127\n",
      "195/195 [==============================] - 47s 243ms/step - loss: 0.8684 - accuracy: 0.8941\n",
      "Epoch 128/200\n",
      "195/195 [==============================] - ETA: 0s - loss: 0.8563 - accuracy: 0.8952\n",
      "Epoch 128: saving model to checkpoints/lstm_bi\\checkpoint_128\n",
      "195/195 [==============================] - 48s 245ms/step - loss: 0.8563 - accuracy: 0.8952\n",
      "Epoch 129/200\n",
      "195/195 [==============================] - ETA: 0s - loss: 0.8504 - accuracy: 0.8950\n",
      "Epoch 129: saving model to checkpoints/lstm_bi\\checkpoint_129\n",
      "195/195 [==============================] - 50s 259ms/step - loss: 0.8504 - accuracy: 0.8950\n",
      "Epoch 130/200\n",
      "195/195 [==============================] - ETA: 0s - loss: 0.8477 - accuracy: 0.8965\n",
      "Epoch 130: saving model to checkpoints/lstm_bi\\checkpoint_130\n",
      "195/195 [==============================] - 52s 264ms/step - loss: 0.8477 - accuracy: 0.8965\n",
      "Epoch 131/200\n",
      "195/195 [==============================] - ETA: 0s - loss: 0.8634 - accuracy: 0.8910\n",
      "Epoch 131: saving model to checkpoints/lstm_bi\\checkpoint_131\n",
      "195/195 [==============================] - 50s 257ms/step - loss: 0.8634 - accuracy: 0.8910\n",
      "Epoch 132/200\n",
      "195/195 [==============================] - ETA: 0s - loss: 0.8778 - accuracy: 0.8888\n",
      "Epoch 132: saving model to checkpoints/lstm_bi\\checkpoint_132\n",
      "195/195 [==============================] - 48s 245ms/step - loss: 0.8778 - accuracy: 0.8888\n",
      "Epoch 133/200\n",
      "195/195 [==============================] - ETA: 0s - loss: 0.8529 - accuracy: 0.8915\n",
      "Epoch 133: saving model to checkpoints/lstm_bi\\checkpoint_133\n",
      "195/195 [==============================] - 49s 249ms/step - loss: 0.8529 - accuracy: 0.8915\n",
      "Epoch 134/200\n",
      "195/195 [==============================] - ETA: 0s - loss: 0.8031 - accuracy: 0.9068\n",
      "Epoch 134: saving model to checkpoints/lstm_bi\\checkpoint_134\n",
      "195/195 [==============================] - 48s 248ms/step - loss: 0.8031 - accuracy: 0.9068\n",
      "Epoch 135/200\n",
      "195/195 [==============================] - ETA: 0s - loss: 0.7843 - accuracy: 0.9084\n",
      "Epoch 135: saving model to checkpoints/lstm_bi\\checkpoint_135\n",
      "195/195 [==============================] - 50s 255ms/step - loss: 0.7843 - accuracy: 0.9084\n",
      "Epoch 136/200\n",
      "195/195 [==============================] - ETA: 0s - loss: 0.7753 - accuracy: 0.9047\n",
      "Epoch 136: saving model to checkpoints/lstm_bi\\checkpoint_136\n",
      "195/195 [==============================] - 49s 251ms/step - loss: 0.7753 - accuracy: 0.9047\n",
      "Epoch 137/200\n",
      "195/195 [==============================] - ETA: 0s - loss: 0.7754 - accuracy: 0.9079\n",
      "Epoch 137: saving model to checkpoints/lstm_bi\\checkpoint_137\n",
      "195/195 [==============================] - 49s 250ms/step - loss: 0.7754 - accuracy: 0.9079\n",
      "Epoch 138/200\n",
      "195/195 [==============================] - ETA: 0s - loss: 0.7628 - accuracy: 0.9093\n",
      "Epoch 138: saving model to checkpoints/lstm_bi\\checkpoint_138\n",
      "195/195 [==============================] - 50s 256ms/step - loss: 0.7628 - accuracy: 0.9093\n",
      "Epoch 139/200\n",
      "195/195 [==============================] - ETA: 0s - loss: 0.7635 - accuracy: 0.9060\n",
      "Epoch 139: saving model to checkpoints/lstm_bi\\checkpoint_139\n",
      "195/195 [==============================] - 51s 261ms/step - loss: 0.7635 - accuracy: 0.9060\n",
      "Epoch 140/200\n",
      "195/195 [==============================] - ETA: 0s - loss: 0.7372 - accuracy: 0.9133\n",
      "Epoch 140: saving model to checkpoints/lstm_bi\\checkpoint_140\n",
      "195/195 [==============================] - 49s 250ms/step - loss: 0.7372 - accuracy: 0.9133\n",
      "Epoch 141/200\n",
      "195/195 [==============================] - ETA: 0s - loss: 0.7610 - accuracy: 0.9076\n",
      "Epoch 141: saving model to checkpoints/lstm_bi\\checkpoint_141\n",
      "195/195 [==============================] - 48s 248ms/step - loss: 0.7610 - accuracy: 0.9076\n",
      "Epoch 142/200\n",
      "195/195 [==============================] - ETA: 0s - loss: 0.7420 - accuracy: 0.9100\n",
      "Epoch 142: saving model to checkpoints/lstm_bi\\checkpoint_142\n",
      "195/195 [==============================] - 48s 247ms/step - loss: 0.7420 - accuracy: 0.9100\n",
      "Epoch 143/200\n",
      "195/195 [==============================] - ETA: 0s - loss: 0.7136 - accuracy: 0.9186\n",
      "Epoch 143: saving model to checkpoints/lstm_bi\\checkpoint_143\n",
      "195/195 [==============================] - 49s 250ms/step - loss: 0.7136 - accuracy: 0.9186\n",
      "Epoch 144/200\n",
      "195/195 [==============================] - ETA: 0s - loss: 0.7058 - accuracy: 0.9151\n",
      "Epoch 144: saving model to checkpoints/lstm_bi\\checkpoint_144\n",
      "195/195 [==============================] - 50s 256ms/step - loss: 0.7058 - accuracy: 0.9151\n",
      "Epoch 145/200\n",
      "195/195 [==============================] - ETA: 0s - loss: 0.7087 - accuracy: 0.9185\n",
      "Epoch 145: saving model to checkpoints/lstm_bi\\checkpoint_145\n",
      "195/195 [==============================] - 49s 252ms/step - loss: 0.7087 - accuracy: 0.9185\n",
      "Epoch 146/200\n",
      "195/195 [==============================] - ETA: 0s - loss: 0.6960 - accuracy: 0.9193\n",
      "Epoch 146: saving model to checkpoints/lstm_bi\\checkpoint_146\n",
      "195/195 [==============================] - 52s 268ms/step - loss: 0.6960 - accuracy: 0.9193\n",
      "Epoch 147/200\n",
      "195/195 [==============================] - ETA: 0s - loss: 0.6846 - accuracy: 0.9206\n",
      "Epoch 147: saving model to checkpoints/lstm_bi\\checkpoint_147\n",
      "195/195 [==============================] - 52s 265ms/step - loss: 0.6846 - accuracy: 0.9206\n",
      "Epoch 148/200\n",
      "195/195 [==============================] - ETA: 0s - loss: 0.6943 - accuracy: 0.9170\n",
      "Epoch 148: saving model to checkpoints/lstm_bi\\checkpoint_148\n",
      "195/195 [==============================] - 51s 261ms/step - loss: 0.6943 - accuracy: 0.9170\n",
      "Epoch 149/200\n",
      "195/195 [==============================] - ETA: 0s - loss: 0.6960 - accuracy: 0.9154\n",
      "Epoch 149: saving model to checkpoints/lstm_bi\\checkpoint_149\n",
      "195/195 [==============================] - 49s 249ms/step - loss: 0.6960 - accuracy: 0.9154\n",
      "Epoch 150/200\n",
      "195/195 [==============================] - ETA: 0s - loss: 0.6798 - accuracy: 0.9193\n",
      "Epoch 150: saving model to checkpoints/lstm_bi\\checkpoint_150\n",
      "195/195 [==============================] - 52s 266ms/step - loss: 0.6798 - accuracy: 0.9193\n",
      "Epoch 151/200\n",
      "195/195 [==============================] - ETA: 0s - loss: 0.6697 - accuracy: 0.9233\n",
      "Epoch 151: saving model to checkpoints/lstm_bi\\checkpoint_151\n",
      "195/195 [==============================] - 51s 263ms/step - loss: 0.6697 - accuracy: 0.9233\n",
      "Epoch 152/200\n",
      "195/195 [==============================] - ETA: 0s - loss: 0.7768 - accuracy: 0.8942\n",
      "Epoch 152: saving model to checkpoints/lstm_bi\\checkpoint_152\n",
      "195/195 [==============================] - 50s 256ms/step - loss: 0.7768 - accuracy: 0.8942\n",
      "Epoch 153/200\n",
      "195/195 [==============================] - ETA: 0s - loss: 0.7101 - accuracy: 0.9121\n",
      "Epoch 153: saving model to checkpoints/lstm_bi\\checkpoint_153\n",
      "195/195 [==============================] - 50s 256ms/step - loss: 0.7101 - accuracy: 0.9121\n",
      "Epoch 154/200\n",
      "195/195 [==============================] - ETA: 0s - loss: 0.6551 - accuracy: 0.9228\n",
      "Epoch 154: saving model to checkpoints/lstm_bi\\checkpoint_154\n",
      "195/195 [==============================] - 52s 265ms/step - loss: 0.6551 - accuracy: 0.9228\n",
      "Epoch 155/200\n",
      "195/195 [==============================] - ETA: 0s - loss: 0.6440 - accuracy: 0.9279\n",
      "Epoch 155: saving model to checkpoints/lstm_bi\\checkpoint_155\n",
      "195/195 [==============================] - 49s 249ms/step - loss: 0.6440 - accuracy: 0.9279\n",
      "Epoch 156/200\n",
      "195/195 [==============================] - ETA: 0s - loss: 0.6203 - accuracy: 0.9323\n",
      "Epoch 156: saving model to checkpoints/lstm_bi\\checkpoint_156\n",
      "195/195 [==============================] - 50s 255ms/step - loss: 0.6203 - accuracy: 0.9323\n",
      "Epoch 157/200\n",
      "195/195 [==============================] - ETA: 0s - loss: 0.6108 - accuracy: 0.9328\n",
      "Epoch 157: saving model to checkpoints/lstm_bi\\checkpoint_157\n",
      "195/195 [==============================] - 48s 248ms/step - loss: 0.6108 - accuracy: 0.9328\n",
      "Epoch 158/200\n",
      "195/195 [==============================] - ETA: 0s - loss: 0.6068 - accuracy: 0.9303\n",
      "Epoch 158: saving model to checkpoints/lstm_bi\\checkpoint_158\n",
      "195/195 [==============================] - 51s 262ms/step - loss: 0.6068 - accuracy: 0.9303\n",
      "Epoch 159/200\n",
      "195/195 [==============================] - ETA: 0s - loss: 0.5985 - accuracy: 0.9302\n",
      "Epoch 159: saving model to checkpoints/lstm_bi\\checkpoint_159\n",
      "195/195 [==============================] - 50s 259ms/step - loss: 0.5985 - accuracy: 0.9302\n",
      "Epoch 160/200\n",
      "195/195 [==============================] - ETA: 0s - loss: 0.6077 - accuracy: 0.9273\n",
      "Epoch 160: saving model to checkpoints/lstm_bi\\checkpoint_160\n",
      "195/195 [==============================] - 49s 252ms/step - loss: 0.6077 - accuracy: 0.9273\n",
      "Epoch 161/200\n",
      "195/195 [==============================] - ETA: 0s - loss: 0.6075 - accuracy: 0.9276\n",
      "Epoch 161: saving model to checkpoints/lstm_bi\\checkpoint_161\n",
      "195/195 [==============================] - 50s 256ms/step - loss: 0.6075 - accuracy: 0.9276\n",
      "Epoch 162/200\n",
      "195/195 [==============================] - ETA: 0s - loss: 0.6134 - accuracy: 0.9271\n",
      "Epoch 162: saving model to checkpoints/lstm_bi\\checkpoint_162\n",
      "195/195 [==============================] - 48s 245ms/step - loss: 0.6134 - accuracy: 0.9271\n",
      "Epoch 163/200\n",
      "195/195 [==============================] - ETA: 0s - loss: 0.6087 - accuracy: 0.9278\n",
      "Epoch 163: saving model to checkpoints/lstm_bi\\checkpoint_163\n",
      "195/195 [==============================] - 48s 245ms/step - loss: 0.6087 - accuracy: 0.9278\n",
      "Epoch 164/200\n",
      "195/195 [==============================] - ETA: 0s - loss: 0.5947 - accuracy: 0.9279\n",
      "Epoch 164: saving model to checkpoints/lstm_bi\\checkpoint_164\n"
     ]
    },
    {
     "name": "stdout",
     "output_type": "stream",
     "text": [
      "195/195 [==============================] - 50s 257ms/step - loss: 0.5947 - accuracy: 0.9279\n",
      "Epoch 165/200\n",
      "195/195 [==============================] - ETA: 0s - loss: 0.6022 - accuracy: 0.9286\n",
      "Epoch 165: saving model to checkpoints/lstm_bi\\checkpoint_165\n",
      "195/195 [==============================] - 50s 256ms/step - loss: 0.6022 - accuracy: 0.9286\n",
      "Epoch 166/200\n",
      "195/195 [==============================] - ETA: 0s - loss: 0.5906 - accuracy: 0.9305\n",
      "Epoch 166: saving model to checkpoints/lstm_bi\\checkpoint_166\n",
      "195/195 [==============================] - 51s 261ms/step - loss: 0.5906 - accuracy: 0.9305\n",
      "Epoch 167/200\n",
      "195/195 [==============================] - ETA: 0s - loss: 0.5809 - accuracy: 0.9315\n",
      "Epoch 167: saving model to checkpoints/lstm_bi\\checkpoint_167\n",
      "195/195 [==============================] - 52s 266ms/step - loss: 0.5809 - accuracy: 0.9315\n",
      "Epoch 168/200\n",
      "195/195 [==============================] - ETA: 0s - loss: 0.5765 - accuracy: 0.9303\n",
      "Epoch 168: saving model to checkpoints/lstm_bi\\checkpoint_168\n",
      "195/195 [==============================] - 52s 266ms/step - loss: 0.5765 - accuracy: 0.9303\n",
      "Epoch 169/200\n",
      "195/195 [==============================] - ETA: 0s - loss: 0.5705 - accuracy: 0.9318\n",
      "Epoch 169: saving model to checkpoints/lstm_bi\\checkpoint_169\n",
      "195/195 [==============================] - 53s 271ms/step - loss: 0.5705 - accuracy: 0.9318\n",
      "Epoch 170/200\n",
      "195/195 [==============================] - ETA: 0s - loss: 0.5631 - accuracy: 0.9353\n",
      "Epoch 170: saving model to checkpoints/lstm_bi\\checkpoint_170\n",
      "195/195 [==============================] - 53s 270ms/step - loss: 0.5631 - accuracy: 0.9353\n",
      "Epoch 171/200\n",
      "195/195 [==============================] - ETA: 0s - loss: 0.5760 - accuracy: 0.9315\n",
      "Epoch 171: saving model to checkpoints/lstm_bi\\checkpoint_171\n",
      "195/195 [==============================] - 51s 263ms/step - loss: 0.5760 - accuracy: 0.9315\n",
      "Epoch 172/200\n",
      "195/195 [==============================] - ETA: 0s - loss: 0.5564 - accuracy: 0.9352\n",
      "Epoch 172: saving model to checkpoints/lstm_bi\\checkpoint_172\n",
      "195/195 [==============================] - 50s 257ms/step - loss: 0.5564 - accuracy: 0.9352\n",
      "Epoch 173/200\n",
      "195/195 [==============================] - ETA: 0s - loss: 0.5508 - accuracy: 0.9348\n",
      "Epoch 173: saving model to checkpoints/lstm_bi\\checkpoint_173\n",
      "195/195 [==============================] - 50s 256ms/step - loss: 0.5508 - accuracy: 0.9348\n",
      "Epoch 174/200\n",
      "195/195 [==============================] - ETA: 0s - loss: 0.5396 - accuracy: 0.9334\n",
      "Epoch 174: saving model to checkpoints/lstm_bi\\checkpoint_174\n",
      "195/195 [==============================] - 49s 253ms/step - loss: 0.5396 - accuracy: 0.9334\n",
      "Epoch 175/200\n",
      "195/195 [==============================] - ETA: 0s - loss: 0.5416 - accuracy: 0.9363\n",
      "Epoch 175: saving model to checkpoints/lstm_bi\\checkpoint_175\n",
      "195/195 [==============================] - 55s 280ms/step - loss: 0.5416 - accuracy: 0.9363\n",
      "Epoch 176/200\n",
      "195/195 [==============================] - ETA: 0s - loss: 0.5372 - accuracy: 0.9372\n",
      "Epoch 176: saving model to checkpoints/lstm_bi\\checkpoint_176\n",
      "195/195 [==============================] - 49s 253ms/step - loss: 0.5372 - accuracy: 0.9372\n",
      "Epoch 177/200\n",
      "195/195 [==============================] - ETA: 0s - loss: 0.5342 - accuracy: 0.9364\n",
      "Epoch 177: saving model to checkpoints/lstm_bi\\checkpoint_177\n",
      "195/195 [==============================] - 50s 256ms/step - loss: 0.5342 - accuracy: 0.9364\n",
      "Epoch 178/200\n",
      "195/195 [==============================] - ETA: 0s - loss: 0.5376 - accuracy: 0.9347\n",
      "Epoch 178: saving model to checkpoints/lstm_bi\\checkpoint_178\n",
      "195/195 [==============================] - 50s 259ms/step - loss: 0.5376 - accuracy: 0.9347\n",
      "Epoch 179/200\n",
      "195/195 [==============================] - ETA: 0s - loss: 0.5482 - accuracy: 0.9315\n",
      "Epoch 179: saving model to checkpoints/lstm_bi\\checkpoint_179\n",
      "195/195 [==============================] - 48s 248ms/step - loss: 0.5482 - accuracy: 0.9315\n",
      "Epoch 180/200\n",
      "195/195 [==============================] - ETA: 0s - loss: 0.5306 - accuracy: 0.9352\n",
      "Epoch 180: saving model to checkpoints/lstm_bi\\checkpoint_180\n",
      "195/195 [==============================] - 48s 248ms/step - loss: 0.5306 - accuracy: 0.9352\n",
      "Epoch 181/200\n",
      "195/195 [==============================] - ETA: 0s - loss: 0.5235 - accuracy: 0.9377\n",
      "Epoch 181: saving model to checkpoints/lstm_bi\\checkpoint_181\n",
      "195/195 [==============================] - 50s 257ms/step - loss: 0.5235 - accuracy: 0.9377\n",
      "Epoch 182/200\n",
      "195/195 [==============================] - ETA: 0s - loss: 0.5109 - accuracy: 0.9385\n",
      "Epoch 182: saving model to checkpoints/lstm_bi\\checkpoint_182\n",
      "195/195 [==============================] - 49s 251ms/step - loss: 0.5109 - accuracy: 0.9385\n",
      "Epoch 183/200\n",
      "195/195 [==============================] - ETA: 0s - loss: 0.5101 - accuracy: 0.9384\n",
      "Epoch 183: saving model to checkpoints/lstm_bi\\checkpoint_183\n",
      "195/195 [==============================] - 50s 256ms/step - loss: 0.5101 - accuracy: 0.9384\n",
      "Epoch 184/200\n",
      "195/195 [==============================] - ETA: 0s - loss: 0.5355 - accuracy: 0.9353\n",
      "Epoch 184: saving model to checkpoints/lstm_bi\\checkpoint_184\n",
      "195/195 [==============================] - 48s 248ms/step - loss: 0.5355 - accuracy: 0.9353\n",
      "Epoch 185/200\n",
      "195/195 [==============================] - ETA: 0s - loss: 0.5324 - accuracy: 0.9336\n",
      "Epoch 185: saving model to checkpoints/lstm_bi\\checkpoint_185\n",
      "195/195 [==============================] - 48s 244ms/step - loss: 0.5324 - accuracy: 0.9336\n",
      "Epoch 186/200\n",
      "195/195 [==============================] - ETA: 0s - loss: 0.5009 - accuracy: 0.9401\n",
      "Epoch 186: saving model to checkpoints/lstm_bi\\checkpoint_186\n",
      "195/195 [==============================] - 50s 256ms/step - loss: 0.5009 - accuracy: 0.9401\n",
      "Epoch 187/200\n",
      "195/195 [==============================] - ETA: 0s - loss: 0.4858 - accuracy: 0.9425\n",
      "Epoch 187: saving model to checkpoints/lstm_bi\\checkpoint_187\n",
      "195/195 [==============================] - 50s 255ms/step - loss: 0.4858 - accuracy: 0.9425\n",
      "Epoch 188/200\n",
      "195/195 [==============================] - ETA: 0s - loss: 0.4836 - accuracy: 0.9413\n",
      "Epoch 188: saving model to checkpoints/lstm_bi\\checkpoint_188\n",
      "195/195 [==============================] - 51s 262ms/step - loss: 0.4836 - accuracy: 0.9413\n",
      "Epoch 189/200\n",
      "195/195 [==============================] - ETA: 0s - loss: 0.4780 - accuracy: 0.9432\n",
      "Epoch 189: saving model to checkpoints/lstm_bi\\checkpoint_189\n",
      "195/195 [==============================] - 50s 255ms/step - loss: 0.4780 - accuracy: 0.9432\n",
      "Epoch 190/200\n",
      "195/195 [==============================] - ETA: 0s - loss: 0.4701 - accuracy: 0.9422\n",
      "Epoch 190: saving model to checkpoints/lstm_bi\\checkpoint_190\n",
      "195/195 [==============================] - 50s 256ms/step - loss: 0.4701 - accuracy: 0.9422\n",
      "Epoch 191/200\n",
      "195/195 [==============================] - ETA: 0s - loss: 0.4692 - accuracy: 0.9440\n",
      "Epoch 191: saving model to checkpoints/lstm_bi\\checkpoint_191\n",
      "195/195 [==============================] - 51s 262ms/step - loss: 0.4692 - accuracy: 0.9440\n",
      "Epoch 192/200\n",
      "195/195 [==============================] - ETA: 0s - loss: 0.4629 - accuracy: 0.9422\n",
      "Epoch 192: saving model to checkpoints/lstm_bi\\checkpoint_192\n",
      "195/195 [==============================] - 49s 252ms/step - loss: 0.4629 - accuracy: 0.9422\n",
      "Epoch 193/200\n",
      "195/195 [==============================] - ETA: 0s - loss: 0.4629 - accuracy: 0.9432\n",
      "Epoch 193: saving model to checkpoints/lstm_bi\\checkpoint_193\n",
      "195/195 [==============================] - 49s 249ms/step - loss: 0.4629 - accuracy: 0.9432\n",
      "Epoch 194/200\n",
      "195/195 [==============================] - ETA: 0s - loss: 0.4710 - accuracy: 0.9419\n",
      "Epoch 194: saving model to checkpoints/lstm_bi\\checkpoint_194\n",
      "195/195 [==============================] - 49s 250ms/step - loss: 0.4710 - accuracy: 0.9419\n",
      "Epoch 195/200\n",
      "195/195 [==============================] - ETA: 0s - loss: 0.5003 - accuracy: 0.9324\n",
      "Epoch 195: saving model to checkpoints/lstm_bi\\checkpoint_195\n",
      "195/195 [==============================] - 48s 246ms/step - loss: 0.5003 - accuracy: 0.9324\n",
      "Epoch 196/200\n",
      "195/195 [==============================] - ETA: 0s - loss: 0.4926 - accuracy: 0.9393\n",
      "Epoch 196: saving model to checkpoints/lstm_bi\\checkpoint_196\n",
      "195/195 [==============================] - 48s 244ms/step - loss: 0.4926 - accuracy: 0.9393\n",
      "Epoch 197/200\n"
     ]
    },
    {
     "name": "stdout",
     "output_type": "stream",
     "text": [
      "195/195 [==============================] - ETA: 0s - loss: 0.4804 - accuracy: 0.9390\n",
      "Epoch 197: saving model to checkpoints/lstm_bi\\checkpoint_197\n",
      "195/195 [==============================] - 48s 246ms/step - loss: 0.4804 - accuracy: 0.9390\n",
      "Epoch 198/200\n",
      "195/195 [==============================] - ETA: 0s - loss: 0.4674 - accuracy: 0.9430\n",
      "Epoch 198: saving model to checkpoints/lstm_bi\\checkpoint_198\n",
      "195/195 [==============================] - 47s 239ms/step - loss: 0.4674 - accuracy: 0.9430\n",
      "Epoch 199/200\n",
      "195/195 [==============================] - ETA: 0s - loss: 0.4685 - accuracy: 0.9393\n",
      "Epoch 199: saving model to checkpoints/lstm_bi\\checkpoint_199\n",
      "195/195 [==============================] - 48s 245ms/step - loss: 0.4685 - accuracy: 0.9393\n",
      "Epoch 200/200\n",
      "195/195 [==============================] - ETA: 0s - loss: 0.5662 - accuracy: 0.9186\n",
      "Epoch 200: saving model to checkpoints/lstm_bi\\checkpoint_200\n",
      "195/195 [==============================] - 47s 243ms/step - loss: 0.5662 - accuracy: 0.9186\n"
     ]
    }
   ],
   "source": [
    "history = model.fit(\n",
    "    features, \n",
    "    target, \n",
    "    epochs=200,\n",
    "    verbose=1,\n",
    "    callbacks=[checkpoint_callback]\n",
    ")"
   ]
  },
  {
   "cell_type": "markdown",
   "id": "327bfaec",
   "metadata": {},
   "source": [
    "Выведение на экран графика значений функции потерь и качества модели:"
   ]
  },
  {
   "cell_type": "code",
   "execution_count": 29,
   "id": "b7734038",
   "metadata": {},
   "outputs": [
    {
     "data": {
      "image/png": "[encoded data removed]",
      "text/plain": [
       "<Figure size 600x500 with 1 Axes>"
      ]
     },
     "metadata": {},
     "output_type": "display_data"
    }
   ],
   "source": [
    "chart.plot_loss_acc(history)"
   ]
  },
  {
   "cell_type": "markdown",
   "id": "053f4506",
   "metadata": {},
   "source": [
    "Сброс состояния модели:"
   ]
  },
  {
   "cell_type": "code",
   "execution_count": 30,
   "id": "e3d76cab",
   "metadata": {},
   "outputs": [],
   "source": [
    "model.reset_states()"
   ]
  },
  {
   "cell_type": "markdown",
   "id": "83c96013",
   "metadata": {},
   "source": [
    "---"
   ]
  },
  {
   "cell_type": "markdown",
   "id": "2d50a761",
   "metadata": {},
   "source": [
    "### 3.4 Генерация текста"
   ]
  },
  {
   "cell_type": "markdown",
   "id": "84d8dbd9",
   "metadata": {},
   "source": [
    "Задание функции предсказания следующего слова:"
   ]
  },
  {
   "cell_type": "code",
   "execution_count": null,
   "id": "7a85702b",
   "metadata": {},
   "outputs": [],
   "source": [
    "def predict_next_word(sample: str,\n",
    "                      model: models.Sequential,\n",
    "                      tokenizer: text.Tokenizer,\n",
    "                      n_words: int,\n",
    "                      max_len: int) -> str:\n",
    "    \n",
    "    generated = sample\n",
    "    \n",
    "    for _ in range(n_words):\n",
    "        token_list = tokenizer.texts_to_sequences([generated])[0]\n",
    "        token_list = sequence.pad_sequences([token_list], maxlen=max_len-1, padding='pre')\n",
    "        predicted = model.predict(token_list, verbose=0)\n",
    "        predicted = np.argmax(predicted)\n",
    "        \n",
    "        next_word = ''\n",
    "        \n",
    "        for word, index in tokenizer.word_index.items():\n",
    "            if index == predicted:\n",
    "                next_word = word\n",
    "                break\n",
    "                \n",
    "        generated += ' ' + next_word\n",
    "    \n",
    "    return generated"
   ]
  },
  {
   "cell_type": "markdown",
   "id": "ef8c68bc",
   "metadata": {},
   "source": [
    "---"
   ]
  },
  {
   "cell_type": "markdown",
   "id": "1c7268d9",
   "metadata": {},
   "source": [
    "Выведение на экран результата предсказаний:"
   ]
  },
  {
   "cell_type": "code",
   "execution_count": 31,
   "id": "a4a59e64",
   "metadata": {},
   "outputs": [
    {
     "data": {
      "text/plain": [
       "'гарри поттер и методы рационального мышления занимали первые места по популярности в мире среди всех фанфиков по гарри поттеру место варьировалось между первым и третьим в зависимости от метода подсчёта по числу отзывов или числу подписчиков станет печальное которые продемонстрировал поняли что существует они пять о вашей способности мыслить здраво именно тогда когда это больше всего необходимо обговорить все детали вашего поступления в хогвартс посмотрим прилетит ли сова чтобы забрать его жена миссис петуния эванс веррес а также их приёмный сын гарри джеймс поттер эванс веррес глазки постоянный длина и дарли гпимрм историю кого грянул постоянный курс не становилось бы невозможным перевод'"
      ]
     },
     "execution_count": 31,
     "metadata": {},
     "output_type": "execute_result"
    }
   ],
   "source": [
    "predict_next_word(\n",
    "    sample='гарри поттер',\n",
    "    model=model,\n",
    "    tokenizer=tokenizer,\n",
    "    n_words=100,\n",
    "    max_len=MAX_SEQ_LEN\n",
    ")"
   ]
  },
  {
   "cell_type": "markdown",
   "id": "d7c5512f",
   "metadata": {},
   "source": [
    "Выведение на экран результата предсказаний:"
   ]
  },
  {
   "cell_type": "code",
   "execution_count": 32,
   "id": "ed6f8bde",
   "metadata": {},
   "outputs": [
    {
     "data": {
      "text/plain": [
       "'однажды в зачарованном лесу моих биологических сутках двадцать шесть часов я каждый день ложусь спать на два часа позже чем человек в банке всё проблемы на том кого нельзя называть тёмном лорде волдеморте чем такой ещё при нарушении закона сохранения теряется унитарность получается распространение сигналов быстрее скорости света и кошки сложные человеческий разум просто не в состоянии представить себе всю кошачью анатомию и всю кошачью биохимию не говоря уже о неврологии есть чем лежит письмо момент себя рассказать одно правило последний судья это наблюдение происходит и лучше может быть правдой защиту от тёмных искусств творение в маленькую сном кто чистой ненависти и бьёт прямо'"
      ]
     },
     "execution_count": 32,
     "metadata": {},
     "output_type": "execute_result"
    }
   ],
   "source": [
    "predict_next_word(\n",
    "    sample='однажды в зачарованном лесу',\n",
    "    model=model,\n",
    "    tokenizer=tokenizer,\n",
    "    n_words=100,\n",
    "    max_len=MAX_SEQ_LEN\n",
    ")"
   ]
  },
  {
   "cell_type": "markdown",
   "id": "efcf6328",
   "metadata": {},
   "source": [
    "<div style=\"background-color: blue; height: 2px; margin: 10px 0;\"></div>"
   ]
  },
  {
   "cell_type": "markdown",
   "id": "94405403",
   "metadata": {},
   "source": [
    "## 4 Общий вывод"
   ]
  },
  {
   "cell_type": "markdown",
   "id": "03c2f2cf",
   "metadata": {},
   "source": [
    "В ходе исследования была построена модель нейросети, основанная на слое двунаправленной LSTM для обеспечения ей временной памяти. Модель продемонстрировала любопытные результаты предсказания следующего слова на основе заданного ей запроса. Результат можно улучшить, увеличив количество обрабатываемых данных, однако это возможно только при наличии удовлетворяющих задаче технических средств."
   ]
  },
  {
   "cell_type": "markdown",
   "id": "f12465d7",
   "metadata": {},
   "source": [
    "<div style=\"text-align: center; font-size: 20px; padding: 15px 0;\">\n",
    "    <a href=\"#Содержание\" data-toc-modified-id=\"Содержание\" style=\"text-decoration: none; color: #296eaa; border: 2px dashed #296eaa; opacity: 0.8; border-radius: 3px; padding: 10px 80px;\">\n",
    "        В начало файла ↑\n",
    "    </a>\n",
    "</div>"
   ]
  }
 ],
 "metadata": {
  "kernelspec": {
   "display_name": "Python 3 (ipykernel)",
   "language": "python",
   "name": "python3"
  },
  "language_info": {
   "codemirror_mode": {
    "name": "ipython",
    "version": 3
   },
   "file_extension": ".py",
   "mimetype": "text/x-python",
   "name": "python",
   "nbconvert_exporter": "python",
   "pygments_lexer": "ipython3",
   "version": "3.10.11"
  }
 },
 "nbformat": 4,
 "nbformat_minor": 5
}

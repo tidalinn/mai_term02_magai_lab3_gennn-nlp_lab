{
 "cells": [
  {
   "cell_type": "markdown",
   "id": "be80210a",
   "metadata": {},
   "source": [
    "<h1>Содержание<span class=\"tocSkip\"></span></h1>\n",
    "<br>\n",
    "<div class=\"toc\">\n",
    "    <ul class=\"toc-item\">\n",
    "        <li>\n",
    "            <span>\n",
    "                <a href=\"#1-Подготовка-окружения\">\n",
    "                    <span class=\"toc-item-num\">1&nbsp;&nbsp;</span>\n",
    "                    Подготовка окружения\n",
    "                </a>\n",
    "            </span>\n",
    "        </li>\n",
    "        <li>\n",
    "            <span>\n",
    "                <a href=\"#2-Загрузка-данных\">\n",
    "                    <span class=\"toc-item-num\">2&nbsp;&nbsp;</span>\n",
    "                    Загрузка данных\n",
    "                </a>\n",
    "            </span>\n",
    "        </li>\n",
    "        <li>\n",
    "            <span>\n",
    "                <a href=\"#3-Двунаправленная-LSTM\">\n",
    "                    <span class=\"toc-item-num\">3&nbsp;&nbsp;</span>\n",
    "                    Двунаправленная LSTM\n",
    "                </a>\n",
    "            </span>\n",
    "            <ul class=\"toc-item\">\n",
    "                <li>\n",
    "                    <span>\n",
    "                        <a href=\"#3.1-Токенизация-слов\">\n",
    "                            <span class=\"toc-item-num\">3.1&nbsp;&nbsp;</span>\n",
    "                            Токенизация слов\n",
    "                        </a>\n",
    "                    </span>\n",
    "                </li>\n",
    "                <li>\n",
    "                    <span>\n",
    "                        <a href=\"#3.2-Подготовка-модели\">\n",
    "                            <span class=\"toc-item-num\">3.2&nbsp;&nbsp;</span>\n",
    "                            Подготовка модели\n",
    "                        </a>\n",
    "                    </span>\n",
    "                </li>\n",
    "                <li>\n",
    "                    <span>\n",
    "                        <a href=\"#3.3-Обучение-модели\">\n",
    "                            <span class=\"toc-item-num\">3.3&nbsp;&nbsp;</span>\n",
    "                            Обучение модели\n",
    "                        </a>\n",
    "                    </span>\n",
    "                </li>\n",
    "                <li>\n",
    "                    <span>\n",
    "                        <a href=\"#3.4-Генерация-текста\">\n",
    "                            <span class=\"toc-item-num\">3.4&nbsp;&nbsp;</span>\n",
    "                            Генерация текста\n",
    "                        </a>\n",
    "                    </span>\n",
    "                </li>\n",
    "            </ul>\n",
    "        </li>\n",
    "        <li>\n",
    "            <span>\n",
    "                <a href=\"#4-Общий-вывод\">\n",
    "                    <span class=\"toc-item-num\">4&nbsp;&nbsp;</span>\n",
    "                    Общий вывод\n",
    "                </a>\n",
    "            </span>\n",
    "        </li>\n",
    "    </ul>\n",
    "</div>"
   ]
  },
  {
   "cell_type": "markdown",
   "id": "7e9d4a79",
   "metadata": {},
   "source": [
    "# Генеративные текстовые нейросети | Двунаправленная LSTM"
   ]
  },
  {
   "cell_type": "markdown",
   "id": "7ef168b4",
   "metadata": {},
   "source": [
    "**Постановка задачи:** натренировать и сравнить качество нескольких генеративных текстовых моделей на одном из заданных текстовых датасетов.\n",
    "\n",
    "**Источник данных:** [Harry Potter and the Methods of Rationality](https://hpmor.ru/).\n",
    "\n",
    "**Характер данных:** текст книги \"Гарри Поттер и методы рационального мышления\".\n",
    "\n",
    "**Основные этапы:** исследовать следующие нейросетевые архитектуры:\n",
    "\n",
    "1. Simple RNN с посимвольной и пословной токенизацией.\n",
    "2. Однонаправленная однослойная и многослойная LSTM c посимвольной токенизацией и токенизацией по словам и [на основе BPE](https://keras.io/api/keras_nlp/tokenizers/byte_pair_tokenizer/).\n",
    "3. Двунаправленная LSTM.\n",
    "4. *(На хорошую оценку)* трансформерная архитектура (GPT) \"с нуля\" [пример](https://keras.io/examples/generative/text_generation_gpt/).\n",
    "5. *(На отличную оценку)* дообучение предобученной GPT-сети [пример](https://github.com/ZotovaElena/RuGPT3_finetuning)."
   ]
  },
  {
   "cell_type": "markdown",
   "id": "ca5c62fd",
   "metadata": {},
   "source": [
    "---"
   ]
  },
  {
   "cell_type": "markdown",
   "id": "597fac6b",
   "metadata": {},
   "source": [
    "# Реализации\n",
    "\n",
    "1. [RNN с посимвольной токенизацией](RNN_char.ipynb)\n",
    "2. [RNN с пословной токенизацией](RNN_word.ipynb)\n",
    "3. [Однонаправленная LSTM + BPE](LSTM_unidirectional_BPE.ipynb)\n",
    "4. Двунаправленная LSTM (текущий файл)\n",
    "5. [Архитектура GPT](GPT_architecture.ipynb)\n",
    "6. [Дообучение GPT](GPT_finetuning.ipynb)"
   ]
  },
  {
   "cell_type": "markdown",
   "id": "f83f3ad7",
   "metadata": {},
   "source": [
    "<div style=\"background-color: blue; height: 2px; margin: 10px 0;\"></div>"
   ]
  },
  {
   "cell_type": "markdown",
   "id": "ec375e8c",
   "metadata": {},
   "source": [
    "## 1 Подготовка окружения"
   ]
  },
  {
   "cell_type": "markdown",
   "id": "f1254a84",
   "metadata": {},
   "source": [
    "Импорт библиотек:"
   ]
  },
  {
   "cell_type": "code",
   "execution_count": 1,
   "id": "13be500e",
   "metadata": {},
   "outputs": [],
   "source": [
    "import numpy as np\n",
    "\n",
    "import random\n",
    "import os\n",
    "\n",
    "from tensorflow import keras\n",
    "from tensorflow.keras.preprocessing import sequence\n",
    "\n",
    "import keras.layers as l\n",
    "\n",
    "from keras import models, callbacks, utils\n",
    "from keras.preprocessing import text\n",
    "\n",
    "# custom funcs\n",
    "import utils.web_scrapping as web\n",
    "import utils.process_checking as check\n",
    "import utils.data_preprocessing as data_prep\n",
    "import utils.charts_plotting as chart\n",
    "import utils.predictions_making as pred"
   ]
  },
  {
   "cell_type": "markdown",
   "id": "afbcf0dc",
   "metadata": {},
   "source": [
    "<div style=\"background-color: blue; height: 2px; margin: 10px 0;\"></div>"
   ]
  },
  {
   "cell_type": "markdown",
   "id": "1c1480b9",
   "metadata": {},
   "source": [
    "## Загрузка данных"
   ]
  },
  {
   "cell_type": "markdown",
   "id": "b2a5de93",
   "metadata": {},
   "source": [
    "Формирование/загрузка набора данных в зависимости от его наличия:"
   ]
  },
  {
   "cell_type": "code",
   "execution_count": 2,
   "id": "d00e982b",
   "metadata": {},
   "outputs": [
    {
     "name": "stdout",
     "output_type": "stream",
     "text": [
      "Uploaded from data/hpmor.txt\n"
     ]
    }
   ],
   "source": [
    "data = web.load_data('https://hpmor.ru/', 'hpmor.txt')"
   ]
  },
  {
   "cell_type": "markdown",
   "id": "5d8c4886",
   "metadata": {},
   "source": [
    "Выведение на экран начала текста:"
   ]
  },
  {
   "cell_type": "code",
   "execution_count": 3,
   "id": "211a5c9a",
   "metadata": {},
   "outputs": [
    {
     "data": {
      "text/plain": [
       "'гарри поттер и методы рационального мышления. элиезер юдковский (less wrong). петуния вышла замуж не за дурсля, а за университетского профессора, и гарри попал в гораздо более благоприятную среду. у него были частные учителя, дискуссии с отцом, а главное — книги, сотни и тысячи научных и фантастических книг. в 11 лет гарри знаком с квантовой механикой, когнитивной психологией, теорией вероятностей и другими вещами. но гарри не просто вундеркинд, у него есть загадочная тёмная сторона, которая явн'"
      ]
     },
     "execution_count": 3,
     "metadata": {},
     "output_type": "execute_result"
    }
   ],
   "source": [
    "data[:500]"
   ]
  },
  {
   "cell_type": "markdown",
   "id": "3d1d88a0",
   "metadata": {},
   "source": [
    "Выведение на экран общего числа слов и предложений в тексте:"
   ]
  },
  {
   "cell_type": "code",
   "execution_count": 4,
   "id": "49d0344c",
   "metadata": {},
   "outputs": [
    {
     "name": "stdout",
     "output_type": "stream",
     "text": [
      "Всего слов: 559791\n",
      "Всего предложений: 37351\n"
     ]
    }
   ],
   "source": [
    "check.print_total(data)"
   ]
  },
  {
   "cell_type": "markdown",
   "id": "9a20371b",
   "metadata": {},
   "source": [
    "Разделение текста на отдельные предложения:"
   ]
  },
  {
   "cell_type": "code",
   "execution_count": 5,
   "id": "78e02ce9",
   "metadata": {},
   "outputs": [],
   "source": [
    "data_sentences = data_prep.split_into_sentences(data)"
   ]
  },
  {
   "cell_type": "markdown",
   "id": "bec0108e",
   "metadata": {},
   "source": [
    "Выведение на экран начала текста:"
   ]
  },
  {
   "cell_type": "code",
   "execution_count": 6,
   "id": "20c8a67e",
   "metadata": {},
   "outputs": [
    {
     "data": {
      "text/plain": [
       "['гарри поттер и методы рационального мышления',\n",
       " 'элиезер юдковский',\n",
       " 'петуния вышла замуж не за дурсля а за университетского профессора и гарри попал в гораздо более благоприятную среду',\n",
       " 'у него были частные учителя дискуссии с отцом а главное  книги сотни и тысячи научных и фантастических книг',\n",
       " 'в 11 лет гарри знаком с квантовой механикой когнитивной психологией теорией вероятностей и другими вещами']"
      ]
     },
     "execution_count": 6,
     "metadata": {},
     "output_type": "execute_result"
    }
   ],
   "source": [
    "data_sentences[:5]"
   ]
  },
  {
   "cell_type": "markdown",
   "id": "5613c377",
   "metadata": {},
   "source": [
    "Сокращение количества предложений для обеспечения работы модели:"
   ]
  },
  {
   "cell_type": "code",
   "execution_count": 7,
   "id": "716cd8e0",
   "metadata": {},
   "outputs": [],
   "source": [
    "data_sentences = data_sentences[:1000]"
   ]
  },
  {
   "cell_type": "markdown",
   "id": "6d37232c",
   "metadata": {},
   "source": [
    "Выведение на экран количества слов в уменьшенном тексте:"
   ]
  },
  {
   "cell_type": "code",
   "execution_count": 8,
   "id": "11236d4c",
   "metadata": {},
   "outputs": [
    {
     "name": "stdout",
     "output_type": "stream",
     "text": [
      "Всего слов: 13549\n"
     ]
    }
   ],
   "source": [
    "check.print_total(' '.join(data_sentences))"
   ]
  },
  {
   "cell_type": "markdown",
   "id": "1e1b88fc",
   "metadata": {},
   "source": [
    "<div style=\"background-color: blue; height: 2px; margin: 10px 0;\"></div>"
   ]
  },
  {
   "cell_type": "markdown",
   "id": "66105900",
   "metadata": {},
   "source": [
    "## 3 Двунаправленная LSTM"
   ]
  },
  {
   "cell_type": "markdown",
   "id": "5cee11b1",
   "metadata": {},
   "source": [
    "### 3.1 Токенизация слов"
   ]
  },
  {
   "cell_type": "markdown",
   "id": "2d065ea4",
   "metadata": {},
   "source": [
    "Объявление объекта токенизатора:"
   ]
  },
  {
   "cell_type": "code",
   "execution_count": 9,
   "id": "56068964",
   "metadata": {},
   "outputs": [],
   "source": [
    "tokenizer = text.Tokenizer()"
   ]
  },
  {
   "cell_type": "markdown",
   "id": "48cd5139",
   "metadata": {},
   "source": [
    "Токенизация предложений:"
   ]
  },
  {
   "cell_type": "code",
   "execution_count": 10,
   "id": "b7159122",
   "metadata": {},
   "outputs": [],
   "source": [
    "tokenizer.fit_on_texts(data_sentences)"
   ]
  },
  {
   "cell_type": "markdown",
   "id": "dbe504cf",
   "metadata": {},
   "source": [
    "Выведение на экран количества токенов в словаре:"
   ]
  },
  {
   "cell_type": "code",
   "execution_count": 11,
   "id": "c8f218c8",
   "metadata": {},
   "outputs": [
    {
     "name": "stdout",
     "output_type": "stream",
     "text": [
      "Всего слов: 4768\n"
     ]
    }
   ],
   "source": [
    "print('Всего слов:', len(tokenizer.word_index))"
   ]
  },
  {
   "cell_type": "markdown",
   "id": "b01903ba",
   "metadata": {},
   "source": [
    "Выведение на экран начала словаря токенов:"
   ]
  },
  {
   "cell_type": "code",
   "execution_count": 12,
   "id": "1cfab927",
   "metadata": {},
   "outputs": [
    {
     "data": {
      "text/plain": [
       "[('и', 1),\n",
       " ('в', 2),\n",
       " ('не', 3),\n",
       " ('что', 4),\n",
       " ('гарри', 5),\n",
       " ('я', 6),\n",
       " ('на', 7),\n",
       " ('с', 8),\n",
       " ('макгонагалл', 9),\n",
       " ('но', 10)]"
      ]
     },
     "execution_count": 12,
     "metadata": {},
     "output_type": "execute_result"
    }
   ],
   "source": [
    "check.print_tokenizer_vocabulary(tokenizer)"
   ]
  },
  {
   "cell_type": "markdown",
   "id": "56dadef3",
   "metadata": {},
   "source": [
    "Формирование признаков:"
   ]
  },
  {
   "cell_type": "code",
   "execution_count": 13,
   "id": "eb4170c3",
   "metadata": {},
   "outputs": [],
   "source": [
    "features = data_prep.get_features(data_sentences, tokenizer)"
   ]
  },
  {
   "cell_type": "markdown",
   "id": "18da8f44",
   "metadata": {},
   "source": [
    "Выведение на экран начала признаков:"
   ]
  },
  {
   "cell_type": "code",
   "execution_count": 14,
   "id": "65c62a3e",
   "metadata": {},
   "outputs": [
    {
     "data": {
      "text/plain": [
       "[[5, 18],\n",
       " [5, 18, 1],\n",
       " [5, 18, 1, 565],\n",
       " [5, 18, 1, 565, 566],\n",
       " [5, 18, 1, 565, 566, 567],\n",
       " [1463, 1464],\n",
       " [108, 1465],\n",
       " [108, 1465, 1466],\n",
       " [108, 1465, 1466, 3],\n",
       " [108, 1465, 1466, 3, 25]]"
      ]
     },
     "execution_count": 14,
     "metadata": {},
     "output_type": "execute_result"
    }
   ],
   "source": [
    "features[:10]"
   ]
  },
  {
   "cell_type": "markdown",
   "id": "35a3fc29",
   "metadata": {},
   "source": [
    "Задание констант:"
   ]
  },
  {
   "cell_type": "code",
   "execution_count": 15,
   "id": "129a27a9",
   "metadata": {},
   "outputs": [],
   "source": [
    "VOCAB_LEN = len(tokenizer.word_index) + 1\n",
    "MAX_SEQ_LEN = max([len(x) for x in features])\n",
    "BATCH_SIZE = 100"
   ]
  },
  {
   "cell_type": "markdown",
   "id": "3defa176",
   "metadata": {},
   "source": [
    "Преобразование признаков:"
   ]
  },
  {
   "cell_type": "code",
   "execution_count": 16,
   "id": "5d577cef",
   "metadata": {},
   "outputs": [],
   "source": [
    "features = np.array(sequence.pad_sequences(features, maxlen=MAX_SEQ_LEN, padding='pre'))"
   ]
  },
  {
   "cell_type": "markdown",
   "id": "217d4852",
   "metadata": {},
   "source": [
    "Выведение на экран начала преобразованных признаков:"
   ]
  },
  {
   "cell_type": "code",
   "execution_count": 17,
   "id": "4b8bdcdc",
   "metadata": {},
   "outputs": [
    {
     "data": {
      "text/plain": [
       "array([[   0,    0,    0, ...,    0,    5,   18],\n",
       "       [   0,    0,    0, ...,    5,   18,    1],\n",
       "       [   0,    0,    0, ...,   18,    1,  565],\n",
       "       ...,\n",
       "       [   0,    0,    0, ...,  108, 1465, 1466],\n",
       "       [   0,    0,    0, ..., 1465, 1466,    3],\n",
       "       [   0,    0,    0, ..., 1466,    3,   25]])"
      ]
     },
     "execution_count": 17,
     "metadata": {},
     "output_type": "execute_result"
    }
   ],
   "source": [
    "features[:10]"
   ]
  },
  {
   "cell_type": "markdown",
   "id": "bea9da10",
   "metadata": {},
   "source": [
    "Задание признаков и целевого признака:"
   ]
  },
  {
   "cell_type": "code",
   "execution_count": 18,
   "id": "593c2fdb",
   "metadata": {},
   "outputs": [],
   "source": [
    "features, target = features[:,:-1], features[:,-1]\n",
    "target = utils.to_categorical(target, num_classes=VOCAB_LEN)"
   ]
  },
  {
   "cell_type": "markdown",
   "id": "65fb3bae",
   "metadata": {},
   "source": [
    "Выведение на экран экземпляра признаков и целевого признака:"
   ]
  },
  {
   "cell_type": "code",
   "execution_count": 19,
   "id": "703a03ce",
   "metadata": {},
   "outputs": [
    {
     "name": "stdout",
     "output_type": "stream",
     "text": [
      "Признаки (103,):\n",
      "[   0    0    0    0    0    0    0    0    0    0    0    0    0    0\n",
      "    0    0    0    0    0    0    0    0    0    0    0    0    0    0\n",
      "    0    0    0    0    0    0    0    0    0    0    0    0    0    0\n",
      "    0    0    0    0    0    0    0    0    0    0    0    0    0    0\n",
      "    0    0    0    0    0    0    0    0    0    0    0    0    0    0\n",
      "    0    0    0    0    0    0    0    0    0    0    0    0    0    0\n",
      "    0    0    0    0    2  289 1879 1880  351  144 1881   36   20 1882\n",
      "  919  920  464  117 1883]\n",
      "\n",
      "Перевод в текст:\n",
      "в глазах петунии стояли слёзы лили отказывала мне по разным нелепым причинам говорила будто наступит\n",
      "\n",
      "Целевой признак (4769,):\n",
      "921\n",
      "\n",
      "Перевод в текст:\n",
      "конец\n",
      "\n"
     ]
    }
   ],
   "source": [
    "check.print_single_element(features, target, tokenizer.index_word)"
   ]
  },
  {
   "cell_type": "markdown",
   "id": "e7efe05b",
   "metadata": {},
   "source": [
    "---"
   ]
  },
  {
   "cell_type": "markdown",
   "id": "1abcee35",
   "metadata": {},
   "source": [
    "### 3.2 Подготовка модели"
   ]
  },
  {
   "cell_type": "markdown",
   "id": "81daa94b",
   "metadata": {},
   "source": [
    "Задание модели:"
   ]
  },
  {
   "cell_type": "code",
   "execution_count": 20,
   "id": "694274ce",
   "metadata": {},
   "outputs": [],
   "source": [
    "model = models.Sequential([\n",
    "    l.Embedding(VOCAB_LEN, BATCH_SIZE, input_length=MAX_SEQ_LEN-1),\n",
    "    l.Bidirectional(l.LSTM(150, return_sequences=True)),\n",
    "    l.Dropout(0.2),\n",
    "    l.LSTM(100),\n",
    "    l.Dense(VOCAB_LEN / 2, activation='relu', kernel_regularizer=keras.regularizers.l2(0.01)),\n",
    "    l.Dense(VOCAB_LEN, activation='softmax')\n",
    "])"
   ]
  },
  {
   "cell_type": "markdown",
   "id": "9b818b58",
   "metadata": {},
   "source": [
    "Выведение на экран таблицы поведения параметров на слоях нейросети:"
   ]
  },
  {
   "cell_type": "code",
   "execution_count": 21,
   "id": "7649ea94",
   "metadata": {},
   "outputs": [
    {
     "name": "stdout",
     "output_type": "stream",
     "text": [
      "Model: \"sequential\"\n",
      "_________________________________________________________________\n",
      " Layer (type)                Output Shape              Param #   \n",
      "=================================================================\n",
      " embedding (Embedding)       (None, 103, 100)          476900    \n",
      "                                                                 \n",
      " bidirectional (Bidirectiona  (None, 103, 300)         301200    \n",
      " l)                                                              \n",
      "                                                                 \n",
      " dropout (Dropout)           (None, 103, 300)          0         \n",
      "                                                                 \n",
      " lstm_1 (LSTM)               (None, 100)               160400    \n",
      "                                                                 \n",
      " dense (Dense)               (None, 2384)              240784    \n",
      "                                                                 \n",
      " dense_1 (Dense)             (None, 4769)              11374065  \n",
      "                                                                 \n",
      "=================================================================\n",
      "Total params: 12,553,349\n",
      "Trainable params: 12,553,349\n",
      "Non-trainable params: 0\n",
      "_________________________________________________________________\n"
     ]
    }
   ],
   "source": [
    "model.summary()"
   ]
  },
  {
   "cell_type": "markdown",
   "id": "e4436658",
   "metadata": {},
   "source": [
    "Проверка наличия папки для хранения изображений:"
   ]
  },
  {
   "cell_type": "code",
   "execution_count": 22,
   "id": "fdf102cb",
   "metadata": {},
   "outputs": [],
   "source": [
    "if os.path.isdir('images/') == False:\n",
    "    os.mkdir('images/')"
   ]
  },
  {
   "cell_type": "markdown",
   "id": "40610c24",
   "metadata": {},
   "source": [
    "Выведение на экран отображения послойной обработки данных моделью:"
   ]
  },
  {
   "cell_type": "code",
   "execution_count": 23,
   "id": "39205fc2",
   "metadata": {},
   "outputs": [
    {
     "data": {
      "image/png": "[encoded data removed]",
      "text/plain": [
       "<IPython.core.display.Image object>"
      ]
     },
     "execution_count": 23,
     "metadata": {},
     "output_type": "execute_result"
    }
   ],
   "source": [
    "utils.plot_model(model, 'images/lstm_bi_model.png', show_shapes=True, dpi=70)"
   ]
  },
  {
   "cell_type": "markdown",
   "id": "37a86b19",
   "metadata": {},
   "source": [
    "---"
   ]
  },
  {
   "cell_type": "markdown",
   "id": "5a80af4e",
   "metadata": {},
   "source": [
    "### 3.3 Обучение модели"
   ]
  },
  {
   "cell_type": "markdown",
   "id": "9b7d352c",
   "metadata": {},
   "source": [
    "Проверка наличия папки для хранения контрольных точек:"
   ]
  },
  {
   "cell_type": "code",
   "execution_count": 24,
   "id": "cd12e753",
   "metadata": {},
   "outputs": [],
   "source": [
    "if os.path.isdir('checkpoints/') == False:\n",
    "    os.mkdir('checkpoints/')"
   ]
  },
  {
   "cell_type": "markdown",
   "id": "2329cf30",
   "metadata": {},
   "source": [
    "Задание пути для хранения контрольных точек:"
   ]
  },
  {
   "cell_type": "code",
   "execution_count": 25,
   "id": "a8390ad1",
   "metadata": {},
   "outputs": [],
   "source": [
    "path_checkpoints = 'checkpoints/lstm_bi'"
   ]
  },
  {
   "cell_type": "markdown",
   "id": "5eb522f9",
   "metadata": {},
   "source": [
    "Проверка наличия папки для хранения контрольных точек:"
   ]
  },
  {
   "cell_type": "code",
   "execution_count": 26,
   "id": "aa414b0b",
   "metadata": {},
   "outputs": [],
   "source": [
    "if os.path.isdir(path_checkpoints) == False:\n",
    "    os.mkdir(path_checkpoints)"
   ]
  },
  {
   "cell_type": "markdown",
   "id": "8e7c3548",
   "metadata": {},
   "source": [
    "Задание коллбека точек сохранения:"
   ]
  },
  {
   "cell_type": "code",
   "execution_count": 27,
   "id": "4823a826",
   "metadata": {},
   "outputs": [],
   "source": [
    "checkpoint_path = os.path.join(path_checkpoints, 'checkpoint_{epoch}')\n",
    "checkpoint_callback = callbacks.ModelCheckpoint(filepath=checkpoint_path, save_weights_only=True)"
   ]
  },
  {
   "cell_type": "markdown",
   "id": "9b2259e8",
   "metadata": {},
   "source": [
    "Компиляция модели с оптимизатором и функцией потерь:"
   ]
  },
  {
   "cell_type": "code",
   "execution_count": 28,
   "id": "b0f5b4d9",
   "metadata": {},
   "outputs": [],
   "source": [
    "model.compile( optimizer='adam', loss='categorical_crossentropy', metrics=['accuracy'])"
   ]
  },
  {
   "cell_type": "markdown",
   "id": "43dab9ed",
   "metadata": {},
   "source": [
    "Обучение модели:"
   ]
  },
  {
   "cell_type": "code",
   "execution_count": null,
   "id": "6ba9d1e0",
   "metadata": {},
   "outputs": [
    {
     "name": "stdout",
     "output_type": "stream",
     "text": [
      "Epoch 1/50\n",
      "318/318 [==============================] - 188s 581ms/step - loss: 7.8204 - accuracy: 0.0246 - val_loss: 7.6170 - val_accuracy: 0.0220\n",
      "Epoch 2/50\n",
      " 72/318 [=====>........................] - ETA: 2:18 - loss: 7.2643 - accuracy: 0.0239"
     ]
    }
   ],
   "source": [
    "history = model.fit(features, target, epochs=50, validation_split=0.2, verbose=1)"
   ]
  },
  {
   "cell_type": "markdown",
   "id": "327bfaec",
   "metadata": {},
   "source": [
    "Выведение на экран графика значений функции потерь и качества модели:"
   ]
  },
  {
   "cell_type": "code",
   "execution_count": null,
   "id": "b7734038",
   "metadata": {},
   "outputs": [],
   "source": [
    "chart.plot_loss_acc(history)"
   ]
  },
  {
   "cell_type": "markdown",
   "id": "053f4506",
   "metadata": {},
   "source": [
    "Сброс состояния модели:"
   ]
  },
  {
   "cell_type": "code",
   "execution_count": null,
   "id": "e3d76cab",
   "metadata": {},
   "outputs": [],
   "source": [
    "model.reset_states()"
   ]
  },
  {
   "cell_type": "markdown",
   "id": "83c96013",
   "metadata": {},
   "source": [
    "---"
   ]
  },
  {
   "cell_type": "markdown",
   "id": "2d50a761",
   "metadata": {},
   "source": [
    "### 3.4 Генерация текста"
   ]
  },
  {
   "cell_type": "markdown",
   "id": "1c7268d9",
   "metadata": {},
   "source": [
    "Выведение на экран результата предсказаний:"
   ]
  },
  {
   "cell_type": "code",
   "execution_count": null,
   "id": "a4a59e64",
   "metadata": {},
   "outputs": [],
   "source": [
    "pred.predict_next_word(\n",
    "    sample='гарри поттер',\n",
    "    model=model,\n",
    "    tokenizer=tokenizer,\n",
    "    n_words=100,\n",
    "    max_len=MAX_SEQ_LEN\n",
    ")"
   ]
  },
  {
   "cell_type": "markdown",
   "id": "d7c5512f",
   "metadata": {},
   "source": [
    "Выведение на экран результата предсказаний:"
   ]
  },
  {
   "cell_type": "code",
   "execution_count": null,
   "id": "ed6f8bde",
   "metadata": {},
   "outputs": [],
   "source": [
    "pred.predict_next_word(\n",
    "    sample='однажды в зачарованном лесу',\n",
    "    model=model,\n",
    "    tokenizer=tokenizer,\n",
    "    n_words=100,\n",
    "    max_len=MAX_SEQ_LEN\n",
    ")"
   ]
  },
  {
   "cell_type": "markdown",
   "id": "efcf6328",
   "metadata": {},
   "source": [
    "<div style=\"background-color: blue; height: 2px; margin: 10px 0;\"></div>"
   ]
  },
  {
   "cell_type": "markdown",
   "id": "94405403",
   "metadata": {},
   "source": [
    "## 4 Общий вывод"
   ]
  },
  {
   "cell_type": "markdown",
   "id": "17401e01",
   "metadata": {},
   "source": [
    "В ходе исследования была построена модель нейросети, основанная на слое двунаправленной LSTM для обеспечения ей временной памяти. Модель продемонстрировала неплохие результаты предсказания следующего слова на основе заданного ей запроса. Результат можно улучшить, увеличив количество обрабатываемых данных, однако это возможно только при наличии удовлетворяющих задаче технических средств."
   ]
  },
  {
   "cell_type": "markdown",
   "id": "f12465d7",
   "metadata": {},
   "source": [
    "<div style=\"text-align: center; font-size: 20px; padding: 15px 0;\">\n",
    "    <a href=\"#Содержание\" data-toc-modified-id=\"Содержание\" style=\"text-decoration: none; color: #296eaa; border: 2px dashed #296eaa; opacity: 0.8; border-radius: 3px; padding: 10px 80px;\">\n",
    "        В начало файла ↑\n",
    "    </a>\n",
    "</div>"
   ]
  }
 ],
 "metadata": {
  "kernelspec": {
   "display_name": "Python 3 (ipykernel)",
   "language": "python",
   "name": "python3"
  },
  "language_info": {
   "codemirror_mode": {
    "name": "ipython",
    "version": 3
   },
   "file_extension": ".py",
   "mimetype": "text/x-python",
   "name": "python",
   "nbconvert_exporter": "python",
   "pygments_lexer": "ipython3",
   "version": "3.10.11"
  }
 },
 "nbformat": 4,
 "nbformat_minor": 5
}
